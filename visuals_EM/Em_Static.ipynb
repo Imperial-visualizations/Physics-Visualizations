{
 "cells": [
  {
   "cell_type": "code",
   "execution_count": null,
   "metadata": {
    "collapsed": true,
    "extensions": {
     "jupyter_dashboards": {
      "version": 1,
      "views": {
       "grid_default": {
        "col": 8,
        "height": 4,
        "hidden": true,
        "row": 7,
        "width": 4
       },
       "report_default": {}
      }
     }
    }
   },
   "outputs": [],
   "source": [
    "from plotly.offline import download_plotlyjs,init_notebook_mode,plot,iplot\n",
    "import plotly.graph_objs as go\n",
    "init_notebook_mode(connected=True)\n",
    "from IPython.display import Image\n",
    "import Electromagnetism as em\n",
    "import json"
   ]
  },
  {
   "cell_type": "code",
   "execution_count": null,
   "metadata": {
    "collapsed": true,
    "extensions": {
     "jupyter_dashboards": {
      "version": 1,
      "views": {
       "grid_default": {
        "hidden": true
       },
       "report_default": {}
      }
     }
    }
   },
   "outputs": [],
   "source": [
    "#defining our initial surface and test charge\n",
    "\n",
    "p=[0.,4.,2.]\n",
    "torus=em.surface(density= 1.,shape = 'torus', linear_dim=2.)\n",
    "test=em.test_charge(position=p)\n",
    "surf=torus.make_plot()\n",
    "F= test.force(torus)\n",
    "\n",
    "\n",
    "#creating our initial surface, point, and force(line) plot\n"
   ]
  },
  {
   "cell_type": "code",
   "execution_count": null,
   "metadata": {
    "collapsed": true
   },
   "outputs": [],
   "source": [
    "\n",
    "trace1 = go.Surface(\n",
    "            colorscale = [[0,'rgb('+str(115)+',7,122)'],[1,'rgb('+str(80)+',80,230)']],\n",
    "            showscale=False,\n",
    "            z = surf[2],\n",
    "            x= surf[0],\n",
    "            y = surf[1])\n",
    "\n",
    "trace2 = go.Scatter3d(\n",
    "            x = [p[0],p[0]+F[0]*(0.5*10**(-9))],\n",
    "            y= [p[1],p[1]+F[1]*(0.5*10**(-9))],\n",
    "            z=[p[2],p[2]+F[2]*(0.5*10**(-9))],\n",
    "            marker = dict(\n",
    "                    size=2,\n",
    "                    color= 'rgb(21,117,22)',\n",
    "                    symbol= 'diamond'\n",
    "                    ),\n",
    "            line=dict(\n",
    "                    width=5,\n",
    "                    color='rgb(21,117,22)',\n",
    "                    ))\n",
    "\n",
    "\n",
    "trace3 = go.Scatter3d(\n",
    "            x = [p[0]],\n",
    "            y= [p[1]],\n",
    "            z=[p[2]],\n",
    "            marker = dict(\n",
    "                    size=5,\n",
    "                    color= 'rgb(214,11,8)'\n",
    "                    )\n",
    "            )\n",
    "\n",
    "data=[trace1,trace2,trace3]\n",
    "\n",
    "layout = dict(\n",
    "                width = 700,height=700,\n",
    "                autosize=True,\n",
    "                scene = dict(\n",
    "                xaxis = dict(range=[-8, 8], autorange=False, zeroline=False),\n",
    "                yaxis= dict(range=[-8, 8], autorange=False, zeroline=False),\n",
    "                zaxis=dict(range=[-8, 8], autorange=False, zeroline=False),\n",
    "                aspectmode = 'cube',\n",
    "                camera = dict(center=dict(x=0,y=0,z=0),eye=dict(x=1,y=-1,z=0.1))\n",
    "                ),\n",
    "                margin=dict(),\n",
    "                showlegend = False\n",
    "                )\n",
    "\n",
    "\n",
    "fig=go.Figure(data=data,layout=layout)\n",
    "iplot(fig)"
   ]
  },
  {
   "cell_type": "code",
   "execution_count": null,
   "metadata": {
    "collapsed": true,
    "scrolled": true
   },
   "outputs": [],
   "source": [
    "data = {}\n",
    "data.update({\"sphere\":[{}]})\n",
    "for a in range (2,12):\n",
    "    sphere = em.surface(1.,'sphere',a/5)\n",
    "    data[\"sphere\"][0].update({\"r_\"+str(a):[{}]})\n",
    "    data[\"sphere\"][0][\"r_\"+str(a)][0].update({\"s\":[{\"x\":[sphere.make_plot()[0].tolist()],\"y\":[sphere.make_plot()[1].tolist()],\"z\":[sphere.make_plot()[2].tolist()]}]})\n",
    "    print(\"sphere first loop over\")\n",
    "    for b in range (-5,6):\n",
    "        p_1=[b,0.75*b,(3.- (b**2)/8)]\n",
    "        point=em.test_charge(p_1)\n",
    "        F = point.force(sphere)\n",
    "        data[\"sphere\"][0][\"r_\"+str(a)][0].update({\"p\"+str(b):[{}]})\n",
    "        data[\"sphere\"][0][\"r_\"+str(a)][0][\"p\"+str(b)][0].update({\"p\":[{\"x\":[p_1[0]],\"y\":[p_1[1]],\"z\":[p_1[2]]}],\"f\":[{\"x\":[p_1[0],p_1[0]+F[0]*(0.5*10**(-9))],\"y\":[p_1[1],p_1[1]+F[1]*(0.5*10**(-9))],\"z\":[p_1[2],p_1[2]+F[2]*(0.5*10**(-9))]}]})\n",
    "        print(\"sphere second loop over\")\n",
    "        "
   ]
  },
  {
   "cell_type": "code",
   "execution_count": null,
   "metadata": {
    "collapsed": true,
    "scrolled": true
   },
   "outputs": [],
   "source": [
    "data.update({\"disk\":[{}]})\n",
    "for a in range (2,12):\n",
    "    disk = em.surface(1.,'disk',a/5)\n",
    "    data[\"disk\"][0].update({\"r_\"+str(a):[{}]})\n",
    "    data[\"disk\"][0][\"r_\"+str(a)][0].update({\"s\":[{\"x\":[disk.make_plot()[0].tolist()],\"y\":[disk.make_plot()[1].tolist()],\"z\":[disk.make_plot()[2].tolist()]}]})\n",
    "    print(\"disk first loop over\")\n",
    "    for b in range(-5,6):\n",
    "        p_1=[b,0.75*b,(3.- (b**2)/8)]\n",
    "        point=em.test_charge(p_1)\n",
    "        F = point.force(disk)\n",
    "        data[\"disk\"][0][\"r_\"+str(a)][0].update({\"p\"+str(b):[{}]})\n",
    "        data[\"disk\"][0][\"r_\"+str(a)][0][\"p\"+str(b)][0].update({\"p\":[{\"x\":[p_1[0]],\"y\":[p_1[1]],\"z\":[p_1[2]]}],\"f\":[{\"x\":[p_1[0],p_1[0]+F[0]*(0.5*10**(-9))],\"y\":[p_1[1],p_1[1]+F[1]*(0.5*10**(-9))],\"z\":[p_1[2],p_1[2]+F[2]*(0.5*10**(-9))]}]})        \n",
    "        print(\"disk second loop over\")"
   ]
  },
  {
   "cell_type": "code",
   "execution_count": null,
   "metadata": {
    "collapsed": true,
    "scrolled": true
   },
   "outputs": [],
   "source": [
    "\n",
    "data.update({\"torus\":[{}]})\n",
    "for a in range (2,12):\n",
    "    torus = em.surface(1.,'torus',a/5)\n",
    "    data[\"torus\"][0].update({\"r_\"+str(a):[{}]})\n",
    "    data[\"torus\"][0][\"r_\"+str(a)][0].update({\"s\":[{\"x\":[torus.make_plot()[0].tolist()],\"y\":[torus.make_plot()[1].tolist()],\"z\":[torus.make_plot()[2].tolist()]}]})\n",
    "    print(\"torus first loop over\")\n",
    "    for b in range(-5,6):\n",
    "        p_1=[b,0.75*b,(3.- (b**2)/8)]\n",
    "        point=em.test_charge(p_1)\n",
    "        F = point.force(torus)\n",
    "        data[\"torus\"][0][\"r_\"+str(a)][0].update({\"p\"+str(b):[{}]})\n",
    "        data[\"torus\"][0][\"r_\"+str(a)][0][\"p\"+str(b)][0].update({\"p\":[{\"x\":[p_1[0]],\"y\":[p_1[1]],\"z\":[p_1[2]]}],\"f\":[{\"x\":[p_1[0],p_1[0]+F[0]*(0.5*10**(-9))],\"y\":[p_1[1],p_1[1]+F[1]*(0.5*10**(-9))],\"z\":[p_1[2],p_1[2]+F[2]*(0.5*10**(-9))]}]})\n",
    "        print(\"torus second loop over\")\n"
   ]
  },
  {
   "cell_type": "code",
   "execution_count": null,
   "metadata": {
    "collapsed": true,
    "scrolled": true
   },
   "outputs": [],
   "source": [
    "data.update({\"cube\":[{}]})\n",
    "\n",
    "for a in range (2,12):    \n",
    "    cube = em.surface(1.,'cube',a/5)\n",
    "    data[\"cube\"][0].update({\"r_\"+str(a):[{}]})\n",
    "    data[\"cube\"][0][\"r_\"+str(a)][0].update({\"s\":[{\"x\":[cube.make_plot()[0].tolist()],\"y\":[cube.make_plot()[1].tolist()],\"z\":[cube.make_plot()[2].tolist()]}]})\n",
    "    print(\"cube first loop over \")\n",
    "    for b in range(-5,6):\n",
    "        p_1=[b,0.75*b,(3.- (b**2)/8)]\n",
    "        point=em.test_charge(p_1)\n",
    "        F = point.force(cube)\n",
    "        data[\"cube\"][0][\"r_\"+str(a)][0].update({\"p\"+str(b):[{}]})\n",
    "        data[\"cube\"][0][\"r_\"+str(a)][0][\"p\"+str(b)][0].update({\"p\":[{\"x\":[p_1[0]],\"y\":[p_1[1]],\"z\":[p_1[2]]}],\"f\":[{\"x\":[p_1[0],p_1[0]+F[0]*(0.5*10**(-9))],\"y\":[p_1[1],p_1[1]+F[1]*(0.5*10**(-9))],\"z\":[p_1[2],p_1[2]+F[2]*(0.5*10**(-9))]}]})\n",
    "        print (\"cube second loop over\")"
   ]
  },
  {
   "cell_type": "code",
   "execution_count": null,
   "metadata": {
    "collapsed": true
   },
   "outputs": [],
   "source": [
    "data = [data]\n",
    "with open('C:/Users/Cyd/Desktop/My Stuff/Coding/EM surfaces/sphere.JSON', 'w') as outfile:  \n",
    "    json.dump(data, outfile)"
   ]
  },
  {
   "cell_type": "code",
   "execution_count": null,
   "metadata": {
    "collapsed": true
   },
   "outputs": [],
   "source": []
  }
 ],
 "metadata": {
  "extensions": {
   "jupyter_dashboards": {
    "activeView": "grid_default",
    "version": 1,
    "views": {
     "grid_default": {
      "cellMargin": 10,
      "defaultCellHeight": 20,
      "maxColumns": 12,
      "name": "grid",
      "type": "grid"
     },
     "report_default": {
      "name": "report",
      "type": "report"
     }
    }
   }
  },
  "kernelspec": {
   "display_name": "Python 3",
   "language": "python",
   "name": "python3"
  },
  "language_info": {
   "codemirror_mode": {
    "name": "ipython",
    "version": 3
   },
   "file_extension": ".py",
   "mimetype": "text/x-python",
   "name": "python",
   "nbconvert_exporter": "python",
   "pygments_lexer": "ipython3",
   "version": "3.6.0"
  }
 },
 "nbformat": 4,
 "nbformat_minor": 2
}
