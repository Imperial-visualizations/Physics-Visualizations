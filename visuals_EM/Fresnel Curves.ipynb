{
 "cells": [
  {
   "cell_type": "code",
   "execution_count": null,
   "metadata": {},
   "outputs": [],
   "source": [
    "from plotly.offline import download_plotlyjs,init_notebook_mode,plot,iplot\n",
    "init_notebook_mode(connected=True)\n",
    "import plotly.graph_objs as go\n",
    "import numpy as np"
   ]
  },
  {
   "cell_type": "code",
   "execution_count": null,
   "metadata": {
    "collapsed": true
   },
   "outputs": [],
   "source": [
    "n_1 = 1.\n",
    "n_2 = 1.5\n",
    "\n",
    "theta_i = np.arange(0, np.deg2rad(100), 0.1)\n",
    "theta_t = [np.arcsin((n_1/n_2)*np.sin(i)) for i in theta_i]\n",
    "t_p = [(2*np.cos(theta_i[i])/(np.cos(theta_t[i]) + (n_2/n_1)*np.cos(theta_i[i]))) for i in range(0, len(theta_i))]\n",
    "r_p = [((np.cos(theta_t[i]) - (n_2/n_1)*np.cos(theta_i[i]))/(np.cos(theta_t[i]) + (n_2/n_1)*np.cos(theta_i[i]))) for i in range(0, len(theta_i))]"
   ]
  },
  {
   "cell_type": "code",
   "execution_count": null,
   "metadata": {
    "scrolled": false
   },
   "outputs": [],
   "source": [
    "data = [go.Scatter(x=[theta_i[i], theta_i[i],],\n",
    "                   y=[t_p[i], r_p[i]],\n",
    "                   mode='markers',\n",
    "                   marker=dict(size=15, color='rgb(0,0,0)'), visible=False) for i in range(0, len(theta_i))]\n",
    "    \n",
    "data[0]['visible'] = True\n",
    "\n",
    "trace1 = go.Scatter(x=theta_i,\n",
    "                   y=t_p,\n",
    "                   mode='lines')\n",
    "\n",
    "trace2 = go.Scatter(x=theta_i,\n",
    "                   y=r_p,\n",
    "                   mode='lines')\n",
    "\n",
    "data.append(trace1)\n",
    "data.append(trace2)\n",
    "\n",
    "iplot(data)\n",
    "\n",
    "#print(data)"
   ]
  },
  {
   "cell_type": "code",
   "execution_count": null,
   "metadata": {},
   "outputs": [],
   "source": [
    "steps = []\n",
    "for i in range(len(data)):\n",
    "    step = dict(\n",
    "        method = 'restyle',\n",
    "        args = ['visible', [False] * len(data)],\n",
    "    )\n",
    "    step['args'][1][i] = True# Toggle i'th trace to \"visible\"\n",
    "    step['args'][1][len(data)-1] = True\n",
    "    step['args'][1][len(data)-2] = True\n",
    "    steps.append(step)\n",
    "\n",
    "sliders = [dict(\n",
    "    active = 0,\n",
    "    steps = steps\n",
    ")]\n",
    "\n",
    "layout = dict(sliders=sliders,\n",
    "             width=700, height=500,\n",
    "             xaxis = dict(range=[0, 2], autorange=False),\n",
    "             yaxis = dict(range=[-2, 3], autorange=False),\n",
    "             showlegend=False)\n",
    "\n",
    "fig = dict(data=data, layout=layout)\n",
    "\n",
    "iplot(fig)"
   ]
  },
  {
   "cell_type": "code",
   "execution_count": null,
   "metadata": {
    "collapsed": true
   },
   "outputs": [],
   "source": []
  }
 ],
 "metadata": {
  "kernelspec": {
   "display_name": "Python 3",
   "language": "python",
   "name": "python3"
  },
  "language_info": {
   "codemirror_mode": {
    "name": "ipython",
    "version": 3
   },
   "file_extension": ".py",
   "mimetype": "text/x-python",
   "name": "python",
   "nbconvert_exporter": "python",
   "pygments_lexer": "ipython3",
   "version": "3.6.2"
  }
 },
 "nbformat": 4,
 "nbformat_minor": 2
}
