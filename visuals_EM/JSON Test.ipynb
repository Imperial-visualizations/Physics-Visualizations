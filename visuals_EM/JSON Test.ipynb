{
 "cells": [
  {
   "cell_type": "code",
   "execution_count": null,
   "metadata": {},
   "outputs": [],
   "source": [
    "import json\n",
    "import numpy as np\n",
    "from plotly.offline import download_plotlyjs, init_notebook_mode, plot, iplot\n",
    "import plotly.graph_objs as go\n",
    "import plotly_arrows as plar\n",
    "init_notebook_mode(connected=True)\n",
    "import boundaries_JSON_output as EM"
   ]
  },
  {
   "cell_type": "code",
   "execution_count": null,
   "metadata": {
    "scrolled": true
   },
   "outputs": [],
   "source": [
    "data={'p':[], 's':[]}\n",
    "for i in np.linspace(5, 85, 20):\n",
    "    data['p'].append(EM.run(angle=i, polarisation=\"p\", n1=1., n2=1.5))\n",
    "    data['s'].append(EM.run(angle=i, polarisation=\"s\", n1=1., n2=1.5))"
   ]
  },
  {
   "cell_type": "code",
   "execution_count": null,
   "metadata": {},
   "outputs": [],
   "source": [
    "with open('JSON_data/dielectric_boundary_data.JSON', 'w') as outfile:  \n",
    "    json.dump(data, outfile)"
   ]
  },
  {
   "cell_type": "code",
   "execution_count": null,
   "metadata": {},
   "outputs": [],
   "source": [
    "with open('JSON_data/dielectric_boundary_data.JSON') as json_data:\n",
    "    plot_data = json.load(json_data)\n",
    "    #print(plot_data)\n",
    "    \n",
    "    layout = {\n",
    "    'autosize': True,\n",
    "    'width': 700, 'height': 700,\n",
    "    'showlegend':False,\n",
    "    'scene': {\n",
    "        'aspectmode': 'cube',\n",
    "        'xaxis': {'range': [-1, 1], 'autorange': False, 'zeroline': True},\n",
    "        'yaxis': {'range': [-1, 1], 'autorange': False, 'zeroline': True},\n",
    "        'zaxis': {'range': [-1, 1], 'autorange': False, 'zeroline': True},\n",
    "        'camera': {\n",
    "            'up': {'x': 0, 'y': 1, 'z': 0} # DOESN'T WORK -- WHY NOT!?\n",
    "        }\n",
    "    }\n",
    "}\n",
    "\n",
    "fig = go.Figure(data=plot_data['p'][10], layout=layout)\n",
    "iplot(fig)"
   ]
  },
  {
   "cell_type": "code",
   "execution_count": null,
   "metadata": {},
   "outputs": [],
   "source": [
    "data={'p':[1], 's':[2]}"
   ]
  }
 ],
 "metadata": {
  "kernelspec": {
   "display_name": "Python 3",
   "language": "python",
   "name": "python3"
  },
  "language_info": {
   "codemirror_mode": {
    "name": "ipython",
    "version": 3
   },
   "file_extension": ".py",
   "mimetype": "text/x-python",
   "name": "python",
   "nbconvert_exporter": "python",
   "pygments_lexer": "ipython3",
   "version": "3.6.1"
  }
 },
 "nbformat": 4,
 "nbformat_minor": 2
}
