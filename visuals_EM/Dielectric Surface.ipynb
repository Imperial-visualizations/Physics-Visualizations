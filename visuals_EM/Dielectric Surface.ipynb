{
 "cells": [
  {
   "cell_type": "code",
   "execution_count": null,
   "metadata": {},
   "outputs": [],
   "source": [
    "from plotly.offline import download_plotlyjs,init_notebook_mode,plot,iplot\n",
    "init_notebook_mode(connected=True)\n",
    "import plotly.graph_objs as go\n",
    "import Electromagnetism as EM\n",
    "import itertools\n",
    "import numpy as np"
   ]
  },
  {
   "cell_type": "code",
   "execution_count": null,
   "metadata": {},
   "outputs": [],
   "source": [
    "trace = go.Mesh3d(x=[0,0,0,0],\n",
    "                  y=[-1,-1,1,1],\n",
    "                  z=[-1,1,1,-1],\n",
    "                  i = [0, 0, 0, 1],\n",
    "                  j = [1, 1, 2, 2],\n",
    "                  k = [2, 3, 3, 3],\n",
    "                  color='rgb(0,100,255)',\n",
    "                  opacity=0.2)\n",
    "\n",
    "theta_1 = 0\n",
    "phi_1 = np.deg2rad(10)\n",
    "wave1 = EM.EM_wave(theta=theta_1, phi=phi_1, color='rgb(0,0,255)')\n",
    "theta_2 = 1.*np.pi\n",
    "phi_2 = 0.25*np.pi\n",
    "wave2 = EM.EM_wave(theta=theta_2, phi=phi_2, rot=-0.5*np.pi, color='rgb(255,0,0)')\n",
    "\n",
    "plot_data = list(itertools.chain.from_iterable([wave1.data, wave2.data]))\n",
    "plot_data.append(trace)\n",
    "\n",
    "fig=go.Figure(data=plot_data)\n",
    "\n",
    "iplot(fig)"
   ]
  },
  {
   "cell_type": "code",
   "execution_count": null,
   "metadata": {},
   "outputs": [],
   "source": [
    "plot_data"
   ]
  },
  {
   "cell_type": "code",
   "execution_count": null,
   "metadata": {},
   "outputs": [],
   "source": []
  }
 ],
 "metadata": {
  "kernelspec": {
   "display_name": "Python 3",
   "language": "python",
   "name": "python3"
  },
  "language_info": {
   "codemirror_mode": {
    "name": "ipython",
    "version": 3
   },
   "file_extension": ".py",
   "mimetype": "text/x-python",
   "name": "python",
   "nbconvert_exporter": "python",
   "pygments_lexer": "ipython3",
   "version": "3.6.1"
  }
 },
 "nbformat": 4,
 "nbformat_minor": 2
}
