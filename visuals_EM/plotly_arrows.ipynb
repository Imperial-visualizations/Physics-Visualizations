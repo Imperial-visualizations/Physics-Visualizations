{
 "cells": [
  {
   "cell_type": "code",
   "execution_count": 1,
   "metadata": {
    "scrolled": true
   },
   "outputs": [
    {
     "data": {
      "text/html": [
       "<script>requirejs.config({paths: { 'plotly': ['https://cdn.plot.ly/plotly-latest.min']},});if(!window.Plotly) {{require(['plotly'],function(plotly) {window.Plotly=plotly;});}}</script>"
      ],
      "text/vnd.plotly.v1+html": [
       "<script>requirejs.config({paths: { 'plotly': ['https://cdn.plot.ly/plotly-latest.min']},});if(!window.Plotly) {{require(['plotly'],function(plotly) {window.Plotly=plotly;});}}</script>"
      ]
     },
     "metadata": {},
     "output_type": "display_data"
    }
   ],
   "source": [
    "import numpy as np\n",
    "import itertools\n",
    "from plotly.offline import download_plotlyjs,init_notebook_mode,plot,iplot\n",
    "import plotly.graph_objs as go\n",
    "init_notebook_mode(connected=True)"
   ]
  },
  {
   "cell_type": "markdown",
   "metadata": {},
   "source": [
    "We will use this convention for spherical polars:\n",
    "\n",
    "![spherical polar coordinates](3D_spherical.png)"
   ]
  },
  {
   "cell_type": "code",
   "execution_count": null,
   "metadata": {
    "collapsed": true,
    "scrolled": true
   },
   "outputs": [],
   "source": [
    " def p2c(r, theta, phi):\n",
    "    \"\"\"Convert polar unit vector to cartesians\"\"\"\n",
    "    return [r * np.sin(theta) * np.cos(phi),\n",
    "            r * np.sin(theta) * np.sin(phi),\n",
    "            r * np.cos(theta)]"
   ]
  },
  {
   "cell_type": "code",
   "execution_count": null,
   "metadata": {
    "collapsed": true,
    "scrolled": true
   },
   "outputs": [],
   "source": [
    "class Arrow:\n",
    "    def __init__(self, theta, phi, out, width=5, color='rgb(0,0,0)'):\n",
    "        \"\"\"\n",
    "        Args:\n",
    "            theta (float) - radians [0, π]\n",
    "            phi (float) - radians [0, 2π]\n",
    "            out (bool) - True if outgoing, False if incoming (to the origin)\n",
    "            width (int) - line thickness\n",
    "            color (hex/rgb) - line color\n",
    "        \"\"\"\n",
    "        self.theta = theta\n",
    "        self.phi = phi\n",
    "        self.out = out\n",
    "        self.width = width\n",
    "        self.color = color\n",
    "        \n",
    "        wing_length, wing_angle = self._find_wing_coord()\n",
    "        \n",
    "        shaft_xyz = p2c(1., self.theta, self.phi)\n",
    "        wings_xyz = [p2c(wing_length, self.theta + wing_angle, self.phi),\n",
    "                     p2c(wing_length, self.theta - wing_angle, self.phi)]\n",
    "        \n",
    "        self.shaft = go.Scatter3d(\n",
    "            x=[0, shaft_xyz[0]],\n",
    "            y=[0, shaft_xyz[1]],\n",
    "            z=[0, shaft_xyz[2]],\n",
    "            showlegend=False, mode='lines', line={'width': self.width, 'color': self.color}\n",
    "        )\n",
    "        self.wings = go.Scatter3d(\n",
    "            x=[wings_xyz[0][0], shaft_xyz[0] / 2., wings_xyz[1][0]],\n",
    "            y=[wings_xyz[0][1], shaft_xyz[1] / 2., wings_xyz[1][1]],\n",
    "            z=[wings_xyz[0][2], shaft_xyz[2] / 2., wings_xyz[1][2]],\n",
    "            showlegend=False, mode='lines', line={'width': self.width, 'color': self.color}\n",
    "        )\n",
    "    \n",
    "        self.data = [self.shaft, self.wings]\n",
    "    \n",
    "    \n",
    "    def _find_wing_coord(self):\n",
    "        \"\"\"Finds polar coordinates of arrowhead wing ends\"\"\"\n",
    "        frac = 0.1\n",
    "        r = 0.5\n",
    "        sin45 = np.sin(np.pi / 4.)\n",
    "\n",
    "        if self.out == True:\n",
    "            d = r - frac * sin45 \n",
    "        elif self.out == False:\n",
    "            d = r + frac * sin45    \n",
    "        else:\n",
    "            raise TypeError(\"arg: out must be True or False\")\n",
    "\n",
    "        a = np.sqrt(frac**2 * sin45**2 + d**2)\n",
    "        alpha = np.arccos(d / a)\n",
    "        return [a, alpha]"
   ]
  },
  {
   "cell_type": "code",
   "execution_count": null,
   "metadata": {
    "collapsed": true,
    "scrolled": false
   },
   "outputs": [],
   "source": [
    "arr1 = Arrow(theta=0.2*np.pi, phi=0.1*np.pi, out=False, width=2)\n",
    "arr2 = Arrow(theta=0.7*np.pi, phi=0.9*np.pi, out=True, width=2)\n",
    "\n",
    "layout = {\n",
    "    'autosize': True,\n",
    "    'scene': {\n",
    "        'aspectmode': 'cube',\n",
    "        'xaxis': {'range': [-1, 1], 'autorange': False, 'zeroline': True},\n",
    "        'yaxis': {'range': [-1, 1], 'autorange': False, 'zeroline': True},\n",
    "        'zaxis': {'range': [-1, 1], 'autorange': False, 'zeroline': True},\n",
    "        'camera': {\n",
    "            'up': {'x': 0, 'y': 1, 'z': 0} # DOESN'T WORK -- WHY NOT!?\n",
    "        }\n",
    "    }\n",
    "}\n",
    "\n",
    "plot_data = arr1.data + arr2.data # joins lists\n",
    "# plot_data = arr1.data\n",
    "\n",
    "fig = go.Figure(data=plot_data, layout=layout)\n",
    "iplot(fig)"
   ]
  },
  {
   "cell_type": "code",
   "execution_count": null,
   "metadata": {
    "collapsed": true
   },
   "outputs": [],
   "source": []
  }
 ],
 "metadata": {
  "kernelspec": {
   "display_name": "Python 3",
   "language": "python",
   "name": "python3"
  },
  "language_info": {
   "codemirror_mode": {
    "name": "ipython",
    "version": 3
   },
   "file_extension": ".py",
   "mimetype": "text/x-python",
   "name": "python",
   "nbconvert_exporter": "python",
   "pygments_lexer": "ipython3",
   "version": "3.6.2"
  }
 },
 "nbformat": 4,
 "nbformat_minor": 2
}
