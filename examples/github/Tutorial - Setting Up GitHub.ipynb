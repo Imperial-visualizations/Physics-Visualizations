{
 "cells": [
  {
   "cell_type": "markdown",
   "metadata": {
    "collapsed": true,
    "extensions": {
     "jupyter_dashboards": {
      "version": 1,
      "views": {
       "grid_default": {
        "col": 0,
        "height": 94,
        "hidden": false,
        "row": 0,
        "width": 12
       },
       "report_default": {
        "hidden": false
       }
      }
     }
    }
   },
   "source": [
    "# Tutorial - Setting Up GitHub (2017)\n",
    "\n",
    "Any questions should be directed to a member of the core team. Otherwise contact Anthony Li on the Imperial Visualizations Slack with any questions or suggestions. \n",
    "\n",
    "## Introduction\n",
    "\n",
    "Git is a version control system (VCS) used for tracking and coordinating changes in computer files, and is particularly useful for work involving multiple people. For this Imperial Visualizations project we will be using GitHub - a web based version control repository and internet hosting service.\n",
    "\n",
    "## Joining the GitHub Repo\n",
    "\n",
    "1. Create a GitHub account https://github.com/. You can also use your student email address to activate the Student Develop Pack https://education.github.com/pack which comes with a multitude of software development tools and perks such as private repos (lasts a limited time).\n",
    "\n",
    "2. Message a member of the core team with your GitHub username for access to the Imperial Visualizations repository.\n",
    "\n",
    "## GitKraken\n",
    "\n",
    "For the purposes of this project, GitKraken is a GUI (Graphic User Interface) Git client that greatly speeds up the process of getting to grips with Git. If you prefer, you can learn the CLI (Command Line Interface) although this will require some effort in self-learning and likely self-fixing any issues which arise. \n",
    "\n",
    "1. Download GitKraken https://www.gitkraken.com/ and log in with your GitHub account.\n",
    "\n",
    "2. File -> Clone Repo -> Clone -> GitHub.com and select the \"Imperial-Visualizations\" repository.\n",
    "\n",
    "3. Work in the branch for your group (e.g. If I'm working on electromagnetism visualizations I will work on the \"electromagnetism branch\" as outlined below).\n",
    "\n",
    "4. When creating your notebook, follow the file and notebook strucutre outlined in the given examples within the branch. If in doubt, ask!\n",
    "\n",
    "5. Pull, commit, and push your files as outlined below.\n",
    "\n",
    "## Using Gitkraken (What do all the buttons do?)\n",
    "\n",
    "1. Branch - Always work in the correct branch! If your files disappear it's probably because you changed branch.\n",
    "![1_branch](1_branch.png) \n",
    "&nbsp;\n",
    "\n",
    "2. Stash and Pop - Use these when you're working on a file and want to switch branches but don't want to commit any changes just yet. Gitkraken will save any work in progress in a stash which can be popped upon returning to that branch.\n",
    "![2_stash](2_stash.png)\n",
    "&nbsp;\n",
    "\n",
    "3. Pull - PULL BEFORE STARTING ANY WORK. This ensures your local folders are up to date and work doesn't clash.\n",
    "![3_pull](3_pull.png)\n",
    "&nbsp;\n",
    "\n",
    "4. Push - To push changes to the repository you must first commit them. It is also good practice to commit work after finishing a section.\n",
    "![4_push](4_push.png)\n",
    "&nbsp;\n"
   ]
  },
  {
   "cell_type": "code",
   "execution_count": null,
   "metadata": {
    "collapsed": true,
    "extensions": {
     "jupyter_dashboards": {
      "version": 1,
      "views": {
       "grid_default": {
        "hidden": true
       },
       "report_default": {
        "hidden": true
       }
      }
     }
    }
   },
   "outputs": [],
   "source": []
  }
 ],
 "metadata": {
  "anaconda-cloud": {},
  "extensions": {
   "jupyter_dashboards": {
    "activeView": "report_default",
    "version": 1,
    "views": {
     "grid_default": {
      "cellMargin": 10,
      "defaultCellHeight": 20,
      "maxColumns": 12,
      "name": "grid",
      "type": "grid"
     },
     "report_default": {
      "name": "report",
      "type": "report"
     }
    }
   }
  },
  "kernelspec": {
   "display_name": "Python [conda root]",
   "language": "python",
   "name": "conda-root-py"
  },
  "language_info": {
   "codemirror_mode": {
    "name": "ipython",
    "version": 3
   },
   "file_extension": ".py",
   "mimetype": "text/x-python",
   "name": "python",
   "nbconvert_exporter": "python",
   "pygments_lexer": "ipython3",
   "version": "3.5.2"
  }
 },
 "nbformat": 4,
 "nbformat_minor": 1
}
