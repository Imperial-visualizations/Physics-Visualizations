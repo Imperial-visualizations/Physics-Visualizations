{
 "cells": [
  {
   "cell_type": "markdown",
   "metadata": {},
   "source": [
    "# Interactivity with Plotly\n",
    "\n",
    "<img src=\"https://camo.githubusercontent.com/a38f9ed71170e3112dd3e4af1d11d4b081fe2e25/687474703a2f2f692e696d6775722e636f6d2f643379346e776d2e676966\" alt=\"Drawing\" style=\"width: 800px;\"/>"
   ]
  },
  {
   "cell_type": "markdown",
   "metadata": {},
   "source": [
    "<br>\n",
    "For the most part, interactivity in plotly will be done through javascript. However, plotly.py and jupyter notebooks do have enough interactive tools to create a simple plot with one. This may be useful for creating plots in the first few weeks of the project or testing your physics code as you go along.<br><br>\n",
    "\n",
    "for now let's import all the module's we will need\n"
   ]
  },
  {
   "cell_type": "code",
   "execution_count": 1,
   "metadata": {},
   "outputs": [
    {
     "data": {
      "text/html": [
       "<script>requirejs.config({paths: { 'plotly': ['https://cdn.plot.ly/plotly-latest.min']},});if(!window.Plotly) {{require(['plotly'],function(plotly) {window.Plotly=plotly;});}}</script>"
      ],
      "text/vnd.plotly.v1+html": [
       "<script>requirejs.config({paths: { 'plotly': ['https://cdn.plot.ly/plotly-latest.min']},});if(!window.Plotly) {{require(['plotly'],function(plotly) {window.Plotly=plotly;});}}</script>"
      ]
     },
     "metadata": {},
     "output_type": "display_data"
    }
   ],
   "source": [
    "from plotly.offline import download_plotlyjs,init_notebook_mode,plot,iplot\n",
    "import plotly.graph_objs as go\n",
    "init_notebook_mode(connected=True)\n",
    "from ipywidgets import interact, interactive, fixed, interact_manual\n",
    "import ipywidgets as widgets\n",
    "import numpy as np"
   ]
  },
  {
   "cell_type": "markdown",
   "metadata": {},
   "source": [
    "## Why (and why not) use Jupyter Interacts\n"
   ]
  },
  {
   "cell_type": "markdown",
   "metadata": {},
   "source": [
    "Now the way that plotly's iplot function works is that it sends off all of the input data and layout dictionaries to a standalone html. This means that - in general - you cannot send new data to an already existing iplot. So if you want to update the data of an iplot using jupyter, what you will have to do is replot the graph every time you change something.\n",
    "<br><br>\n",
    "To do this we can use jupyter's interact() widget, which takes a function and its respective variables as inputs. The interact function then produces either sliders or buttons to cycle through the variables of the input function. An example of using interact to change the data of a plotly graph is shown below:"
   ]
  },
  {
   "cell_type": "code",
   "execution_count": 2,
   "metadata": {},
   "outputs": [
    {
     "name": "stderr",
     "output_type": "stream",
     "text": [
      "Widget Javascript not detected.  It may not be installed or enabled properly.\n"
     ]
    },
    {
     "data": {
      "application/vnd.jupyter.widget-view+json": {
       "model_id": "215653fcd23d4b4c921111951bb9a238"
      }
     },
     "metadata": {},
     "output_type": "display_data"
    },
    {
     "data": {
      "text/plain": [
       "<function __main__.plot>"
      ]
     },
     "execution_count": 2,
     "metadata": {},
     "output_type": "execute_result"
    }
   ],
   "source": [
    "def plot(x):\n",
    "    global data\n",
    "    data = []\n",
    "    trace1 = dict(\n",
    "    go.Scatter(\n",
    "        x=[1,2,4,x],\n",
    "        y=[5,0,8,2],\n",
    "        mode='markers',\n",
    "        name='bubbles!',\n",
    "        marker=dict(\n",
    "            size=15\n",
    "        )\n",
    "        \n",
    "    )\n",
    "    )\n",
    "\n",
    "    trace2 = dict(\n",
    "    go.Scatter(\n",
    "        x=[1,3,5,7],\n",
    "        y=[1,3,5,7],\n",
    "        name='lines',\n",
    "        line = dict(\n",
    "            width=2,\n",
    "            color='rgb(21,117,22)'\n",
    "        )\n",
    "        \n",
    "    )\n",
    "    )\n",
    "    data = [trace1,trace2]\n",
    "    iplot(data)\n",
    "    \n",
    "interact(plot,x=widgets.IntSlider(min=0,max=10,step=1,value=0))\n"
   ]
  },
  {
   "cell_type": "markdown",
   "metadata": {
    "collapsed": true
   },
   "source": [
    "## Why (and why not use) Plotly.py's interacts"
   ]
  },
  {
   "cell_type": "markdown",
   "metadata": {},
   "source": [
    "As well as jupyter's built in ipython widgets and interacts, plotly has it's own set of interactivities. These interactivities can be split into three main groups: animation, sliders, and buttons. What's more, none of them require you to replot the entire graph after changing one variable!!\n",
    "\n",
    "### Let's start with a quick tutorial on buttons:\n",
    "\n",
    "For all three of these interactivities we will usually start off by creating a dictionary called updatemenus in your layout dictionary. This updatemenus dict is what contains the information about whatever widget you want to impliment.<br><br>\n",
    "For a button, we simply create a dict called buttons that contains all of the different datasets or layout types that we would like to eventually plot. Say if we want to switch between plotting a sphere or a cube; with a plotly button this is possible. <br><br>\n",
    "The most important atribute of the buttons dict is the 'args' attribute, and tells plotly what attribute of your figure you want to change. In the example below, we are changing the x coordinate of the data. However, in general we write args in the form 'args':<br> [{'attribute': new_value_of_attribute,'attribute2: new_value_of_attribute2'}]"
   ]
  },
  {
   "cell_type": "code",
   "execution_count": 13,
   "metadata": {},
   "outputs": [
    {
     "data": {
      "application/vnd.plotly.v1+json": {
       "data": [
        {
         "line": {
          "color": "blue",
          "width": 2
         },
         "mode": "markers",
         "name": "frame",
         "x": [
          2
         ],
         "y": [
          0
         ]
        }
       ],
       "layout": {
        "height": 500,
        "hovermode": "closest",
        "title": "Button",
        "updatemenus": [
         {
          "buttons": [
           {
            "args": [
             {
              "x": [
               [
                2
               ]
              ]
             }
            ],
            "label": "frame1",
            "method": "update"
           },
           {
            "args": [
             {
              "x": [
               [
                4
               ]
              ]
             }
            ],
            "label": "frame2",
            "method": "update"
           }
          ]
         }
        ],
        "width": 1000,
        "xaxis": {
         "autorange": false,
         "range": [
          0,
          6.283185307179586
         ],
         "zeroline": false
        },
        "yaxis": {
         "autorange": false,
         "range": [
          -1.1,
          1.1
         ],
         "zeroline": false
        }
       }
      },
      "text/html": [
       "<div id=\"4c78c509-566e-46de-b808-36525e65f3f8\" style=\"height: 500px; width: 1000px;\" class=\"plotly-graph-div\"></div><script type=\"text/javascript\">require([\"plotly\"], function(Plotly) { window.PLOTLYENV=window.PLOTLYENV || {};window.PLOTLYENV.BASE_URL=\"https://plot.ly\";Plotly.newPlot(\"4c78c509-566e-46de-b808-36525e65f3f8\", [{\"x\": [2], \"y\": [0], \"name\": \"frame\", \"mode\": \"markers\", \"line\": {\"width\": 2, \"color\": \"blue\"}}], {\"width\": 1000, \"height\": 500, \"xaxis\": {\"range\": [0, 6.283185307179586], \"autorange\": false, \"zeroline\": false}, \"yaxis\": {\"range\": [-1.1, 1.1], \"autorange\": false, \"zeroline\": false}, \"title\": \"Button\", \"hovermode\": \"closest\", \"updatemenus\": [{\"buttons\": [{\"args\": [{\"x\": [[2]]}], \"label\": \"frame1\", \"method\": \"update\"}, {\"args\": [{\"x\": [[4]]}], \"label\": \"frame2\", \"method\": \"update\"}]}]}, {\"showLink\": true, \"linkText\": \"Export to plot.ly\"})});</script>"
      ],
      "text/vnd.plotly.v1+html": [
       "<div id=\"4c78c509-566e-46de-b808-36525e65f3f8\" style=\"height: 500px; width: 1000px;\" class=\"plotly-graph-div\"></div><script type=\"text/javascript\">require([\"plotly\"], function(Plotly) { window.PLOTLYENV=window.PLOTLYENV || {};window.PLOTLYENV.BASE_URL=\"https://plot.ly\";Plotly.newPlot(\"4c78c509-566e-46de-b808-36525e65f3f8\", [{\"x\": [2], \"y\": [0], \"name\": \"frame\", \"mode\": \"markers\", \"line\": {\"width\": 2, \"color\": \"blue\"}}], {\"width\": 1000, \"height\": 500, \"xaxis\": {\"range\": [0, 6.283185307179586], \"autorange\": false, \"zeroline\": false}, \"yaxis\": {\"range\": [-1.1, 1.1], \"autorange\": false, \"zeroline\": false}, \"title\": \"Button\", \"hovermode\": \"closest\", \"updatemenus\": [{\"buttons\": [{\"args\": [{\"x\": [[2]]}], \"label\": \"frame1\", \"method\": \"update\"}, {\"args\": [{\"x\": [[4]]}], \"label\": \"frame2\", \"method\": \"update\"}]}]}, {\"showLink\": true, \"linkText\": \"Export to plot.ly\"})});</script>"
      ]
     },
     "metadata": {},
     "output_type": "display_data"
    }
   ],
   "source": [
    "x = [2]\n",
    "t= np.linspace(0,2,50)\n",
    "y = [0]\n",
    "\n",
    "\n",
    "data=[dict(x=x, y=y,\n",
    "           name='frame',\n",
    "           mode='markers', \n",
    "           line=dict(width=2, color='blue')),\n",
    "\n",
    "    ]\n",
    "\n",
    "layout=dict(width=1000, height=500,\n",
    "            xaxis=dict(range=[0, 2*np.pi], autorange=False, zeroline=False),\n",
    "            yaxis=dict(range=[-1.1, 1.1], autorange=False, zeroline=False),\n",
    "            title='Button', hovermode='closest',\n",
    "            updatemenus= [\n",
    "                {\n",
    "                    'buttons':[\n",
    "                        {\n",
    "                            'args': [{'x':[[2]]}],\n",
    "                            'label': 'frame1',\n",
    "                            'method': 'update'\n",
    "                        },\n",
    "                        {\n",
    "                            'args': [{'x':[[4]]}],\n",
    "                            'label': 'frame2',\n",
    "                            'method': 'update'\n",
    "                        }\n",
    "                    ]\n",
    "                }\n",
    "            ])\n",
    " \n",
    "figure = dict(data=data,layout=layout)\n",
    "iplot(figure)\n"
   ]
  },
  {
   "cell_type": "markdown",
   "metadata": {
    "collapsed": true
   },
   "source": [
    "### Now for the animations:\n",
    "\n",
    "The way that animating in plotly works is that - as well as inputing data and layout dictionaries into your iplot function - you must input a dictionary called 'frames'. <br><br>\n",
    "Now 'frames' is essentially just a series of other figures (data and layout dictionaries) that the plot will cycle through. These figures can have different data and layout than your initial data and layout inputs, so when you cycle through them it looks like the graph is changing and animating.<br><br>\n",
    "You will also need the standard updatemenus dictionary in your initial layout input. The updatemenus should contain two buttons that start and stop the animation, using the method 'animate', rather than update.<br>\n",
    "Below is an example that displays eveything we've discussed concerning animation:"
   ]
  },
  {
   "cell_type": "code",
   "execution_count": 14,
   "metadata": {},
   "outputs": [
    {
     "data": {
      "application/vnd.plotly.v1+json": {
       "data": [
        {
         "line": {
          "color": "blue",
          "width": 2
         },
         "mode": "markers",
         "name": "frame",
         "x": [
          1
         ],
         "y": [
          -1
         ]
        }
       ],
       "frames": [
        {
         "data": [
          {
           "x": [
            1
           ],
           "y": [
            -1
           ]
          }
         ]
        },
        {
         "data": [
          {
           "x": [
            1.0816326530612246
           ],
           "y": [
            -0.9591836734693877
           ]
          }
         ]
        },
        {
         "data": [
          {
           "x": [
            1.163265306122449
           ],
           "y": [
            -0.9183673469387755
           ]
          }
         ]
        },
        {
         "data": [
          {
           "x": [
            1.2448979591836735
           ],
           "y": [
            -0.8775510204081632
           ]
          }
         ]
        },
        {
         "data": [
          {
           "x": [
            1.3265306122448979
           ],
           "y": [
            -0.8367346938775511
           ]
          }
         ]
        },
        {
         "data": [
          {
           "x": [
            1.4081632653061225
           ],
           "y": [
            -0.7959183673469388
           ]
          }
         ]
        },
        {
         "data": [
          {
           "x": [
            1.489795918367347
           ],
           "y": [
            -0.7551020408163265
           ]
          }
         ]
        },
        {
         "data": [
          {
           "x": [
            1.5714285714285714
           ],
           "y": [
            -0.7142857142857143
           ]
          }
         ]
        },
        {
         "data": [
          {
           "x": [
            1.6530612244897958
           ],
           "y": [
            -0.6734693877551021
           ]
          }
         ]
        },
        {
         "data": [
          {
           "x": [
            1.7346938775510203
           ],
           "y": [
            -0.6326530612244898
           ]
          }
         ]
        },
        {
         "data": [
          {
           "x": [
            1.816326530612245
           ],
           "y": [
            -0.5918367346938775
           ]
          }
         ]
        },
        {
         "data": [
          {
           "x": [
            1.8979591836734693
           ],
           "y": [
            -0.5510204081632654
           ]
          }
         ]
        },
        {
         "data": [
          {
           "x": [
            1.9795918367346939
           ],
           "y": [
            -0.5102040816326531
           ]
          }
         ]
        },
        {
         "data": [
          {
           "x": [
            2.061224489795918
           ],
           "y": [
            -0.4693877551020409
           ]
          }
         ]
        },
        {
         "data": [
          {
           "x": [
            2.142857142857143
           ],
           "y": [
            -0.4285714285714286
           ]
          }
         ]
        },
        {
         "data": [
          {
           "x": [
            2.224489795918367
           ],
           "y": [
            -0.3877551020408164
           ]
          }
         ]
        },
        {
         "data": [
          {
           "x": [
            2.3061224489795915
           ],
           "y": [
            -0.34693877551020413
           ]
          }
         ]
        },
        {
         "data": [
          {
           "x": [
            2.387755102040816
           ],
           "y": [
            -0.30612244897959184
           ]
          }
         ]
        },
        {
         "data": [
          {
           "x": [
            2.4693877551020407
           ],
           "y": [
            -0.26530612244897966
           ]
          }
         ]
        },
        {
         "data": [
          {
           "x": [
            2.5510204081632653
           ],
           "y": [
            -0.22448979591836737
           ]
          }
         ]
        },
        {
         "data": [
          {
           "x": [
            2.63265306122449
           ],
           "y": [
            -0.1836734693877552
           ]
          }
         ]
        },
        {
         "data": [
          {
           "x": [
            2.7142857142857144
           ],
           "y": [
            -0.1428571428571429
           ]
          }
         ]
        },
        {
         "data": [
          {
           "x": [
            2.7959183673469385
           ],
           "y": [
            -0.10204081632653073
           ]
          }
         ]
        },
        {
         "data": [
          {
           "x": [
            2.877551020408163
           ],
           "y": [
            -0.061224489795918435
           ]
          }
         ]
        },
        {
         "data": [
          {
           "x": [
            2.9591836734693877
           ],
           "y": [
            -0.020408163265306145
           ]
          }
         ]
        },
        {
         "data": [
          {
           "x": [
            3.0408163265306123
           ],
           "y": [
            0.020408163265306145
           ]
          }
         ]
        },
        {
         "data": [
          {
           "x": [
            3.1224489795918364
           ],
           "y": [
            0.06122448979591821
           ]
          }
         ]
        },
        {
         "data": [
          {
           "x": [
            3.204081632653061
           ],
           "y": [
            0.1020408163265305
           ]
          }
         ]
        },
        {
         "data": [
          {
           "x": [
            3.2857142857142856
           ],
           "y": [
            0.1428571428571428
           ]
          }
         ]
        },
        {
         "data": [
          {
           "x": [
            3.36734693877551
           ],
           "y": [
            0.18367346938775508
           ]
          }
         ]
        },
        {
         "data": [
          {
           "x": [
            3.4489795918367343
           ],
           "y": [
            0.22448979591836715
           ]
          }
         ]
        },
        {
         "data": [
          {
           "x": [
            3.530612244897959
           ],
           "y": [
            0.26530612244897944
           ]
          }
         ]
        },
        {
         "data": [
          {
           "x": [
            3.6122448979591835
           ],
           "y": [
            0.30612244897959173
           ]
          }
         ]
        },
        {
         "data": [
          {
           "x": [
            3.693877551020408
           ],
           "y": [
            0.346938775510204
           ]
          }
         ]
        },
        {
         "data": [
          {
           "x": [
            3.7755102040816326
           ],
           "y": [
            0.3877551020408163
           ]
          }
         ]
        },
        {
         "data": [
          {
           "x": [
            3.8571428571428568
           ],
           "y": [
            0.4285714285714284
           ]
          }
         ]
        },
        {
         "data": [
          {
           "x": [
            3.9387755102040813
           ],
           "y": [
            0.46938775510204067
           ]
          }
         ]
        },
        {
         "data": [
          {
           "x": [
            4.020408163265306
           ],
           "y": [
            0.510204081632653
           ]
          }
         ]
        },
        {
         "data": [
          {
           "x": [
            4.1020408163265305
           ],
           "y": [
            0.5510204081632653
           ]
          }
         ]
        },
        {
         "data": [
          {
           "x": [
            4.183673469387754
           ],
           "y": [
            0.5918367346938773
           ]
          }
         ]
        },
        {
         "data": [
          {
           "x": [
            4.26530612244898
           ],
           "y": [
            0.6326530612244896
           ]
          }
         ]
        },
        {
         "data": [
          {
           "x": [
            4.346938775510203
           ],
           "y": [
            0.6734693877551019
           ]
          }
         ]
        },
        {
         "data": [
          {
           "x": [
            4.428571428571429
           ],
           "y": [
            0.7142857142857142
           ]
          }
         ]
        },
        {
         "data": [
          {
           "x": [
            4.5102040816326525
           ],
           "y": [
            0.7551020408163265
           ]
          }
         ]
        },
        {
         "data": [
          {
           "x": [
            4.591836734693877
           ],
           "y": [
            0.7959183673469385
           ]
          }
         ]
        },
        {
         "data": [
          {
           "x": [
            4.673469387755102
           ],
           "y": [
            0.8367346938775508
           ]
          }
         ]
        },
        {
         "data": [
          {
           "x": [
            4.755102040816326
           ],
           "y": [
            0.8775510204081631
           ]
          }
         ]
        },
        {
         "data": [
          {
           "x": [
            4.836734693877551
           ],
           "y": [
            0.9183673469387754
           ]
          }
         ]
        },
        {
         "data": [
          {
           "x": [
            4.918367346938775
           ],
           "y": [
            0.9591836734693877
           ]
          }
         ]
        },
        {
         "data": [
          {
           "x": [
            5
           ],
           "y": [
            1
           ]
          }
         ]
        }
       ],
       "layout": {
        "height": 500,
        "hovermode": "closest",
        "title": "Animation",
        "updatemenus": [
         {
          "buttons": [
           {
            "args": [
             [
              null
             ],
             {
              "frame": {
               "duration": 0,
               "redraw": false
              },
              "mode": "immediate",
              "transition": {
               "duration": 0
              }
             }
            ],
            "label": "Pause",
            "method": "animate"
           },
           {
            "args": [
             null,
             {
              "frame": {
               "duration": 0,
               "redraw": false
              },
              "fromcurrent": true,
              "transition": {
               "duration": 0,
               "easing": "quadratic-in-out"
              }
             }
            ],
            "label": "Play",
            "method": "animate"
           }
          ]
         }
        ],
        "width": 1000,
        "xaxis": {
         "autorange": false,
         "range": [
          0,
          6.283185307179586
         ],
         "zeroline": false
        },
        "yaxis": {
         "autorange": false,
         "range": [
          -1.1,
          1.1
         ],
         "zeroline": false
        }
       }
      },
      "text/html": [
       "<div id=\"2390a4a5-a64c-460f-8b15-ce79dc95ba3f\" style=\"height: 500px; width: 1000px;\" class=\"plotly-graph-div\"></div><script type=\"text/javascript\">require([\"plotly\"], function(Plotly) { window.PLOTLYENV=window.PLOTLYENV || {};window.PLOTLYENV.BASE_URL=\"https://plot.ly\";\n",
       "        Plotly.plot(\n",
       "            '2390a4a5-a64c-460f-8b15-ce79dc95ba3f',\n",
       "            [{\"x\": [1], \"y\": [-1], \"name\": \"frame\", \"mode\": \"markers\", \"line\": {\"width\": 2, \"color\": \"blue\"}}],\n",
       "            {\"width\": 1000, \"height\": 500, \"xaxis\": {\"range\": [0, 6.283185307179586], \"autorange\": false, \"zeroline\": false}, \"yaxis\": {\"range\": [-1.1, 1.1], \"autorange\": false, \"zeroline\": false}, \"title\": \"Animation\", \"hovermode\": \"closest\", \"updatemenus\": [{\"buttons\": [{\"args\": [[null], {\"frame\": {\"duration\": 0, \"redraw\": false}, \"mode\": \"immediate\", \"transition\": {\"duration\": 0}}], \"label\": \"Pause\", \"method\": \"animate\"}, {\"args\": [null, {\"frame\": {\"duration\": 0, \"redraw\": false}, \"fromcurrent\": true, \"transition\": {\"duration\": 0, \"easing\": \"quadratic-in-out\"}}], \"label\": \"Play\", \"method\": \"animate\"}]}]},\n",
       "            {\"showLink\": true, \"linkText\": \"Export to plot.ly\"}\n",
       "        ).then(function () {return Plotly.addFrames('2390a4a5-a64c-460f-8b15-ce79dc95ba3f',[{\"data\": [{\"x\": [1.0], \"y\": [-1.0]}]}, {\"data\": [{\"x\": [1.0816326530612246], \"y\": [-0.9591836734693877]}]}, {\"data\": [{\"x\": [1.163265306122449], \"y\": [-0.9183673469387755]}]}, {\"data\": [{\"x\": [1.2448979591836735], \"y\": [-0.8775510204081632]}]}, {\"data\": [{\"x\": [1.3265306122448979], \"y\": [-0.8367346938775511]}]}, {\"data\": [{\"x\": [1.4081632653061225], \"y\": [-0.7959183673469388]}]}, {\"data\": [{\"x\": [1.489795918367347], \"y\": [-0.7551020408163265]}]}, {\"data\": [{\"x\": [1.5714285714285714], \"y\": [-0.7142857142857143]}]}, {\"data\": [{\"x\": [1.6530612244897958], \"y\": [-0.6734693877551021]}]}, {\"data\": [{\"x\": [1.7346938775510203], \"y\": [-0.6326530612244898]}]}, {\"data\": [{\"x\": [1.816326530612245], \"y\": [-0.5918367346938775]}]}, {\"data\": [{\"x\": [1.8979591836734693], \"y\": [-0.5510204081632654]}]}, {\"data\": [{\"x\": [1.9795918367346939], \"y\": [-0.5102040816326531]}]}, {\"data\": [{\"x\": [2.061224489795918], \"y\": [-0.4693877551020409]}]}, {\"data\": [{\"x\": [2.142857142857143], \"y\": [-0.4285714285714286]}]}, {\"data\": [{\"x\": [2.224489795918367], \"y\": [-0.3877551020408164]}]}, {\"data\": [{\"x\": [2.3061224489795915], \"y\": [-0.34693877551020413]}]}, {\"data\": [{\"x\": [2.387755102040816], \"y\": [-0.30612244897959184]}]}, {\"data\": [{\"x\": [2.4693877551020407], \"y\": [-0.26530612244897966]}]}, {\"data\": [{\"x\": [2.5510204081632653], \"y\": [-0.22448979591836737]}]}, {\"data\": [{\"x\": [2.63265306122449], \"y\": [-0.1836734693877552]}]}, {\"data\": [{\"x\": [2.7142857142857144], \"y\": [-0.1428571428571429]}]}, {\"data\": [{\"x\": [2.7959183673469385], \"y\": [-0.10204081632653073]}]}, {\"data\": [{\"x\": [2.877551020408163], \"y\": [-0.061224489795918435]}]}, {\"data\": [{\"x\": [2.9591836734693877], \"y\": [-0.020408163265306145]}]}, {\"data\": [{\"x\": [3.0408163265306123], \"y\": [0.020408163265306145]}]}, {\"data\": [{\"x\": [3.1224489795918364], \"y\": [0.06122448979591821]}]}, {\"data\": [{\"x\": [3.204081632653061], \"y\": [0.1020408163265305]}]}, {\"data\": [{\"x\": [3.2857142857142856], \"y\": [0.1428571428571428]}]}, {\"data\": [{\"x\": [3.36734693877551], \"y\": [0.18367346938775508]}]}, {\"data\": [{\"x\": [3.4489795918367343], \"y\": [0.22448979591836715]}]}, {\"data\": [{\"x\": [3.530612244897959], \"y\": [0.26530612244897944]}]}, {\"data\": [{\"x\": [3.6122448979591835], \"y\": [0.30612244897959173]}]}, {\"data\": [{\"x\": [3.693877551020408], \"y\": [0.346938775510204]}]}, {\"data\": [{\"x\": [3.7755102040816326], \"y\": [0.3877551020408163]}]}, {\"data\": [{\"x\": [3.8571428571428568], \"y\": [0.4285714285714284]}]}, {\"data\": [{\"x\": [3.9387755102040813], \"y\": [0.46938775510204067]}]}, {\"data\": [{\"x\": [4.020408163265306], \"y\": [0.510204081632653]}]}, {\"data\": [{\"x\": [4.1020408163265305], \"y\": [0.5510204081632653]}]}, {\"data\": [{\"x\": [4.183673469387754], \"y\": [0.5918367346938773]}]}, {\"data\": [{\"x\": [4.26530612244898], \"y\": [0.6326530612244896]}]}, {\"data\": [{\"x\": [4.346938775510203], \"y\": [0.6734693877551019]}]}, {\"data\": [{\"x\": [4.428571428571429], \"y\": [0.7142857142857142]}]}, {\"data\": [{\"x\": [4.5102040816326525], \"y\": [0.7551020408163265]}]}, {\"data\": [{\"x\": [4.591836734693877], \"y\": [0.7959183673469385]}]}, {\"data\": [{\"x\": [4.673469387755102], \"y\": [0.8367346938775508]}]}, {\"data\": [{\"x\": [4.755102040816326], \"y\": [0.8775510204081631]}]}, {\"data\": [{\"x\": [4.836734693877551], \"y\": [0.9183673469387754]}]}, {\"data\": [{\"x\": [4.918367346938775], \"y\": [0.9591836734693877]}]}, {\"data\": [{\"x\": [5.0], \"y\": [1.0]}]}]);}).then(function(){Plotly.animate('2390a4a5-a64c-460f-8b15-ce79dc95ba3f');})\n",
       "        });</script>"
      ],
      "text/vnd.plotly.v1+html": [
       "<div id=\"2390a4a5-a64c-460f-8b15-ce79dc95ba3f\" style=\"height: 500px; width: 1000px;\" class=\"plotly-graph-div\"></div><script type=\"text/javascript\">require([\"plotly\"], function(Plotly) { window.PLOTLYENV=window.PLOTLYENV || {};window.PLOTLYENV.BASE_URL=\"https://plot.ly\";\n",
       "        Plotly.plot(\n",
       "            '2390a4a5-a64c-460f-8b15-ce79dc95ba3f',\n",
       "            [{\"x\": [1], \"y\": [-1], \"name\": \"frame\", \"mode\": \"markers\", \"line\": {\"width\": 2, \"color\": \"blue\"}}],\n",
       "            {\"width\": 1000, \"height\": 500, \"xaxis\": {\"range\": [0, 6.283185307179586], \"autorange\": false, \"zeroline\": false}, \"yaxis\": {\"range\": [-1.1, 1.1], \"autorange\": false, \"zeroline\": false}, \"title\": \"Animation\", \"hovermode\": \"closest\", \"updatemenus\": [{\"buttons\": [{\"args\": [[null], {\"frame\": {\"duration\": 0, \"redraw\": false}, \"mode\": \"immediate\", \"transition\": {\"duration\": 0}}], \"label\": \"Pause\", \"method\": \"animate\"}, {\"args\": [null, {\"frame\": {\"duration\": 0, \"redraw\": false}, \"fromcurrent\": true, \"transition\": {\"duration\": 0, \"easing\": \"quadratic-in-out\"}}], \"label\": \"Play\", \"method\": \"animate\"}]}]},\n",
       "            {\"showLink\": true, \"linkText\": \"Export to plot.ly\"}\n",
       "        ).then(function () {return Plotly.addFrames('2390a4a5-a64c-460f-8b15-ce79dc95ba3f',[{\"data\": [{\"x\": [1.0], \"y\": [-1.0]}]}, {\"data\": [{\"x\": [1.0816326530612246], \"y\": [-0.9591836734693877]}]}, {\"data\": [{\"x\": [1.163265306122449], \"y\": [-0.9183673469387755]}]}, {\"data\": [{\"x\": [1.2448979591836735], \"y\": [-0.8775510204081632]}]}, {\"data\": [{\"x\": [1.3265306122448979], \"y\": [-0.8367346938775511]}]}, {\"data\": [{\"x\": [1.4081632653061225], \"y\": [-0.7959183673469388]}]}, {\"data\": [{\"x\": [1.489795918367347], \"y\": [-0.7551020408163265]}]}, {\"data\": [{\"x\": [1.5714285714285714], \"y\": [-0.7142857142857143]}]}, {\"data\": [{\"x\": [1.6530612244897958], \"y\": [-0.6734693877551021]}]}, {\"data\": [{\"x\": [1.7346938775510203], \"y\": [-0.6326530612244898]}]}, {\"data\": [{\"x\": [1.816326530612245], \"y\": [-0.5918367346938775]}]}, {\"data\": [{\"x\": [1.8979591836734693], \"y\": [-0.5510204081632654]}]}, {\"data\": [{\"x\": [1.9795918367346939], \"y\": [-0.5102040816326531]}]}, {\"data\": [{\"x\": [2.061224489795918], \"y\": [-0.4693877551020409]}]}, {\"data\": [{\"x\": [2.142857142857143], \"y\": [-0.4285714285714286]}]}, {\"data\": [{\"x\": [2.224489795918367], \"y\": [-0.3877551020408164]}]}, {\"data\": [{\"x\": [2.3061224489795915], \"y\": [-0.34693877551020413]}]}, {\"data\": [{\"x\": [2.387755102040816], \"y\": [-0.30612244897959184]}]}, {\"data\": [{\"x\": [2.4693877551020407], \"y\": [-0.26530612244897966]}]}, {\"data\": [{\"x\": [2.5510204081632653], \"y\": [-0.22448979591836737]}]}, {\"data\": [{\"x\": [2.63265306122449], \"y\": [-0.1836734693877552]}]}, {\"data\": [{\"x\": [2.7142857142857144], \"y\": [-0.1428571428571429]}]}, {\"data\": [{\"x\": [2.7959183673469385], \"y\": [-0.10204081632653073]}]}, {\"data\": [{\"x\": [2.877551020408163], \"y\": [-0.061224489795918435]}]}, {\"data\": [{\"x\": [2.9591836734693877], \"y\": [-0.020408163265306145]}]}, {\"data\": [{\"x\": [3.0408163265306123], \"y\": [0.020408163265306145]}]}, {\"data\": [{\"x\": [3.1224489795918364], \"y\": [0.06122448979591821]}]}, {\"data\": [{\"x\": [3.204081632653061], \"y\": [0.1020408163265305]}]}, {\"data\": [{\"x\": [3.2857142857142856], \"y\": [0.1428571428571428]}]}, {\"data\": [{\"x\": [3.36734693877551], \"y\": [0.18367346938775508]}]}, {\"data\": [{\"x\": [3.4489795918367343], \"y\": [0.22448979591836715]}]}, {\"data\": [{\"x\": [3.530612244897959], \"y\": [0.26530612244897944]}]}, {\"data\": [{\"x\": [3.6122448979591835], \"y\": [0.30612244897959173]}]}, {\"data\": [{\"x\": [3.693877551020408], \"y\": [0.346938775510204]}]}, {\"data\": [{\"x\": [3.7755102040816326], \"y\": [0.3877551020408163]}]}, {\"data\": [{\"x\": [3.8571428571428568], \"y\": [0.4285714285714284]}]}, {\"data\": [{\"x\": [3.9387755102040813], \"y\": [0.46938775510204067]}]}, {\"data\": [{\"x\": [4.020408163265306], \"y\": [0.510204081632653]}]}, {\"data\": [{\"x\": [4.1020408163265305], \"y\": [0.5510204081632653]}]}, {\"data\": [{\"x\": [4.183673469387754], \"y\": [0.5918367346938773]}]}, {\"data\": [{\"x\": [4.26530612244898], \"y\": [0.6326530612244896]}]}, {\"data\": [{\"x\": [4.346938775510203], \"y\": [0.6734693877551019]}]}, {\"data\": [{\"x\": [4.428571428571429], \"y\": [0.7142857142857142]}]}, {\"data\": [{\"x\": [4.5102040816326525], \"y\": [0.7551020408163265]}]}, {\"data\": [{\"x\": [4.591836734693877], \"y\": [0.7959183673469385]}]}, {\"data\": [{\"x\": [4.673469387755102], \"y\": [0.8367346938775508]}]}, {\"data\": [{\"x\": [4.755102040816326], \"y\": [0.8775510204081631]}]}, {\"data\": [{\"x\": [4.836734693877551], \"y\": [0.9183673469387754]}]}, {\"data\": [{\"x\": [4.918367346938775], \"y\": [0.9591836734693877]}]}, {\"data\": [{\"x\": [5.0], \"y\": [1.0]}]}]);}).then(function(){Plotly.animate('2390a4a5-a64c-460f-8b15-ce79dc95ba3f');})\n",
       "        });</script>"
      ]
     },
     "metadata": {},
     "output_type": "display_data"
    }
   ],
   "source": [
    "x = [1]\n",
    "t= np.linspace(0,2,50)\n",
    "y = [-1]\n",
    "\n",
    "\n",
    "data=[dict(x=x, y=y,\n",
    "           name='frame',\n",
    "           mode='markers', \n",
    "           line=dict(width=2, color='blue')),\n",
    "\n",
    "    ]\n",
    "\n",
    "layout=dict(width=1000, height=500,\n",
    "            xaxis=dict(range=[0, 2*np.pi], autorange=False, zeroline=False),\n",
    "            yaxis=dict(range=[-1.1, 1.1], autorange=False, zeroline=False),\n",
    "            title='Animation', hovermode='closest',\n",
    "            updatemenus= [\n",
    "                {\n",
    "                    'buttons':[\n",
    "                        {\n",
    "                            'args': [[None], {'frame': {'duration': 0, 'redraw': False}, 'mode': 'immediate',\n",
    "                            'transition': {'duration': 0}}],\n",
    "                            'label': 'Pause',\n",
    "                            'method': 'animate'\n",
    "                        },\n",
    "                        {\n",
    "                            'args': [None, {'frame': {'duration': 0, 'redraw': False},\n",
    "                                'fromcurrent': True, 'transition': {'duration': 0, 'easing': 'quadratic-in-out'}}],\n",
    "                            'label': 'Play',\n",
    "                            'method': 'animate'\n",
    "                        }\n",
    "                    ]\n",
    "                }\n",
    "            ])\n",
    "\n",
    "frames=[dict(data=[dict(x=x+2*t[k], \n",
    "                        y=y+t[k]), \n",
    "\n",
    "                  ]) for k in range(50)]    \n",
    "figure = dict(data=data,layout=layout,frames=frames)\n",
    "iplot(figure)\n"
   ]
  },
  {
   "cell_type": "markdown",
   "metadata": {},
   "source": [
    "### Finally the sliders:\n",
    "\n",
    "Finally we have sliders, which are half way inbetween buttons and animations. When adding sliders to plotly, rather than using updatemenus we have a dictionary (still within the layout dictionary) called sliders.<br><br>\n",
    "\n",
    "From the example below you can see that this sliders dictionary has a number of different attributes, but our main focus is the steps attribute. Steps takes the form of a list of all the dataframes we want to plot. Here we have created steps using a simple for loop, which is often the simplest solution."
   ]
  },
  {
   "cell_type": "code",
   "execution_count": 15,
   "metadata": {},
   "outputs": [
    {
     "data": {
      "application/vnd.plotly.v1+json": {
       "data": [
        {
         "line": {
          "color": "blue",
          "width": 2
         },
         "mode": "markers",
         "name": "frame",
         "x": [
          2
         ],
         "y": [
          0
         ]
        }
       ],
       "layout": {
        "height": 500,
        "hovermode": "closest",
        "sliders": [
         {
          "active": 2,
          "currentvalue": {
           "prefix": "x position"
          },
          "pad": {
           "t": 6
          },
          "steps": [
           {
            "args": [
             {
              "x": [
               [
                0
               ]
              ]
             }
            ],
            "method": "update"
           },
           {
            "args": [
             {
              "x": [
               [
                1
               ]
              ]
             }
            ],
            "method": "update"
           },
           {
            "args": [
             {
              "x": [
               [
                2
               ]
              ]
             }
            ],
            "method": "update"
           },
           {
            "args": [
             {
              "x": [
               [
                3
               ]
              ]
             }
            ],
            "method": "update"
           },
           {
            "args": [
             {
              "x": [
               [
                4
               ]
              ]
             }
            ],
            "method": "update"
           },
           {
            "args": [
             {
              "x": [
               [
                5
               ]
              ]
             }
            ],
            "method": "update"
           }
          ]
         }
        ],
        "title": "Slider",
        "width": 1000,
        "xaxis": {
         "autorange": false,
         "range": [
          0,
          6.283185307179586
         ],
         "zeroline": false
        },
        "yaxis": {
         "autorange": false,
         "range": [
          -1.1,
          1.1
         ],
         "zeroline": false
        }
       }
      },
      "text/html": [
       "<div id=\"9bacc31e-9fef-453e-8be2-43fc0dc77cb6\" style=\"height: 500px; width: 1000px;\" class=\"plotly-graph-div\"></div><script type=\"text/javascript\">require([\"plotly\"], function(Plotly) { window.PLOTLYENV=window.PLOTLYENV || {};window.PLOTLYENV.BASE_URL=\"https://plot.ly\";Plotly.newPlot(\"9bacc31e-9fef-453e-8be2-43fc0dc77cb6\", [{\"x\": [2], \"y\": [0], \"name\": \"frame\", \"mode\": \"markers\", \"line\": {\"width\": 2, \"color\": \"blue\"}}], {\"width\": 1000, \"height\": 500, \"xaxis\": {\"range\": [0, 6.283185307179586], \"autorange\": false, \"zeroline\": false}, \"yaxis\": {\"range\": [-1.1, 1.1], \"autorange\": false, \"zeroline\": false}, \"title\": \"Slider\", \"hovermode\": \"closest\", \"sliders\": [{\"active\": 2, \"currentvalue\": {\"prefix\": \"x position\"}, \"pad\": {\"t\": 6}, \"steps\": [{\"method\": \"update\", \"args\": [{\"x\": [[0]]}]}, {\"method\": \"update\", \"args\": [{\"x\": [[1]]}]}, {\"method\": \"update\", \"args\": [{\"x\": [[2]]}]}, {\"method\": \"update\", \"args\": [{\"x\": [[3]]}]}, {\"method\": \"update\", \"args\": [{\"x\": [[4]]}]}, {\"method\": \"update\", \"args\": [{\"x\": [[5]]}]}]}]}, {\"showLink\": true, \"linkText\": \"Export to plot.ly\"})});</script>"
      ],
      "text/vnd.plotly.v1+html": [
       "<div id=\"9bacc31e-9fef-453e-8be2-43fc0dc77cb6\" style=\"height: 500px; width: 1000px;\" class=\"plotly-graph-div\"></div><script type=\"text/javascript\">require([\"plotly\"], function(Plotly) { window.PLOTLYENV=window.PLOTLYENV || {};window.PLOTLYENV.BASE_URL=\"https://plot.ly\";Plotly.newPlot(\"9bacc31e-9fef-453e-8be2-43fc0dc77cb6\", [{\"x\": [2], \"y\": [0], \"name\": \"frame\", \"mode\": \"markers\", \"line\": {\"width\": 2, \"color\": \"blue\"}}], {\"width\": 1000, \"height\": 500, \"xaxis\": {\"range\": [0, 6.283185307179586], \"autorange\": false, \"zeroline\": false}, \"yaxis\": {\"range\": [-1.1, 1.1], \"autorange\": false, \"zeroline\": false}, \"title\": \"Slider\", \"hovermode\": \"closest\", \"sliders\": [{\"active\": 2, \"currentvalue\": {\"prefix\": \"x position\"}, \"pad\": {\"t\": 6}, \"steps\": [{\"method\": \"update\", \"args\": [{\"x\": [[0]]}]}, {\"method\": \"update\", \"args\": [{\"x\": [[1]]}]}, {\"method\": \"update\", \"args\": [{\"x\": [[2]]}]}, {\"method\": \"update\", \"args\": [{\"x\": [[3]]}]}, {\"method\": \"update\", \"args\": [{\"x\": [[4]]}]}, {\"method\": \"update\", \"args\": [{\"x\": [[5]]}]}]}]}, {\"showLink\": true, \"linkText\": \"Export to plot.ly\"})});</script>"
      ]
     },
     "metadata": {},
     "output_type": "display_data"
    }
   ],
   "source": [
    "slider_range=6\n",
    "steps=[]\n",
    "for i in range(0,slider_range,1):\n",
    "    step = dict(\n",
    "        method='update',\n",
    "        args=[{'x':[[i]]}]\n",
    "    )\n",
    "    steps.append(step)\n",
    "    \n",
    "sliders= [dict(\n",
    "    active=2,\n",
    "    currentvalue={'prefix':'x position'},\n",
    "    pad={'t':slider_range},\n",
    "    steps=steps\n",
    ")]\n",
    "\n",
    "data=[dict(x=[2], y=[0],\n",
    "           name='frame',\n",
    "           mode='markers', \n",
    "           line=dict(width=2, color='blue')),\n",
    "\n",
    "    ]\n",
    "\n",
    "layout=dict(width=1000, height=500,\n",
    "            xaxis=dict(range=[0, 2*np.pi], autorange=False, zeroline=False),\n",
    "            yaxis=dict(range=[-1.1, 1.1], autorange=False, zeroline=False),\n",
    "            title='Slider', hovermode='closest',\n",
    "            sliders=sliders)\n",
    "figure = dict(data=data,layout=layout)\n",
    "iplot(figure)"
   ]
  },
  {
   "cell_type": "markdown",
   "metadata": {},
   "source": [
    "### BE AWARE: We will generally not be using plotly's interactivities because in all the three methods we have looked at, you must send of all of your frames at once! When you move a slider or press a button you are simply picking between data that you have already created. So if we ever want to continously add data, or use multiple sliders for the same plot, we will have to use javascript!"
   ]
  },
  {
   "cell_type": "code",
   "execution_count": null,
   "metadata": {
    "collapsed": true
   },
   "outputs": [],
   "source": []
  }
 ],
 "metadata": {
  "kernelspec": {
   "display_name": "Python 3",
   "language": "python",
   "name": "python3"
  },
  "language_info": {
   "codemirror_mode": {
    "name": "ipython",
    "version": 3
   },
   "file_extension": ".py",
   "mimetype": "text/x-python",
   "name": "python",
   "nbconvert_exporter": "python",
   "pygments_lexer": "ipython3",
   "version": "3.6.1"
  }
 },
 "nbformat": 4,
 "nbformat_minor": 2
}
