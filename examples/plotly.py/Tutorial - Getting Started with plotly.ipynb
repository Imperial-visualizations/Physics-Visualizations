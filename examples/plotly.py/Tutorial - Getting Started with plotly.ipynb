{
 "cells": [
  {
   "cell_type": "markdown",
   "metadata": {
    "extensions": {
     "jupyter_dashboards": {
      "version": 1,
      "views": {
       "grid_default": {},
       "report_default": {
        "hidden": false
       }
      }
     }
    }
   },
   "source": [
    "# Getting Started with Plotly\n",
    "\n",
    "<img src=\"https://s3-us-west-1.amazonaws.com/plotly-tutorials/background-images/home-img.jpg\" alt=\"Drawing\" style=\"width: 800px;\"/>"
   ]
  },
  {
   "cell_type": "markdown",
   "metadata": {
    "extensions": {
     "jupyter_dashboards": {
      "version": 1,
      "views": {
       "grid_default": {},
       "report_default": {
        "hidden": false
       }
      }
     }
    }
   },
   "source": [
    "## Installation"
   ]
  },
  {
   "cell_type": "markdown",
   "metadata": {
    "extensions": {
     "jupyter_dashboards": {
      "version": 1,
      "views": {
       "grid_default": {},
       "report_default": {
        "hidden": false
       }
      }
     }
    }
   },
   "source": [
    "First install plotly using 'pip install plotly' on your conda command prompt. <br><br>\n",
    "Whenever you start a new notebook import the following:\n"
   ]
  },
  {
   "cell_type": "code",
   "execution_count": 1,
   "metadata": {
    "extensions": {
     "jupyter_dashboards": {
      "version": 1,
      "views": {
       "grid_default": {},
       "report_default": {
        "hidden": false
       }
      }
     }
    }
   },
   "outputs": [
    {
     "data": {
      "text/html": [
       "<script>requirejs.config({paths: { 'plotly': ['https://cdn.plot.ly/plotly-latest.min']},});if(!window.Plotly) {{require(['plotly'],function(plotly) {window.Plotly=plotly;});}}</script>"
      ],
      "text/vnd.plotly.v1+html": [
       "<script>requirejs.config({paths: { 'plotly': ['https://cdn.plot.ly/plotly-latest.min']},});if(!window.Plotly) {{require(['plotly'],function(plotly) {window.Plotly=plotly;});}}</script>"
      ]
     },
     "metadata": {},
     "output_type": "display_data"
    }
   ],
   "source": [
    "from plotly.offline import download_plotlyjs,init_notebook_mode,plot,iplot\n",
    "import plotly.graph_objs as go\n",
    "init_notebook_mode(connected=True)"
   ]
  },
  {
   "cell_type": "markdown",
   "metadata": {
    "extensions": {
     "jupyter_dashboards": {
      "version": 1,
      "views": {
       "grid_default": {},
       "report_default": {
        "hidden": false
       }
      }
     }
    }
   },
   "source": [
    "\n",
    "Now you can get started with creating a plot! To do so, simply call iplot(figure) where your figure input is given by:\n",
    "\n",
    "figure = go.Figure(data,layout)\n",
    "\n",
    "In the next few sections we will go through the format, parameters, and useful tips for these **data** and **layout** inputs."
   ]
  },
  {
   "cell_type": "markdown",
   "metadata": {
    "extensions": {
     "jupyter_dashboards": {
      "version": 1,
      "views": {
       "grid_default": {},
       "report_default": {
        "hidden": false
       }
      }
     }
    }
   },
   "source": [
    "## Data"
   ]
  },
  {
   "cell_type": "markdown",
   "metadata": {
    "extensions": {
     "jupyter_dashboards": {
      "version": 1,
      "views": {
       "grid_default": {},
       "report_default": {
        "hidden": false
       }
      }
     }
    }
   },
   "source": [
    "Data is the most important input for our figure. In fact, you can create a figure without any layout input, but not without data! \n",
    "<br><br>\n",
    "On the Plotly website there are many ways of defining a dataset. For continuity, you should always use the 'trace' method. This method involves defining a series of traces such as those shown below, then letting our data equal a list of these traces, shown below. This is our preferred documentation for data because if you want to plot, say, both a line and a plane, you can have different traces for the line and plane. This makes it easier to manipulate one without changing the other.\n",
    "\n"
   ]
  },
  {
   "cell_type": "code",
   "execution_count": 18,
   "metadata": {
    "collapsed": true,
    "extensions": {
     "jupyter_dashboards": {
      "version": 1,
      "views": {
       "grid_default": {},
       "report_default": {
        "hidden": false
       }
      }
     }
    }
   },
   "outputs": [],
   "source": [
    "trace1 = dict(\n",
    "    go.Scatter(\n",
    "        x=[1,2,5,9],\n",
    "        y=[5,0,8,2],\n",
    "        mode='markers',\n",
    "        name='bubbles!',\n",
    "        marker=dict(\n",
    "            size=15\n",
    "        )\n",
    "        \n",
    "    )\n",
    ")\n",
    "\n",
    "trace2 = dict(\n",
    "    go.Scatter(\n",
    "        x=[1,3,5,7],\n",
    "        y=[1,3,5,7],\n",
    "        name='lines',\n",
    "        line = dict(\n",
    "            width=2,\n",
    "            color='rgb(21,117,22)'\n",
    "        )\n",
    "        \n",
    "    )\n",
    ")\n",
    "data = [trace1,trace2]"
   ]
  },
  {
   "cell_type": "markdown",
   "metadata": {
    "extensions": {
     "jupyter_dashboards": {
      "version": 1,
      "views": {
       "grid_default": {},
       "report_default": {
        "hidden": false
       }
      }
     }
    }
   },
   "source": [
    "As you can see traces are dictionaries that contain the datasets that we want to plot. Note that these traces also have \n",
    "layout parameters, such as marker colour. However, the only **required** inputs are the data points for x y and z - all other parameters have default values."
   ]
  },
  {
   "cell_type": "markdown",
   "metadata": {
    "extensions": {
     "jupyter_dashboards": {
      "version": 1,
      "views": {
       "grid_default": {},
       "report_default": {
        "hidden": false
       }
      }
     }
    }
   },
   "source": [
    "## Layout"
   ]
  },
  {
   "cell_type": "markdown",
   "metadata": {
    "extensions": {
     "jupyter_dashboards": {
      "version": 1,
      "views": {
       "grid_default": {},
       "report_default": {
        "hidden": true
       }
      }
     }
    }
   },
   "source": [
    "While traces  can describe the layout of individual datasets, our 'layout' parameter to describe the plot as a whole. Define your layout as a dictionary of multiple layout parameters:"
   ]
  },
  {
   "cell_type": "code",
   "execution_count": 22,
   "metadata": {
    "collapsed": true,
    "extensions": {
     "jupyter_dashboards": {
      "version": 1,
      "views": {
       "grid_default": {},
       "report_default": {
        "hidden": true
       }
      }
     }
    }
   },
   "outputs": [],
   "source": [
    "layout = dict(\n",
    "    width=600,height=600,\n",
    "    showlegend=True,\n",
    "    title='2D Example',\n",
    "    font = dict(family=\"Verdana\"),\n",
    "    xaxis = dict(range=[-1, 10], autorange=False, zeroline=False),\n",
    "    yaxis = dict(range=[-1, 10], autorange=False, zeroline=False),\n",
    "    plot_bgcolor='rgb(255, 255, 255)'\n",
    ")"
   ]
  },
  {
   "cell_type": "code",
   "execution_count": 23,
   "metadata": {
    "extensions": {
     "jupyter_dashboards": {
      "version": 1,
      "views": {
       "grid_default": {},
       "report_default": {
        "hidden": false
       }
      }
     }
    }
   },
   "outputs": [
    {
     "data": {
      "application/vnd.plotly.v1+json": {
       "data": [
        {
         "marker": {
          "size": 15
         },
         "mode": "markers",
         "name": "bubbles!",
         "type": "scatter",
         "x": [
          1,
          2,
          5,
          9
         ],
         "y": [
          5,
          0,
          8,
          2
         ]
        },
        {
         "line": {
          "color": "rgb(21,117,22)",
          "width": 2
         },
         "name": "lines",
         "type": "scatter",
         "x": [
          1,
          3,
          5,
          7
         ],
         "y": [
          1,
          3,
          5,
          7
         ]
        }
       ],
       "layout": {
        "font": {
         "family": "Verdana"
        },
        "height": 600,
        "plot_bgcolor": "rgb(255, 255, 255)",
        "showlegend": true,
        "title": "2D Example",
        "width": 600,
        "xaxis": {
         "autorange": false,
         "range": [
          -1,
          10
         ],
         "zeroline": false
        },
        "yaxis": {
         "autorange": false,
         "range": [
          -1,
          10
         ],
         "zeroline": false
        }
       }
      },
      "text/html": [
       "<div id=\"d347245d-aeb6-41c7-a6f1-1cf66437e3d1\" style=\"height: 600px; width: 600px;\" class=\"plotly-graph-div\"></div><script type=\"text/javascript\">require([\"plotly\"], function(Plotly) { window.PLOTLYENV=window.PLOTLYENV || {};window.PLOTLYENV.BASE_URL=\"https://plot.ly\";Plotly.newPlot(\"d347245d-aeb6-41c7-a6f1-1cf66437e3d1\", [{\"mode\": \"markers\", \"y\": [5, 0, 8, 2], \"x\": [1, 2, 5, 9], \"name\": \"bubbles!\", \"marker\": {\"size\": 15}, \"type\": \"scatter\"}, {\"type\": \"scatter\", \"line\": {\"color\": \"rgb(21,117,22)\", \"width\": 2}, \"x\": [1, 3, 5, 7], \"y\": [1, 3, 5, 7], \"name\": \"lines\"}], {\"plot_bgcolor\": \"rgb(255, 255, 255)\", \"xaxis\": {\"range\": [-1, 10], \"autorange\": false, \"zeroline\": false}, \"font\": {\"family\": \"Verdana\"}, \"showlegend\": true, \"height\": 600, \"width\": 600, \"yaxis\": {\"range\": [-1, 10], \"autorange\": false, \"zeroline\": false}, \"title\": \"2D Example\"}, {\"linkText\": \"Export to plot.ly\", \"showLink\": true})});</script>"
      ],
      "text/vnd.plotly.v1+html": [
       "<div id=\"d347245d-aeb6-41c7-a6f1-1cf66437e3d1\" style=\"height: 600px; width: 600px;\" class=\"plotly-graph-div\"></div><script type=\"text/javascript\">require([\"plotly\"], function(Plotly) { window.PLOTLYENV=window.PLOTLYENV || {};window.PLOTLYENV.BASE_URL=\"https://plot.ly\";Plotly.newPlot(\"d347245d-aeb6-41c7-a6f1-1cf66437e3d1\", [{\"mode\": \"markers\", \"y\": [5, 0, 8, 2], \"x\": [1, 2, 5, 9], \"name\": \"bubbles!\", \"marker\": {\"size\": 15}, \"type\": \"scatter\"}, {\"type\": \"scatter\", \"line\": {\"color\": \"rgb(21,117,22)\", \"width\": 2}, \"x\": [1, 3, 5, 7], \"y\": [1, 3, 5, 7], \"name\": \"lines\"}], {\"plot_bgcolor\": \"rgb(255, 255, 255)\", \"xaxis\": {\"range\": [-1, 10], \"autorange\": false, \"zeroline\": false}, \"font\": {\"family\": \"Verdana\"}, \"showlegend\": true, \"height\": 600, \"width\": 600, \"yaxis\": {\"range\": [-1, 10], \"autorange\": false, \"zeroline\": false}, \"title\": \"2D Example\"}, {\"linkText\": \"Export to plot.ly\", \"showLink\": true})});</script>"
      ]
     },
     "metadata": {},
     "output_type": "display_data"
    }
   ],
   "source": [
    "fig=go.Figure(data=data,layout=layout)\n",
    "iplot(fig)"
   ]
  },
  {
   "cell_type": "markdown",
   "metadata": {
    "extensions": {
     "jupyter_dashboards": {
      "version": 1,
      "views": {
       "grid_default": {},
       "report_default": {
        "hidden": false
       }
      }
     }
    }
   },
   "source": [
    "Play with the data and layout parameters and run the notebook again to see how the plot changes! \n"
   ]
  },
  {
   "cell_type": "markdown",
   "metadata": {},
   "source": [
    "Remember: how a plot looks is important so get a feel of what makes an aesthetic plot.\n",
    "\n",
    "\n",
    "There is a style guide available on github in the Imperial Visualisations folder. Following these guidelines is important to create a consistent in-house style. However if a plot you are creating would look much better by breaking the rules, then go ahead."
   ]
  },
  {
   "cell_type": "markdown",
   "metadata": {
    "extensions": {
     "jupyter_dashboards": {
      "version": 1,
      "views": {
       "grid_default": {},
       "report_default": {
        "hidden": false
       }
      }
     }
    }
   },
   "source": [
    "# Moving to 3D"
   ]
  },
  {
   "cell_type": "markdown",
   "metadata": {
    "extensions": {
     "jupyter_dashboards": {
      "version": 1,
      "views": {
       "grid_default": {},
       "report_default": {
        "hidden": false
       }
      }
     }
    }
   },
   "source": [
    "Unlike other plotting modules, it is incredibly easy to move from 2D to 3D in plotly. All you have to do is make sure your trace type (Scatter, Surface, etc) is a 3D compatible type, such as Scatter3d. Then all you have to do is specify z values in your trace. As an example, why don't we just add simple z values of 0 and 1 to the previous 3d plots:"
   ]
  },
  {
   "cell_type": "code",
   "execution_count": 25,
   "metadata": {
    "extensions": {
     "jupyter_dashboards": {
      "version": 1,
      "views": {
       "grid_default": {},
       "report_default": {
        "hidden": true
       }
      }
     }
    }
   },
   "outputs": [
    {
     "data": {
      "application/vnd.plotly.v1+json": {
       "data": [
        {
         "marker": {
          "size": 15
         },
         "mode": "markers",
         "name": "bubbles!",
         "type": "scatter3d",
         "x": [
          1,
          2,
          5,
          9
         ],
         "y": [
          5,
          0,
          8,
          2
         ],
         "z": [
          0,
          0,
          0,
          0
         ]
        },
        {
         "line": {
          "color": "rgb(21,117,22)",
          "width": 2
         },
         "name": "lines",
         "type": "scatter3d",
         "x": [
          1,
          3,
          5,
          7
         ],
         "y": [
          1,
          3,
          5,
          7
         ],
         "z": [
          1,
          1,
          1,
          1
         ]
        }
       ],
       "layout": {
        "font": {
         "family": "Verdana"
        },
        "height": 600,
        "plot_bgcolor": "rgb(255, 255, 255)",
        "scene": {
         "aspectmode": "cube",
         "camera": {
          "center": {
           "x": 0,
           "y": 0,
           "z": 0
          },
          "eye": {
           "x": 1,
           "y": -1,
           "z": 1
          }
         },
         "xaxis": {
          "autorange": false,
          "range": [
           -1,
           10
          ],
          "zeroline": false
         },
         "yaxis": {
          "autorange": false,
          "range": [
           -1,
           10
          ],
          "zeroline": false
         }
        },
        "showlegend": true,
        "title": "3D Example",
        "width": 600
       }
      },
      "text/html": [
       "<div id=\"6d6a9b65-d7a1-4167-9fdc-fe19aa0a4be2\" style=\"height: 600px; width: 600px;\" class=\"plotly-graph-div\"></div><script type=\"text/javascript\">require([\"plotly\"], function(Plotly) { window.PLOTLYENV=window.PLOTLYENV || {};window.PLOTLYENV.BASE_URL=\"https://plot.ly\";Plotly.newPlot(\"6d6a9b65-d7a1-4167-9fdc-fe19aa0a4be2\", [{\"mode\": \"markers\", \"marker\": {\"size\": 15}, \"y\": [5, 0, 8, 2], \"x\": [1, 2, 5, 9], \"name\": \"bubbles!\", \"z\": [0, 0, 0, 0], \"type\": \"scatter3d\"}, {\"line\": {\"color\": \"rgb(21,117,22)\", \"width\": 2}, \"y\": [1, 3, 5, 7], \"x\": [1, 3, 5, 7], \"name\": \"lines\", \"z\": [1, 1, 1, 1], \"type\": \"scatter3d\"}], {\"title\": \"3D Example\", \"plot_bgcolor\": \"rgb(255, 255, 255)\", \"font\": {\"family\": \"Verdana\"}, \"showlegend\": true, \"height\": 600, \"scene\": {\"camera\": {\"center\": {\"x\": 0, \"z\": 0, \"y\": 0}, \"eye\": {\"x\": 1, \"z\": 1, \"y\": -1}}, \"yaxis\": {\"range\": [-1, 10], \"autorange\": false, \"zeroline\": false}, \"xaxis\": {\"range\": [-1, 10], \"autorange\": false, \"zeroline\": false}, \"aspectmode\": \"cube\"}, \"width\": 600}, {\"linkText\": \"Export to plot.ly\", \"showLink\": true})});</script>"
      ],
      "text/vnd.plotly.v1+html": [
       "<div id=\"6d6a9b65-d7a1-4167-9fdc-fe19aa0a4be2\" style=\"height: 600px; width: 600px;\" class=\"plotly-graph-div\"></div><script type=\"text/javascript\">require([\"plotly\"], function(Plotly) { window.PLOTLYENV=window.PLOTLYENV || {};window.PLOTLYENV.BASE_URL=\"https://plot.ly\";Plotly.newPlot(\"6d6a9b65-d7a1-4167-9fdc-fe19aa0a4be2\", [{\"mode\": \"markers\", \"marker\": {\"size\": 15}, \"y\": [5, 0, 8, 2], \"x\": [1, 2, 5, 9], \"name\": \"bubbles!\", \"z\": [0, 0, 0, 0], \"type\": \"scatter3d\"}, {\"line\": {\"color\": \"rgb(21,117,22)\", \"width\": 2}, \"y\": [1, 3, 5, 7], \"x\": [1, 3, 5, 7], \"name\": \"lines\", \"z\": [1, 1, 1, 1], \"type\": \"scatter3d\"}], {\"title\": \"3D Example\", \"plot_bgcolor\": \"rgb(255, 255, 255)\", \"font\": {\"family\": \"Verdana\"}, \"showlegend\": true, \"height\": 600, \"scene\": {\"camera\": {\"center\": {\"x\": 0, \"z\": 0, \"y\": 0}, \"eye\": {\"x\": 1, \"z\": 1, \"y\": -1}}, \"yaxis\": {\"range\": [-1, 10], \"autorange\": false, \"zeroline\": false}, \"xaxis\": {\"range\": [-1, 10], \"autorange\": false, \"zeroline\": false}, \"aspectmode\": \"cube\"}, \"width\": 600}, {\"linkText\": \"Export to plot.ly\", \"showLink\": true})});</script>"
      ]
     },
     "metadata": {},
     "output_type": "display_data"
    }
   ],
   "source": [
    "trace1 = dict(\n",
    "    go.Scatter3d(\n",
    "        x=[1,2,5,9],\n",
    "        y=[5,0,8,2],\n",
    "        z=[0,0,0,0],\n",
    "        mode='markers',\n",
    "        name='bubbles!',\n",
    "        marker=dict(\n",
    "            size=15\n",
    "        )\n",
    "        \n",
    "    )\n",
    ")\n",
    "\n",
    "trace2 = dict(\n",
    "    go.Scatter3d(\n",
    "        x=[1,3,5,7],\n",
    "        y=[1,3,5,7],\n",
    "        z=[1,1,1,1],\n",
    "        name='lines',\n",
    "        line = dict(\n",
    "            width=2,\n",
    "            color='rgb(21,117,22)'\n",
    "        )\n",
    "        \n",
    "    )\n",
    ")\n",
    "layout = dict(\n",
    "    width=600,height=600,\n",
    "    showlegend=True,\n",
    "    title='3D Example',\n",
    "    font = dict(family=\"Verdana\"),\n",
    "    scene = dict(\n",
    "        xaxis = dict(range=[-1, 10], autorange=False, zeroline=False),\n",
    "        yaxis = dict(range=[-1, 10], autorange=False, zeroline=False),\n",
    "        aspectmode = 'cube',\n",
    "        camera = dict(center=dict(x=0,y=0,z=0),eye=dict(x=1,y=-1,z=1))\n",
    "                ),\n",
    "    plot_bgcolor='rgb(255, 255, 255)'\n",
    ")\n",
    "data = [trace1,trace2]\n",
    "fig=go.Figure(data=data,layout=layout)\n",
    "iplot(fig)"
   ]
  },
  {
   "cell_type": "markdown",
   "metadata": {
    "extensions": {
     "jupyter_dashboards": {
      "version": 1,
      "views": {
       "grid_default": {},
       "report_default": {
        "hidden": true
       }
      }
     }
    }
   },
   "source": [
    "### See how easy that was!"
   ]
  },
  {
   "cell_type": "markdown",
   "metadata": {},
   "source": [
    "## Tips and Tricks"
   ]
  },
  {
   "cell_type": "markdown",
   "metadata": {},
   "source": [
    "Now the tougher parts of plotly are getting plots to animate, update, and change layout. These interactivities will be covered in the next notebook, but before that here are a few useful tips when plotting using plotly:"
   ]
  },
  {
   "cell_type": "markdown",
   "metadata": {},
   "source": [
    "* The 'scene' dictionary in layout is one of the most powerful tools for 3d plotting. Not only does it describe your axes, but it also describes the start properties of the camera. Of the camera's properties all you really need to worry about is eye, which sets the starting position of the camera.\n",
    "\n",
    "* Sometimes plotly will set default axis ratios that don't look good or don't suit your needs. 'Aspectmode' in layout is very useful for making sure you control the axis ratios.\n",
    "\n",
    "* If you plot a surface, you may find the default plotly colourscale looks quite bad. To set your own colour to the surface, add the property colorscale to your surface trace, with syntax: colorscale = [[0,'colour1'],[1,'colour2']]"
   ]
  },
  {
   "cell_type": "code",
   "execution_count": null,
   "metadata": {
    "collapsed": true
   },
   "outputs": [],
   "source": []
  }
 ],
 "metadata": {
  "anaconda-cloud": {},
  "extensions": {
   "jupyter_dashboards": {
    "activeView": "report_default",
    "version": 1,
    "views": {
     "grid_default": {
      "name": "grid",
      "type": "grid"
     },
     "report_default": {
      "name": "report",
      "type": "report"
     }
    }
   }
  },
  "kernelspec": {
   "display_name": "Python 3",
   "language": "python",
   "name": "python3"
  },
  "language_info": {
   "codemirror_mode": {
    "name": "ipython",
    "version": 3
   },
   "file_extension": ".py",
   "mimetype": "text/x-python",
   "name": "python",
   "nbconvert_exporter": "python",
   "pygments_lexer": "ipython3",
   "version": "3.6.1"
  }
 },
 "nbformat": 4,
 "nbformat_minor": 1
}
