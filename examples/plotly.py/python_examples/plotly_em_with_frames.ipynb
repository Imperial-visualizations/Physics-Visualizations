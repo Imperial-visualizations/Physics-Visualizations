{
 "cells": [
  {
   "cell_type": "code",
   "execution_count": 1,
   "metadata": {},
   "outputs": [
    {
     "data": {
      "text/html": [
       "<script>requirejs.config({paths: { 'plotly': ['https://cdn.plot.ly/plotly-latest.min']},});if(!window.Plotly) {{require(['plotly'],function(plotly) {window.Plotly=plotly;});}}</script>"
      ],
      "text/vnd.plotly.v1+html": [
       "<script>requirejs.config({paths: { 'plotly': ['https://cdn.plot.ly/plotly-latest.min']},});if(!window.Plotly) {{require(['plotly'],function(plotly) {window.Plotly=plotly;});}}</script>"
      ]
     },
     "metadata": {},
     "output_type": "display_data"
    }
   ],
   "source": [
    "import numpy as np\n",
    "from scipy.integrate import tplquad,dblquad\n",
    "from plotly import __version__\n",
    "from plotly.offline import download_plotlyjs,init_notebook_mode,plot,iplot\n",
    "import plotly.graph_objs as go\n",
    "from ipywidgets import interact, interactive, fixed, interact_manual\n",
    "import ipywidgets as widgets\n",
    "init_notebook_mode(connected=True)"
   ]
  },
  {
   "cell_type": "code",
   "execution_count": 2,
   "metadata": {
    "collapsed": true
   },
   "outputs": [],
   "source": [
    "u = np.linspace(0, 2 * np.pi, 100)\n",
    "v = np.linspace(0, np.pi, 100)\n",
    "\n",
    "x = [1*np.outer(np.cos(u), np.sin(v)),1*np.outer(np.cos(u), np.sin(v))]\n",
    "y = [1*np.outer(np.sin(u), np.sin(v)),1*np.outer(np.sin(u), np.sin(v))]\n",
    "z = [1*np.outer(np.ones(np.size(u)), np.cos(v)),np.outer(np.ones(np.size(u))*0, np.cos(v)*0)]\n",
    "trace = go.Surface(\n",
    "                colorscale = [[0,'rgb(115,7,122)'],[1,'rgb(80,80,230)']],\n",
    "                showscale=False,\n",
    "                z = z[0],\n",
    "                x= x[0],\n",
    "                y = y[1])\n",
    "trace1 = go.Surface(\n",
    "                colorscale = [[0,'rgb(115,7,122)'],[1,'rgb(80,80,230)']],\n",
    "                showscale=False,\n",
    "                z = z[1],\n",
    "                x= x[1],\n",
    "                y = y[1])"
   ]
  },
  {
   "cell_type": "code",
   "execution_count": 3,
   "metadata": {},
   "outputs": [
    {
     "data": {
      "text/plain": [
       "'file:///home/akash/Documents/Imperial-Visualizations/initial_examples/temp-plot.html'"
      ]
     },
     "execution_count": 3,
     "metadata": {},
     "output_type": "execute_result"
    }
   ],
   "source": [
    "data = [trace,trace1]\n",
    "updatemenus = list([\n",
    "    dict(type=\"buttons\",\n",
    "         active=-1,\n",
    "         buttons=list([   \n",
    "            dict(label = 'Sphere',\n",
    "                 method = 'update',\n",
    "                 args = [{'visible': [True, False]}]),\n",
    "            dict(label = 'Disk',\n",
    "                 method = 'update',\n",
    "                 args = [{'visible': [False,True]}]),\n",
    "        ]),\n",
    "    )\n",
    "])\n",
    "\n",
    "layout = dict(title='Sphere or disk', showlegend=False,updatemenus=updatemenus)\n",
    "fig = dict(data=data, layout=layout)\n",
    "plot(fig)"
   ]
  },
  {
   "cell_type": "code",
   "execution_count": 4,
   "metadata": {
    "collapsed": true
   },
   "outputs": [],
   "source": [
    "class test_charge:\n",
    "    def __init__(self,position):\n",
    "        self.p = np.array(position)\n",
    "    def force(self,surface):\n",
    "        u = np.linspace(0, 2 * np.pi, 100)\n",
    "        v = np.linspace(0, np.pi, 100)\n",
    "        F = list()\n",
    "        global p,rho,i\n",
    "        rho = surface.rho\n",
    "        p = self.p\n",
    "        if surface.s == 'sphere':\n",
    "            for j in range(3):\n",
    "                i=j\n",
    "                #tplquad returns the triple integral of the force\n",
    "                F.append(tplquad(Force_element_sphere,0,np.pi,lambda phi: 0, lambda phi: 2*np.pi, lambda phi,theta: 0, lambda phi, theta: surface.dim)[0])\n",
    "        elif surface.s=='disk':\n",
    "            for j in range(3):\n",
    "                i=j\n",
    "                #tplquad returns the triple integral of the force\n",
    "                F.append(dblquad(Force_element_disk,0,2*np.pi,lambda theta: 0, lambda theta: surface.dim)[0])\n",
    "        return F"
   ]
  },
  {
   "cell_type": "code",
   "execution_count": null,
   "metadata": {
    "collapsed": true
   },
   "outputs": [],
   "source": []
  }
 ],
 "metadata": {
  "kernelspec": {
   "display_name": "Python 3",
   "language": "python",
   "name": "python3"
  },
  "language_info": {
   "codemirror_mode": {
    "name": "ipython",
    "version": 3
   },
   "file_extension": ".py",
   "mimetype": "text/x-python",
   "name": "python",
   "nbconvert_exporter": "python",
   "pygments_lexer": "ipython3",
   "version": "3.6.1"
  }
 },
 "nbformat": 4,
 "nbformat_minor": 1
}
