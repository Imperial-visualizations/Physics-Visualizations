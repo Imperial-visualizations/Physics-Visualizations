{
 "cells": [
  {
   "cell_type": "raw",
   "metadata": {},
   "source": [
    "HTML(\"\"\"<script>\n",
    "  function code_toggle() {\n",
    "    if (code_shown){\n",
    "      $('div.input').hide('500');\n",
    "      $('#toggleButton').val('Show Code')\n",
    "    } else {\n",
    "      $('div.input').show('500');\n",
    "      $('#toggleButton').val('Hide Code')\n",
    "    }\n",
    "    code_shown = !code_shown\n",
    "  }\n",
    "\n",
    "  $( document ).ready(function(){\n",
    "    code_shown=false;\n",
    "    $('div.input').hide()\n",
    "  });\n",
    "</script>\n",
    "<form action=\"javascript:code_toggle()\"><input type=\"submit\" id=\"toggleButton\" value=\"Show Code\"></form>\"\"\")"
   ]
  },
  {
   "cell_type": "code",
   "execution_count": null,
   "metadata": {
    "collapsed": false
   },
   "outputs": [],
   "source": [
    "import numpy as np\n",
    "from scipy.integrate import tplquad\n",
    "from plotly import __version__\n",
    "from plotly.offline import download_plotlyjs,init_notebook_mode,plot,iplot\n",
    "import plotly.graph_objs as go\n",
    "from ipywidgets import interact, interactive, fixed, interact_manual\n",
    "import ipywidgets as widgets\n",
    "init_notebook_mode(connected=True)"
   ]
  },
  {
   "cell_type": "code",
   "execution_count": null,
   "metadata": {
    "collapsed": true
   },
   "outputs": [],
   "source": [
    "k = 8.987551E9"
   ]
  },
  {
   "cell_type": "code",
   "execution_count": null,
   "metadata": {
    "collapsed": true
   },
   "outputs": [],
   "source": [
    "#outputs force element in direction i, given coulomb's constant k, test charge position p, and density rho for a sphere\n",
    "def Force_element_sphere(r,theta,phi):\n",
    "    r_vector = np.array([r*np.sin(phi)*np.cos(theta),r*np.sin(phi)*np.sin(theta),r*np.cos(phi)])\n",
    "    distance= p-r_vector\n",
    "    dV = np.linalg.norm(r_vector)**2*np.sin(phi)\n",
    "    dq = dV*rho\n",
    "    dF = dq*k*distance/(np.linalg.norm(distance)**3)\n",
    "    return dF[i]"
   ]
  },
  {
   "cell_type": "code",
   "execution_count": null,
   "metadata": {
    "collapsed": true
   },
   "outputs": [],
   "source": [
    "def Force_element_disk(r,theta,phi):\n",
    "    r_vector = np.array([r*np.sin(phi)*np.cos(theta),r*np.sin(phi)*np.sin(theta),r*np.cos(phi)])\n",
    "    distance= p-r_vector\n",
    "    dV = np.linalg.norm(r_vector)**2*np.sin(phi)\n",
    "    dq = dV*rho\n",
    "    dF = dq*k*distance/(np.linalg.norm(distance)**3)\n",
    "    return dF[i]"
   ]
  },
  {
   "cell_type": "code",
   "execution_count": null,
   "metadata": {
    "collapsed": true
   },
   "outputs": [],
   "source": [
    "class surface: \n",
    "    def __init__(self, density,shape,linear_dim):\n",
    "        self.rho = density\n",
    "        self.s = shape\n",
    "        self.dim= linear_dim"
   ]
  },
  {
   "cell_type": "code",
   "execution_count": null,
   "metadata": {
    "collapsed": false
   },
   "outputs": [],
   "source": [
    "class test_charge:\n",
    "    def __init__(self,position):\n",
    "        self.p = np.array(position)\n",
    "    def force(self,surface):\n",
    "        F = list()\n",
    "        if surface.s == 'sphere':\n",
    "            global p,rho,i\n",
    "            rho = surface.rho\n",
    "            p = self.p\n",
    "            for j in range(3):\n",
    "                i=j\n",
    "                #tplquad returns the triple integral of the force\n",
    "                F.append(tplquad(Force_element_sphere,0,np.pi,lambda phi: 0, lambda phi: 2*np.pi, lambda phi,theta: 0, lambda phi, theta: surface.dim)[0])\n",
    "\n",
    "                u = np.linspace(0, 2 * np.pi, 100)\n",
    "                v = np.linspace(0, np.pi, 100)\n",
    "                x = surface.dim*np.outer(np.cos(u), np.sin(v))\n",
    "                y = surface.dim*np.outer(np.sin(u), np.sin(v))\n",
    "                z = surface.dim*np.outer(np.ones(np.size(u)), np.cos(v))\n",
    "\n",
    "        \n",
    "                trace = go.Surface(\n",
    "                colorscale = [[0,'rgb(15,7,122)'],[1,'rgb(80,80,230)']],\n",
    "                z = z,\n",
    "                x= x,\n",
    "                y = y)\n",
    "        trace2 = go.Scatter3d(\n",
    "                x = [p[0],p[0]+F[0]*(0.5*10**(-9))],\n",
    "                y= [p[1],p[1]+F[1]*(0.5*10**(-9))],\n",
    "                z=[p[2],p[2]+F[2]*(0.5*10**(-9))],\n",
    "                marker = dict(\n",
    "                        size=2,\n",
    "                        color= 'rgb(21,117,22)',\n",
    "                        symbol= 'diamond'\n",
    "                        ),\n",
    "                line=dict(\n",
    "                        width=5,\n",
    "                        color='rgb(21,117,22)',\n",
    "                        )\n",
    "                )\n",
    "        \n",
    "        trace3 = go.Scatter3d(\n",
    "                x = [p[0]],\n",
    "                y= [p[1]],\n",
    "                z=[p[2]],\n",
    "                marker = dict(\n",
    "                        size=5,\n",
    "                        color= 'rgb(214,11,8)'\n",
    "                        )\n",
    "                )\n",
    "        \n",
    "        data = [trace,trace2,trace3]\n",
    "        layout = go.Layout(\n",
    "                width = 800,height=800,\n",
    "                autosize=True,\n",
    "                scene = dict(\n",
    "                xaxis = dict(range=[-5, 5], autorange=False, zeroline=False),\n",
    "                yaxis= dict(range=[-5, 5], autorange=False, zeroline=False),\n",
    "                zaxis=dict(range=[-5, 5], autorange=False, zeroline=False),\n",
    "                aspectmode = 'cube'\n",
    "                ),\n",
    "                title = 'Test Charge'\n",
    "\n",
    "                )\n",
    "        figure = go.Figure(data=data,layout=layout)\n",
    "        iplot(figure)"
   ]
  },
  {
   "cell_type": "code",
   "execution_count": null,
   "metadata": {
    "collapsed": true
   },
   "outputs": [],
   "source": [
    "def make_plot(density,shape,linear_dim,position):\n",
    "    sphere1 = surface(density,shape,linear_dim)\n",
    "    test = test_charge(position)\n",
    "    test.force(sphere1)"
   ]
  },
  {
   "cell_type": "code",
   "execution_count": null,
   "metadata": {
    "collapsed": false
   },
   "outputs": [],
   "source": [
    "interact(make_plot,density=(0,2.,0.2),shape=fixed('sphere'),linear_dim=fixed(1.),position=fixed([2.,2.,2.,]))"
   ]
  },
  {
   "cell_type": "code",
   "execution_count": null,
   "metadata": {
    "collapsed": true
   },
   "outputs": [],
   "source": [
    ""
   ]
  }
 ],
 "metadata": {
  "anaconda-cloud": {},
  "kernelspec": {
   "display_name": "Python [default]",
   "language": "python",
   "name": "python3"
  },
  "language_info": {
   "codemirror_mode": {
    "name": "ipython",
    "version": 3.0
   },
   "file_extension": ".py",
   "mimetype": "text/x-python",
   "name": "python",
   "nbconvert_exporter": "python",
   "pygments_lexer": "ipython3",
   "version": "3.5.2"
  }
 },
 "nbformat": 4,
 "nbformat_minor": 0
}