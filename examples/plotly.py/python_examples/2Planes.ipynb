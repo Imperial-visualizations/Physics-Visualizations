{
 "cells": [
  {
   "cell_type": "code",
   "execution_count": 10,
   "metadata": {},
   "outputs": [
    {
     "data": {
      "text/html": [
       "<script>requirejs.config({paths: { 'plotly': ['https://cdn.plot.ly/plotly-latest.min']},});if(!window.Plotly) {{require(['plotly'],function(plotly) {window.Plotly=plotly;});}}</script>"
      ],
      "text/vnd.plotly.v1+html": [
       "<script>requirejs.config({paths: { 'plotly': ['https://cdn.plot.ly/plotly-latest.min']},});if(!window.Plotly) {{require(['plotly'],function(plotly) {window.Plotly=plotly;});}}</script>"
      ]
     },
     "metadata": {},
     "output_type": "display_data"
    }
   ],
   "source": [
    "import plotly\n",
    "from plotly.offline import download_plotlyjs,init_notebook_mode,plot,iplot\n",
    "import plotly.graph_objs as go\n",
    "init_notebook_mode(connected=True)\n",
    "import numpy as np\n",
    "from plotly.graph_objs import Surface\n",
    "import json\n",
    "\n",
    "# Range of x,y values\n",
    "x = np.array(range(10))\n",
    "y = np.array(range(10))\n",
    "\n",
    "# Plane 1 \n",
    "a = 2\n",
    "b = -1\n",
    "c = 8\n",
    "n1 = [a,b,c]\n",
    "d = -4\n",
    "\n",
    "# Plane 2 \n",
    "e = 2\n",
    "f = -3\n",
    "g = -7\n",
    "n2 = [e,f,g]\n",
    "h = 9\n",
    "\n",
    "# Direction vector of line intersection \n",
    "direction = np.cross(n1,n2)/np.linalg.norm(np.cross(n1,n2))\n",
    "# Find a point of intersection, set x = 0 and solve!\n",
    "x0 = 0\n",
    "A = np.array([[b,c],[f,g]],dtype='float')\n",
    "const = np.array([d,h],dtype='float')\n",
    "v = np.linalg.solve(A,const)\n",
    "pt = [0,v[0],v[1]]\n",
    "N = 50\n",
    "param = np.linspace(0,10,N)\n",
    "\n",
    "xx = [pt[0]+i*direction[0] for i in param]\n",
    "yy = [pt[1]+i*direction[1] for i in param]\n",
    "zz = [pt[2]+i*direction[2] for i in param]\n",
    "\n",
    "z1 = [[(d-a*s-b*t)/c for s in xx] for t in yy]\n",
    "z2 = [[(h-e*s-f*t)/g for s in xx] for t in yy]\n",
    "\n",
    "# plotly.offline.iplot([dict(x=x,y=y,z=z1, type='surface'),\n",
    "#     dict(x=x,y=y,z=z2, showscale=False, opacity=0.9, type='surface')])\n",
    "\n",
    "trace2 = dict(\n",
    "    go.Scatter3d(\n",
    "        x=xx,\n",
    "        y=yy,\n",
    "        z=zz,\n",
    "        name='lines',\n",
    "        marker = dict(size=1),\n",
    "        line = dict(\n",
    "            width=5,\n",
    "            color='rgb(21,117,22)'\n",
    "        )\n",
    "        \n",
    "    )\n",
    ")\n",
    "layout = dict(\n",
    "    width=600,height=600,\n",
    "    showlegend=True,\n",
    "    title='3D Example',\n",
    "    font = dict(family=\"Verdana\"),\n",
    "    scene = dict(\n",
    "        xaxis = dict(range=[min(xx), max(xx)], autorange=False, zeroline=False),\n",
    "        yaxis = dict(range=[min(yy), max(yy)], autorange=False, zeroline=False),\n",
    "        aspectmode = 'cube',\n",
    "        camera = dict(center=dict(x=0,y=0,z=0),eye=dict(x=1,y=-1,z=1))\n",
    "                ),\n",
    "    plot_bgcolor='rgb(255, 255, 255)'\n",
    ")\n",
    "data = [trace2,dict(x=xx,y=yy,z=z1, type='surface'),\n",
    "    dict(x=xx,y=yy,z=z2, showscale=False, opacity=0.9, type='surface')]\n",
    "fig=go.Figure(data=data,layout=layout)\n",
    "# plotly.offline.iplot(fig)"
   ]
  },
  {
   "cell_type": "code",
   "execution_count": 12,
   "metadata": {},
   "outputs": [],
   "source": [
    "data = [{\"x\": xx, \"y\": yy, \"z\": z1, \"name\": \"Plane 1\"},{\"x\": xx, \"y\": yy, \"z\": z2, \"name\": \"Plane 2\"},\n",
    "            {\"x\": xx, \"y\": yy, \"z\": zz, \"name\": \"Line\"}]\n",
    "with open(\"PlanesDataRyo.json\", 'w') as test_file:\n",
    "    json.dump(data, test_file, ensure_ascii=False)\n"
   ]
  },
  {
   "cell_type": "code",
   "execution_count": null,
   "metadata": {
    "collapsed": true
   },
   "outputs": [],
   "source": []
  }
 ],
 "metadata": {
  "kernelspec": {
   "display_name": "Python 3",
   "language": "python",
   "name": "python3"
  },
  "language_info": {
   "codemirror_mode": {
    "name": "ipython",
    "version": 3
   },
   "file_extension": ".py",
   "mimetype": "text/x-python",
   "name": "python",
   "nbconvert_exporter": "python",
   "pygments_lexer": "ipython3",
   "version": "3.6.2"
  }
 },
 "nbformat": 4,
 "nbformat_minor": 2
}
