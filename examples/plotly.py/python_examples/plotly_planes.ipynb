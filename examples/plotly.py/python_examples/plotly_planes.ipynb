{
 "cells": [
  {
   "cell_type": "code",
   "execution_count": 1,
   "metadata": {
    "collapsed": true
   },
   "outputs": [],
   "source": [
    "import plotly"
   ]
  },
  {
   "cell_type": "code",
   "execution_count": 2,
   "metadata": {},
   "outputs": [
    {
     "data": {
      "text/plain": [
       "'file:///home/akash/Documents/Imperial-Visualizations/initial_examples/multiple-surfaces.html'"
      ]
     },
     "execution_count": 2,
     "metadata": {},
     "output_type": "execute_result"
    }
   ],
   "source": [
    "from plotly.graph_objs import Surface\n",
    "\n",
    "a, b, c, d = 1, 1, 1, 10\n",
    "e, f, g, h = 1, 1, 1, -5\n",
    "\n",
    "z1 = [[(d-a*x-b*y)/c for x in range(15)] for y in range(6)]\n",
    "z2 = [[(e-f*x-g*y)/h for x in range(15)] for y in range(6)]\n",
    "\n",
    "plotly.offline.plot([\n",
    "    dict(z=z1, type='surface'),\n",
    "    dict(z=z2, showscale=False, opacity=0.9, type='surface')],\n",
    "    filename='multiple-surfaces.html')"
   ]
  },
  {
   "cell_type": "code",
   "execution_count": null,
   "metadata": {
    "collapsed": true
   },
   "outputs": [],
   "source": []
  }
 ],
 "metadata": {
  "anaconda-cloud": {},
  "kernelspec": {
   "display_name": "Python 3",
   "language": "python",
   "name": "python3"
  },
  "language_info": {
   "codemirror_mode": {
    "name": "ipython",
    "version": 3
   },
   "file_extension": ".py",
   "mimetype": "text/x-python",
   "name": "python",
   "nbconvert_exporter": "python",
   "pygments_lexer": "ipython3",
   "version": "3.6.1"
  }
 },
 "nbformat": 4,
 "nbformat_minor": 2
}
