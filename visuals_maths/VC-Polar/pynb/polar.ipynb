{
 "cells": [
  {
   "cell_type": "markdown",
   "metadata": {},
   "source": [
    "<img src=\"imperial_logo.png\" width=\"275\" align=\"left\">\n",
    "<p style=\"text-align: right\">\n",
    "    Created by Dong-Woo (Dom) Ko<br>Email: dk1713@ic.ac.uk<br><a>HTML Version (This will be a link)</a>\n",
    "</p>\n",
    "<br>\n",
    "# VC: Plane Polar\n",
    "\n",
    "## Learning Objectives\n",
    "* To aid in visualisation of basis vectors in plane polar.\n",
    "* To aid in visualisation of area element in plane polar.\n",
    "\n",
    "## Table of Contents\n",
    "1. Introduction\n",
    "2. Basis Vectors\n",
    "3. Area Element"
   ]
  },
  {
   "cell_type": "markdown",
   "metadata": {},
   "source": [
    "## 1. Introduction\n",
    "This is a brief summary of plane polar coordinate system.\n",
    "A reminder, before you move on to coordinate systems in $I\\!R^3$.\n",
    "\n",
    "This coordinate system comprises of (rho, phi): <br>\n",
    "&emsp;&emsp; $\\rho$ = radial coordinates ($\\rho \\geq 0$), <br>\n",
    "&emsp;&emsp; $\\phi$ = angular coordinates ($0 \\leq \\phi \\leq 2\\pi$), <br>"
   ]
  },
  {
   "cell_type": "markdown",
   "metadata": {},
   "source": [
    "### In terms of cartesian coordinate (x, y):\n",
    "\\begin{align}\n",
    "    \\rho &= \\sqrt{x^2 + y^2},\\\\\n",
    "    \\phi &= \\tan^{-1}\\left(\\frac{y}{x}\\right).\n",
    "\\end{align}"
   ]
  },
  {
   "cell_type": "markdown",
   "metadata": {},
   "source": [
    "### Cartesian Vector:\n",
    "$$\n",
    "    {\\bf{r}} \\equiv \\left(\\begin{matrix} x \\\\ y \\end{matrix}\\right) \n",
    "    = \\left(\\begin{matrix} \\rho\\cos\\phi \\\\ \\rho\\sin\\phi \\end{matrix}\\right)\n",
    "$$"
   ]
  },
  {
   "cell_type": "markdown",
   "metadata": {},
   "source": [
    "## 2. Basis Vectors\n",
    "$$\n",
    "    \\widehat{\\rho} \\equiv \\frac{\\frac{d\\bf{r}}{d\\rho}}{\\left|\\frac{d\\bf{r}}{d\\rho}\\right|} \n",
    "    = \\left(\\begin{matrix} \\cos\\phi \\\\ \\sin\\phi \\end{matrix}\\right), \\quad\n",
    "    \\widehat{\\phi} \\equiv \\frac{\\frac{d\\bf{r}}{d\\phi}}{\\left|\\frac{d\\bf{r}}{d\\phi}\\right|} \n",
    "    = \\left(\\begin{matrix} -\\sin\\phi \\\\ \\cos\\phi \\end{matrix}\\right).\n",
    "$$\n",
    "\n",
    "Note: Unlike cartesian, <b>orientation</b> of basis vectors is not fixed."
   ]
  },
  {
   "cell_type": "markdown",
   "metadata": {},
   "source": [
    "## 3. Area Element\n",
    "\\begin{align}\n",
    "    dA &= d\\rho * \\rho d\\phi\\\\\n",
    "    &= \\rho \\; d\\rho \\; d\\phi.\n",
    "\\end{align}\n",
    "\n",
    "Please note that area element is infinitesimally small and can be considered as a small square."
   ]
  },
  {
   "cell_type": "markdown",
   "metadata": {},
   "source": [
    "### Diagram:\n",
    "<img src=\"polar.png\" width=\"500\" align=\"center\">"
   ]
  }
 ],
 "metadata": {
  "kernelspec": {
   "display_name": "Python 3",
   "language": "python",
   "name": "python3"
  },
  "language_info": {
   "codemirror_mode": {
    "name": "ipython",
    "version": 3
   },
   "file_extension": ".py",
   "mimetype": "text/x-python",
   "name": "python",
   "nbconvert_exporter": "python",
   "pygments_lexer": "ipython3",
   "version": "3.6.2"
  }
 },
 "nbformat": 4,
 "nbformat_minor": 2
}
