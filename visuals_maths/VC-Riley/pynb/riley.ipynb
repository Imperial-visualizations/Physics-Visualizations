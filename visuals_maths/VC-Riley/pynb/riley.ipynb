{
 "cells": [
  {
   "cell_type": "markdown",
   "metadata": {},
   "source": [
    "<img src=\"imperial_logo.png\" width=\"275\" align=\"left\">\n",
    "<p style=\"text-align: right\">\n",
    "    Created by Dong-Woo (Dom) Ko<br>Email: dk1713@ic.ac.uk<br><a>HTML Version (This will be a link)</a>\n",
    "</p>\n",
    "<br>\n",
    "# VC: Volume Elements in different Coordinate Systems\n",
    "\n",
    "## Learning Objectives\n",
    "* To aid in visualisation of volume elements in different coordinate systems of $I\\!R^3$.\n",
    "\n",
    "## Table of Contents\n",
    "1. Introduction\n",
    "2. Cylindrical\n",
    "3. Spherical"
   ]
  },
  {
   "cell_type": "markdown",
   "metadata": {},
   "source": [
    "## 1. Introduction\n",
    "We will explore volume elements in Cylindrical and Spherical Coordinates Systems. (In the form of Riley Diagrams) <br>\n",
    "This visualisation is designed to help you with triple integration."
   ]
  },
  {
   "cell_type": "markdown",
   "metadata": {},
   "source": [
    "A volume element is the differential element dV, and when integrated over specified range, the result will give you the volume of the solid.\n",
    "\n",
    "For Cartesian,\n",
    "### Volume Element:\n",
    "$$\n",
    "    dV = dx * dy * dz.\n",
    "$$"
   ]
  },
  {
   "cell_type": "markdown",
   "metadata": {},
   "source": [
    "### Volume integral:\n",
    "\\begin{align}\n",
    "    V &= \\iiint_V{dV}\\\\\n",
    "    &= \\iiint_V \\,dx\\,dy\\,dz\n",
    "\\end{align}"
   ]
  },
  {
   "cell_type": "markdown",
   "metadata": {},
   "source": [
    "Note:\n",
    "- These volume elements are <b>infinitesimally small</b>. Hence consider them as a <b>small cube</b>.\n",
    "- Different coordinates systems may be used depending on the shape of the solid."
   ]
  },
  {
   "cell_type": "markdown",
   "metadata": {},
   "source": [
    "## 2. Cylindrical"
   ]
  },
  {
   "cell_type": "markdown",
   "metadata": {},
   "source": [
    "### Volume Element, dV:\n",
    "\\begin{align}\n",
    "    dV &= d\\rho * \\rho d\\phi * dz\\\\\n",
    "       &= \\rho \\; d\\rho \\; d\\phi \\; dz.\n",
    "\\end{align}"
   ]
  },
  {
   "cell_type": "markdown",
   "metadata": {},
   "source": [
    "### Riley Diagram:\n",
    "<img src=\"cylin.png\" width=\"650\" align=\"center\">"
   ]
  },
  {
   "cell_type": "markdown",
   "metadata": {},
   "source": [
    "## 3. Spherical"
   ]
  },
  {
   "cell_type": "markdown",
   "metadata": {},
   "source": [
    "### Volume Element, dV:\n",
    "\\begin{align}\n",
    "    dV &= dr * rd\\theta * r\\sin\\theta d\\phi\\\\\n",
    "       &= r^2 \\; \\sin\\theta \\; dr \\; d\\theta \\; d\\phi.\n",
    "\\end{align}"
   ]
  },
  {
   "cell_type": "markdown",
   "metadata": {},
   "source": [
    "### Riley Diagram:\n",
    "<img src=\"spher.png\" width=\"650\" align=\"center\">"
   ]
  }
 ],
 "metadata": {
  "kernelspec": {
   "display_name": "Python 3",
   "language": "python",
   "name": "python3"
  },
  "language_info": {
   "codemirror_mode": {
    "name": "ipython",
    "version": 3
   },
   "file_extension": ".py",
   "mimetype": "text/x-python",
   "name": "python",
   "nbconvert_exporter": "python",
   "pygments_lexer": "ipython3",
   "version": "3.6.2"
  }
 },
 "nbformat": 4,
 "nbformat_minor": 2
}
