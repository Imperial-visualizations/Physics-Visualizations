{
 "cells": [
  {
   "cell_type": "markdown",
   "metadata": {},
   "source": [
    "# Intersections module"
   ]
  },
  {
   "cell_type": "markdown",
   "metadata": {},
   "source": [
    "Set up plotly"
   ]
  },
  {
   "cell_type": "code",
   "execution_count": 1,
   "metadata": {},
   "outputs": [
    {
     "data": {
      "text/html": [
       "<script>requirejs.config({paths: { 'plotly': ['https://cdn.plot.ly/plotly-latest.min']},});if(!window.Plotly) {{require(['plotly'],function(plotly) {window.Plotly=plotly;});}}</script>"
      ],
      "text/vnd.plotly.v1+html": [
       "<script>requirejs.config({paths: { 'plotly': ['https://cdn.plot.ly/plotly-latest.min']},});if(!window.Plotly) {{require(['plotly'],function(plotly) {window.Plotly=plotly;});}}</script>"
      ]
     },
     "metadata": {},
     "output_type": "display_data"
    }
   ],
   "source": [
    "import plotly.offline as py\n",
    "import plotly.graph_objs as go\n",
    "py.init_notebook_mode(connected=True)"
   ]
  },
  {
   "cell_type": "markdown",
   "metadata": {},
   "source": [
    "Set up imports"
   ]
  },
  {
   "cell_type": "code",
   "execution_count": 2,
   "metadata": {
    "collapsed": true
   },
   "outputs": [],
   "source": [
    "import pointslinesplanes as plp\n",
    "import numpy as np"
   ]
  },
  {
   "cell_type": "code",
   "execution_count": 3,
   "metadata": {
    "collapsed": true
   },
   "outputs": [],
   "source": [
    "def intersect(obj1, obj2):\n",
    "    \"\"\"Intersection between two objects that can be Point, Line or Plane.\n",
    "    Returns Point, Line or Plane or throws ArithmeticError when no intersection can be found.\n",
    "    @author Nick Metelski\n",
    "    @since 26.07.17\"\"\"\n",
    "    #plane-plane\n",
    "    if isinstance(obj1,plp.Plane) and isinstance(obj2,plp.Plane):\n",
    "        return _plane_plane_intersect(obj1,obj2)\n",
    "    \n",
    "    #plane-line\n",
    "    elif isinstance(obj1,plp.Plane) and isinstance(obj2,plp.Line):\n",
    "        return _plane_line_intersect(obj1,obj2)\n",
    "    elif isinstance(obj1,plp.Line) and isinstance(obj2,plp.Plane):\n",
    "        return _plane_line_intersect(obj2,obj1)\n",
    "    \n",
    "    #plane-point\n",
    "    elif isinstance(obj1,plp.Plane) and isinstance(obj2,plp.Point):\n",
    "        return _plane_point_intersect(obj1,obj2)\n",
    "    elif isinstance(obj1,plp.Point) and isinstance(obj2,plp.Plane):\n",
    "        return _plane_point_intersect(obj2,obj1)\n",
    "    \n",
    "    #line-line\n",
    "    elif isinstance(obj1,plp.Line) and isinstance(obj2,plp.Line):\n",
    "        return _line_line_intersect(obj1,obj2)\n",
    "    \n",
    "    #line-point\n",
    "    elif isinstance(obj1,plp.Line) and isinstance(obj2,plp.Point):\n",
    "        return _line_point_intersect(obj1,obj2)\n",
    "    elif isinstance(obj1,plp.Point) and isinstance(obj2,plp.Line):\n",
    "        return _line_point_intersect(obj2,obj1)\n",
    "    \n",
    "    #point-point\n",
    "    elif isinstance(obj1,plp.Point) and isinstance(obj2,plp.Point):\n",
    "        return _point_point_intersect(obj1,obj2)\n",
    "    \n",
    "    #wrong params\n",
    "    else:\n",
    "        raise TypeError(\"Invalid parameter types - please pass intersections.Point, intersections.Line or intersections.Plane.\")\n",
    "\n",
    "def _plane_plane_intersect(p1,p2):\n",
    "    \"\"\"Private function; do not use. Use intersect(obj1,obj2) instead.\n",
    "    plane-plane intersection submethod. Raises exceptions or returns Line.\n",
    "    @author Nick Metelski\n",
    "    @since 26.07.17\"\"\"\n",
    "    #TODO make it return plane is planes are identical\n",
    "    #cross-product\n",
    "    cross = np.cross(p1.normal,p2.normal)\n",
    "    if np.all(cross==0):\n",
    "        #planes are parallel or overlap\n",
    "        #if they overlap then the offset of one plane lies on the other\n",
    "        try:\n",
    "            intersection = intersect(Point(p1.offset), p2)\n",
    "            return Plane(p1.normal,p1.offset) #return a new plane same a the overlapping ones\n",
    "        except ArithmeticError:\n",
    "            raise ArithmeticError(\"Planes are parallel, do not overlap.\")\n",
    "    else:\n",
    "        #sample point: x=0\n",
    "        #NOTE: linalg.solve can raise np.linalg.LinAlgError exception when x=0 results in singular matrix\n",
    "        #we have to check some other cases\n",
    "        #premise: the line has to intersect at least one of the planes: xy, yz or xz.\n",
    "        mat = [[p1.normal[1],p1.normal[2]],[p2.normal[1], p2.normal[2]]]\n",
    "        axis = 0 #keep track of which axis we zero out; 0=x, 1=y, 2=z\n",
    "        if np.linalg.matrix_rank(mat) == 1:\n",
    "            mat = [[p1.normal[0],p1.normal[2]],[p2.normal[0], p2.normal[2]]]\n",
    "            axis = 1\n",
    "            if np.linalg.matrix_rank(mat) == 1:\n",
    "                mat = [[p1.normal[0],p1.normal[1]],[p1.normal[0], p2.normal[1]]]\n",
    "                axis = 2  \n",
    "        rhs = [np.dot(p1.normal,p1.offset),np.dot(p2.normal,p2.offset)]\n",
    "        sol = np.linalg.solve(mat,rhs)\n",
    "        if axis == 0:\n",
    "            return plp.Line(cross, [0,sol[0],sol[1]])\n",
    "        if axis == 1:\n",
    "            return plp.Line(cross, [sol[0],0,sol[1]])\n",
    "        if axis == 2:\n",
    "            return plp.Line(cross, [sol[0],sol[1],0])\n",
    "\n",
    "def _plane_line_intersect(plane,line):\n",
    "    \"\"\"Private function; do not use. Use intersect(obj1,obj2) instead.\n",
    "    Intersection of a line an a plane. Raises exceptions or returns Point.\n",
    "    @author Nick Metelski\n",
    "    @since 26.07.17\"\"\"\n",
    "    check = np.dot(plane.normal,line.vec)\n",
    "    if np.allclose(check,[0.0]):\n",
    "        #plane and line are parallel or overlap\n",
    "        raise ArithmeticError(\"Plane and line are parallel.\")\n",
    "    else:\n",
    "        #there is an explicit formula for parameter of the line for which intersection is met:\n",
    "        #$$t = \\frac{\\vec{n} \\cdot (\\vec{d_p}-\\vec{d_v})}{\\vec{n} \\cdot \\vec{v}}$$,\n",
    "        #where n is normal to plane, v is line's direction, rp is plane offset, rv is vector offset\n",
    "        t = np.dot(plane.normal,(plane.offset-line.offset))/np.dot(plane.normal,line.vec)\n",
    "        return plp.Point(line.offset+t*line.vec)\n",
    "    \n",
    "def _plane_point_intersect(plane,point):\n",
    "    \"\"\"Private function; do not use. Use intersect(obj1,obj2) instead.\n",
    "    Intersection of a plane and point. Raises exceptions or returns Point.\n",
    "    @author Nick Metelski\n",
    "    @since 27.07.17\"\"\"\n",
    "    check = np.dot(plane.normal, point.pos - plane.offset)\n",
    "    if check == 0:\n",
    "        return plp.Point(point.pos)\n",
    "    else:\n",
    "        raise ArithmeticError(\"The point does not line on the plane.\")\n",
    "\n",
    "def _line_line_intersect(line1,line2):\n",
    "    \"\"\"Private function; do not use. Use intersect(obj1,obj2) instead.\n",
    "    Intersection of two lines. Raises exceptions or returns Point or Line.\n",
    "    @author Nick Metelski\n",
    "    @since 27.07.17\"\"\"\n",
    "    #raise NotImplementedError(\"Line-line intersections not implemented.\")\n",
    "    cross = np.cross(line1.vec,line2.vec) #is normalized as vectors are normalized\n",
    "    if np.allclose(cross,[0.0,0.0,0.0]):\n",
    "        #lines parallel. are they identical?\n",
    "        try:\n",
    "            intersect(line2, plp.Point(line1.offset)) #this will raise an exception if they are not identical\n",
    "            return plp.Line(line1.vec,line1.offset)\n",
    "        except ArithmeticError:\n",
    "            raise ArithmeticError(\"Lines are parallel, and are not identical.\")\n",
    "    #lines not parallel\n",
    "    sample = line2.offset - line1.offset #sample vector between two points on the line\n",
    "    dist = np.abs(np.dot(sample,cross)) #distance between the lines\n",
    "    if np.allclose([dist],[0.0]):\n",
    "        v1 = line1.vec\n",
    "        v2 = line2.vec\n",
    "        d1 = line1.offset\n",
    "        d2 = line2.offset\n",
    "        n = plp.utils.normalize(np.cross(v2,v1))\n",
    "        s = d2 - d1\n",
    "        l = np.linalg.norm(np.cross(s,v1))\n",
    "        l_vec = l * np.cross(v1,n)\n",
    "        param = l**2/np.dot(l_vec,v2)\n",
    "\n",
    "        return plp.Point(line2.offset+param*line2.vec)\n",
    "    else:\n",
    "        raise ArithmeticError(\"Lines are skew, no intersection. Distance: \" + str(dist))\n",
    "    \n",
    "def _line_point_intersect(line,point):\n",
    "    \"\"\"Private function; do not use. Use intersect(obj1,obj2) instead.\n",
    "    Intersection of a line and point. Intersection is a Point.\n",
    "    Raises exceptions or returns Point.\n",
    "    @author Nick Metelski\n",
    "    @since 27.07.17\"\"\"\n",
    "    #premise: difference in offsets must be parallel to direction vector\n",
    "    offset_diff = point.pos - line.offset\n",
    "    cross = np.cross(line.vec,offset_diff) # this is for checking if there exists an intersection\n",
    "    if np.allclose(cross,[0.0,0.0,0.0]):\n",
    "        return plp.Point(point.pos) #return a point coinciding with the original point passed as param\n",
    "    else:\n",
    "        raise ArithmeticError(\"Point does not lie on the line.\")\n",
    "        \n",
    "def _point_point_intersect(point1, point2):\n",
    "    \"\"\"Private function; do not use. Use intersect(obj1,obj2) instead.\n",
    "    Intersection of a two points. Intersection is the point if the point are the same position. \n",
    "    Raises exceptions or returns Point.\n",
    "    @author Nick Metelski\n",
    "    @since 27.07.17\"\"\"\n",
    "    if np.allclose(point1.pos,point2.pos):\n",
    "        #just return one of the points when they coincide\n",
    "        return plp.Point(point1.pos)\n",
    "    else:\n",
    "        raise ArithmeticError(\"Points do not coincide.\")"
   ]
  },
  {
   "cell_type": "markdown",
   "metadata": {},
   "source": [
    "# Tests"
   ]
  },
  {
   "cell_type": "code",
   "execution_count": 4,
   "metadata": {
    "collapsed": true
   },
   "outputs": [],
   "source": [
    "plane1 = plp.Plane([1,1,1],[1,0,0])\n",
    "plane2 = plp.Plane([-1.0,1,1],[0.5,0,0.5])\n",
    "plane3 = plp.Plane([0.2,0.1,0.3],[0.2,-0.3,0.5])\n",
    "line1 = intersect(plane1,plane2)\n",
    "line2 = intersect(plane2,plane3)\n",
    "line3 = intersect(plane1,plane3)\n",
    "point1 = intersect(line1,line2)"
   ]
  },
  {
   "cell_type": "code",
   "execution_count": 5,
   "metadata": {
    "collapsed": true
   },
   "outputs": [],
   "source": [
    "layout = dict(\n",
    "    width=1000,height=1000,\n",
    "    showlegend=False,\n",
    "    font = dict(family=\"Verdana\"),\n",
    "    scene = dict(\n",
    "        xaxis = dict(range=[-1, 1], autorange=False, zeroline=False),\n",
    "        yaxis = dict(range=[-1, 1], autorange=False, zeroline=False),\n",
    "        zaxis = dict(range=[-1, 1], autorange=False, zeroline=False),\n",
    "        aspectmode = 'cube',\n",
    "        camera = dict(center=dict(x=0,y=0,z=0),eye=dict(x=0,y=0,z=3))\n",
    "    ),\n",
    "    plot_bgcolor='rgb(255, 255, 255)'\n",
    ")"
   ]
  },
  {
   "cell_type": "code",
   "execution_count": 6,
   "metadata": {},
   "outputs": [
    {
     "data": {
      "application/vnd.plotly.v1+json": {
       "data": [
        {
         "type": "surface",
         "x": [
          [
           -1,
           1
          ],
          [
           -1,
           1
          ]
         ],
         "y": [
          [
           -1,
           -1
          ],
          [
           1,
           1
          ]
         ],
         "z": [
          [
           3,
           1.0000000000000004
          ],
          [
           1.0000000000000004,
           -0.9999999999999997
          ]
         ]
        },
        {
         "type": "surface",
         "x": [
          [
           -1,
           1
          ],
          [
           -1,
           1
          ]
         ],
         "y": [
          [
           -1,
           -1
          ],
          [
           1,
           1
          ]
         ],
         "z": [
          [
           0,
           2
          ],
          [
           -2,
           0
          ]
         ]
        },
        {
         "type": "surface",
         "x": [
          [
           -1,
           1
          ],
          [
           -1,
           1
          ]
         ],
         "y": [
          [
           -1,
           -1
          ],
          [
           1,
           1
          ]
         ],
         "z": [
          [
           1.5333333333333334,
           0.19999999999999996
          ],
          [
           0.8666666666666667,
           -0.46666666666666684
          ]
         ]
        },
        {
         "line": {
          "color": "rgb(205, 12, 24)",
          "width": 10
         },
         "mode": "lines",
         "type": "scatter3d",
         "x": [
          0.5000000000000002,
          0.5000000000000002,
          0.5000000000000002,
          0.5000000000000002,
          0.5000000000000002,
          0.5000000000000002,
          0.5000000000000002,
          0.5000000000000002,
          0.5000000000000002,
          0.5000000000000002
         ],
         "y": [
          7.321067811865475,
          5.749719409228702,
          4.178371006591931,
          2.607022603955158,
          1.035674201318386,
          -0.5356742013183857,
          -2.1070226039551585,
          -3.6783710065919313,
          -5.249719409228703,
          -6.821067811865475
         ],
         "z": [
          -6.821067811865475,
          -5.249719409228702,
          -3.6783710065919304,
          -2.107022603955158,
          -0.5356742013183857,
          1.035674201318386,
          2.6070226039551585,
          4.178371006591932,
          5.749719409228703,
          7.321067811865475
         ]
        },
        {
         "line": {
          "color": "rgb(205, 12, 24)",
          "width": 10
         },
         "mode": "lines",
         "type": "scatter3d",
         "x": [
          -2.907586317352093,
          -2.1866022234375926,
          -1.4656181295230923,
          -0.7446340356085922,
          -0.023649941694092014,
          0.697334152220408,
          1.4183182461349086,
          2.139302340049409,
          2.860286433963909,
          3.581270527878409
         ],
         "y": [
          -8.068965793380233,
          -6.266505558593982,
          -4.464045323807731,
          -2.6615850890214805,
          -0.8591248542352302,
          0.9433353805510197,
          2.745795615337271,
          4.548255850123522,
          6.350716084909772,
          8.153176319696023
         ],
         "z": [
          5.16137947602814,
          4.07990333515639,
          2.998427194284639,
          1.9169510534128884,
          0.835474912541138,
          -0.2460012283306119,
          -1.327477369202363,
          -2.4089535100741135,
          -3.4904296509458637,
          -4.571905791817613
         ]
        },
        {
         "line": {
          "color": "rgb(205, 12, 24)",
          "width": 10
         },
         "mode": "lines",
         "type": "scatter3d",
         "x": [
          -7.831632475943927,
          -6.01719562943787,
          -4.202758782931811,
          -2.3883219364257533,
          -0.5738850899196952,
          1.2405517565863622,
          3.054988603092421,
          4.869425449598481,
          6.683862296104538,
          8.498299142610595
         ],
         "y": [
          4.615816237971964,
          3.7085978147189342,
          2.8013793914659058,
          1.894160968212877,
          0.9869425449598481,
          0.07972412170681964,
          -0.8274943015462095,
          -1.7347127247992387,
          -2.641931148052267,
          -3.5491495713052954
         ],
         "z": [
          4.215816237971964,
          3.3085978147189348,
          2.401379391465906,
          1.4941609682128767,
          0.5869425449598474,
          -0.3202758782931814,
          -1.227494301546211,
          -2.1347127247992406,
          -3.0419311480522695,
          -3.9491495713052984
         ]
        },
        {
         "mode": "markers",
         "type": "scatter3d",
         "x": [
          0.5000000000000002
         ],
         "y": [
          0.4500000000000006
         ],
         "z": [
          0.049999999999999545
         ]
        }
       ],
       "layout": {
        "font": {
         "family": "Verdana"
        },
        "height": 1000,
        "plot_bgcolor": "rgb(255, 255, 255)",
        "scene": {
         "aspectmode": "cube",
         "camera": {
          "center": {
           "x": 0,
           "y": 0,
           "z": 0
          },
          "eye": {
           "x": 0,
           "y": 0,
           "z": 3
          }
         },
         "xaxis": {
          "autorange": false,
          "range": [
           -1,
           1
          ],
          "zeroline": false
         },
         "yaxis": {
          "autorange": false,
          "range": [
           -1,
           1
          ],
          "zeroline": false
         },
         "zaxis": {
          "autorange": false,
          "range": [
           -1,
           1
          ],
          "zeroline": false
         }
        },
        "showlegend": false,
        "width": 1000
       }
      },
      "text/html": [
       "<div id=\"d1ba6e59-cbed-4c62-a581-85ba5094440b\" style=\"height: 1000px; width: 1000px;\" class=\"plotly-graph-div\"></div><script type=\"text/javascript\">require([\"plotly\"], function(Plotly) { window.PLOTLYENV=window.PLOTLYENV || {};window.PLOTLYENV.BASE_URL=\"https://plot.ly\";Plotly.newPlot(\"d1ba6e59-cbed-4c62-a581-85ba5094440b\", [{\"type\": \"surface\", \"x\": [[-1.0, 1.0], [-1.0, 1.0]], \"z\": [[3.0, 1.0000000000000004], [1.0000000000000004, -0.9999999999999997]], \"y\": [[-1.0, -1.0], [1.0, 1.0]]}, {\"type\": \"surface\", \"x\": [[-1.0, 1.0], [-1.0, 1.0]], \"z\": [[0.0, 2.0], [-2.0, 0.0]], \"y\": [[-1.0, -1.0], [1.0, 1.0]]}, {\"type\": \"surface\", \"x\": [[-1.0, 1.0], [-1.0, 1.0]], \"z\": [[1.5333333333333334, 0.19999999999999996], [0.8666666666666667, -0.46666666666666684]], \"y\": [[-1.0, -1.0], [1.0, 1.0]]}, {\"type\": \"scatter3d\", \"x\": [0.5000000000000002, 0.5000000000000002, 0.5000000000000002, 0.5000000000000002, 0.5000000000000002, 0.5000000000000002, 0.5000000000000002, 0.5000000000000002, 0.5000000000000002, 0.5000000000000002], \"line\": {\"width\": 10, \"color\": \"rgb(205, 12, 24)\"}, \"z\": [-6.821067811865475, -5.249719409228702, -3.6783710065919304, -2.107022603955158, -0.5356742013183857, 1.035674201318386, 2.6070226039551585, 4.178371006591932, 5.749719409228703, 7.321067811865475], \"mode\": \"lines\", \"y\": [7.321067811865475, 5.749719409228702, 4.178371006591931, 2.607022603955158, 1.035674201318386, -0.5356742013183857, -2.1070226039551585, -3.6783710065919313, -5.249719409228703, -6.821067811865475]}, {\"type\": \"scatter3d\", \"x\": [-2.907586317352093, -2.1866022234375926, -1.4656181295230923, -0.7446340356085922, -0.023649941694092014, 0.697334152220408, 1.4183182461349086, 2.139302340049409, 2.860286433963909, 3.581270527878409], \"line\": {\"width\": 10, \"color\": \"rgb(205, 12, 24)\"}, \"z\": [5.16137947602814, 4.07990333515639, 2.998427194284639, 1.9169510534128884, 0.835474912541138, -0.2460012283306119, -1.327477369202363, -2.4089535100741135, -3.4904296509458637, -4.571905791817613], \"mode\": \"lines\", \"y\": [-8.068965793380233, -6.266505558593982, -4.464045323807731, -2.6615850890214805, -0.8591248542352302, 0.9433353805510197, 2.745795615337271, 4.548255850123522, 6.350716084909772, 8.153176319696023]}, {\"type\": \"scatter3d\", \"x\": [-7.831632475943927, -6.01719562943787, -4.202758782931811, -2.3883219364257533, -0.5738850899196952, 1.2405517565863622, 3.054988603092421, 4.869425449598481, 6.683862296104538, 8.498299142610595], \"line\": {\"width\": 10, \"color\": \"rgb(205, 12, 24)\"}, \"z\": [4.215816237971964, 3.3085978147189348, 2.401379391465906, 1.4941609682128767, 0.5869425449598474, -0.3202758782931814, -1.227494301546211, -2.1347127247992406, -3.0419311480522695, -3.9491495713052984], \"mode\": \"lines\", \"y\": [4.615816237971964, 3.7085978147189342, 2.8013793914659058, 1.894160968212877, 0.9869425449598481, 0.07972412170681964, -0.8274943015462095, -1.7347127247992387, -2.641931148052267, -3.5491495713052954]}, {\"type\": \"scatter3d\", \"x\": [0.5000000000000002], \"mode\": \"markers\", \"z\": [0.049999999999999545], \"y\": [0.4500000000000006]}], {\"showlegend\": false, \"width\": 1000, \"font\": {\"family\": \"Verdana\"}, \"plot_bgcolor\": \"rgb(255, 255, 255)\", \"scene\": {\"xaxis\": {\"autorange\": false, \"range\": [-1, 1], \"zeroline\": false}, \"zaxis\": {\"autorange\": false, \"range\": [-1, 1], \"zeroline\": false}, \"yaxis\": {\"autorange\": false, \"range\": [-1, 1], \"zeroline\": false}, \"aspectmode\": \"cube\", \"camera\": {\"center\": {\"x\": 0, \"z\": 0, \"y\": 0}, \"eye\": {\"x\": 0, \"z\": 3, \"y\": 0}}}, \"height\": 1000}, {\"linkText\": \"Export to plot.ly\", \"showLink\": true})});</script>"
      ],
      "text/vnd.plotly.v1+html": [
       "<div id=\"d1ba6e59-cbed-4c62-a581-85ba5094440b\" style=\"height: 1000px; width: 1000px;\" class=\"plotly-graph-div\"></div><script type=\"text/javascript\">require([\"plotly\"], function(Plotly) { window.PLOTLYENV=window.PLOTLYENV || {};window.PLOTLYENV.BASE_URL=\"https://plot.ly\";Plotly.newPlot(\"d1ba6e59-cbed-4c62-a581-85ba5094440b\", [{\"type\": \"surface\", \"x\": [[-1.0, 1.0], [-1.0, 1.0]], \"z\": [[3.0, 1.0000000000000004], [1.0000000000000004, -0.9999999999999997]], \"y\": [[-1.0, -1.0], [1.0, 1.0]]}, {\"type\": \"surface\", \"x\": [[-1.0, 1.0], [-1.0, 1.0]], \"z\": [[0.0, 2.0], [-2.0, 0.0]], \"y\": [[-1.0, -1.0], [1.0, 1.0]]}, {\"type\": \"surface\", \"x\": [[-1.0, 1.0], [-1.0, 1.0]], \"z\": [[1.5333333333333334, 0.19999999999999996], [0.8666666666666667, -0.46666666666666684]], \"y\": [[-1.0, -1.0], [1.0, 1.0]]}, {\"type\": \"scatter3d\", \"x\": [0.5000000000000002, 0.5000000000000002, 0.5000000000000002, 0.5000000000000002, 0.5000000000000002, 0.5000000000000002, 0.5000000000000002, 0.5000000000000002, 0.5000000000000002, 0.5000000000000002], \"line\": {\"width\": 10, \"color\": \"rgb(205, 12, 24)\"}, \"z\": [-6.821067811865475, -5.249719409228702, -3.6783710065919304, -2.107022603955158, -0.5356742013183857, 1.035674201318386, 2.6070226039551585, 4.178371006591932, 5.749719409228703, 7.321067811865475], \"mode\": \"lines\", \"y\": [7.321067811865475, 5.749719409228702, 4.178371006591931, 2.607022603955158, 1.035674201318386, -0.5356742013183857, -2.1070226039551585, -3.6783710065919313, -5.249719409228703, -6.821067811865475]}, {\"type\": \"scatter3d\", \"x\": [-2.907586317352093, -2.1866022234375926, -1.4656181295230923, -0.7446340356085922, -0.023649941694092014, 0.697334152220408, 1.4183182461349086, 2.139302340049409, 2.860286433963909, 3.581270527878409], \"line\": {\"width\": 10, \"color\": \"rgb(205, 12, 24)\"}, \"z\": [5.16137947602814, 4.07990333515639, 2.998427194284639, 1.9169510534128884, 0.835474912541138, -0.2460012283306119, -1.327477369202363, -2.4089535100741135, -3.4904296509458637, -4.571905791817613], \"mode\": \"lines\", \"y\": [-8.068965793380233, -6.266505558593982, -4.464045323807731, -2.6615850890214805, -0.8591248542352302, 0.9433353805510197, 2.745795615337271, 4.548255850123522, 6.350716084909772, 8.153176319696023]}, {\"type\": \"scatter3d\", \"x\": [-7.831632475943927, -6.01719562943787, -4.202758782931811, -2.3883219364257533, -0.5738850899196952, 1.2405517565863622, 3.054988603092421, 4.869425449598481, 6.683862296104538, 8.498299142610595], \"line\": {\"width\": 10, \"color\": \"rgb(205, 12, 24)\"}, \"z\": [4.215816237971964, 3.3085978147189348, 2.401379391465906, 1.4941609682128767, 0.5869425449598474, -0.3202758782931814, -1.227494301546211, -2.1347127247992406, -3.0419311480522695, -3.9491495713052984], \"mode\": \"lines\", \"y\": [4.615816237971964, 3.7085978147189342, 2.8013793914659058, 1.894160968212877, 0.9869425449598481, 0.07972412170681964, -0.8274943015462095, -1.7347127247992387, -2.641931148052267, -3.5491495713052954]}, {\"type\": \"scatter3d\", \"x\": [0.5000000000000002], \"mode\": \"markers\", \"z\": [0.049999999999999545], \"y\": [0.4500000000000006]}], {\"showlegend\": false, \"width\": 1000, \"font\": {\"family\": \"Verdana\"}, \"plot_bgcolor\": \"rgb(255, 255, 255)\", \"scene\": {\"xaxis\": {\"autorange\": false, \"range\": [-1, 1], \"zeroline\": false}, \"zaxis\": {\"autorange\": false, \"range\": [-1, 1], \"zeroline\": false}, \"yaxis\": {\"autorange\": false, \"range\": [-1, 1], \"zeroline\": false}, \"aspectmode\": \"cube\", \"camera\": {\"center\": {\"x\": 0, \"z\": 0, \"y\": 0}, \"eye\": {\"x\": 0, \"z\": 3, \"y\": 0}}}, \"height\": 1000}, {\"linkText\": \"Export to plot.ly\", \"showLink\": true})});</script>"
      ]
     },
     "metadata": {},
     "output_type": "display_data"
    }
   ],
   "source": [
    "objs = [plane1, plane2, plane3, line1, line2, line3, point1]\n",
    "data = [o.goify() for o in objs]\n",
    "fig = go.Figure(data=data,layout=layout)\n",
    "plot = py.iplot(fig)"
   ]
  },
  {
   "cell_type": "code",
   "execution_count": 29,
   "metadata": {},
   "outputs": [
    {
     "name": "stdout",
     "output_type": "stream",
     "text": [
      "v2 [ 0.4472136   0.89442719  0.        ]\n",
      "[ 0.  0.  1.]\n",
      "[-0.03 -0.01  0.  ]\n",
      "0.0252982212813\n",
      "v1 x n [ 0.9486833  -0.31622777  0.        ]\n",
      "l_vec  [ 0.024 -0.008  0.   ]\n",
      "lxl 0.00064\n",
      "dot 0.003577708764\n",
      "0.1788854382\n"
     ]
    }
   ],
   "source": [
    "#Line(dir=Vector(0.447,0.894,0.000),off=Vector(0.120,-0.060,0.000)) and Line(dir=Vector(0.316,0.949,0.000),off=Vector(0.150,-0.050,0.000))\n",
    "line2 = plp.Line([0.4472135954999579,0.8944271909999159,0],[0.120,-0.06,0])\n",
    "line1 = plp.Line([0.31622776601683794,0.9486832980505138,0],[0.15,-0.05000000000000002,0])\n",
    "\n",
    "v1 = line1.vec\n",
    "v2 = line2.vec\n",
    "print(\"v2\",v2)\n",
    "d1 = line1.offset\n",
    "d2 = line2.offset\n",
    "n = plp.utils.normalize(np.cross(v2,v1))\n",
    "print(n)\n",
    "s = d2 - d1\n",
    "print(s)\n",
    "l = np.linalg.norm(np.cross(s,v1))\n",
    "print(l)\n",
    "l_vec = l * np.cross(v1,n)\n",
    "print(\"v1 x n\", np.cross(v1,n))\n",
    "print(\"l_vec \", l_vec)\n",
    "print(\"lxl\", l*l)\n",
    "print(\"dot\",np.dot(l_vec,v2))\n",
    "param = (l*l)/np.dot(l_vec,v2)\n",
    "print(param)\n",
    "\n",
    "point = plp.Point(line2.offset+param*line2.vec)"
   ]
  },
  {
   "cell_type": "code",
   "execution_count": 28,
   "metadata": {},
   "outputs": [
    {
     "data": {
      "application/vnd.plotly.v1+json": {
       "data": [
        {
         "line": {
          "color": "rgb(205, 12, 24)",
          "width": 10
         },
         "mode": "lines",
         "type": "scatter3d",
         "x": [
          -3.01227766016838,
          -2.309549291242073,
          -1.6068209223157666,
          -0.9040925533894598,
          -0.2013641844631532,
          0.5013641844631532,
          1.2040925533894602,
          1.906820922315767,
          2.6095492912420735,
          3.31227766016838
         ],
         "y": [
          -9.536832980505139,
          -7.428647873726219,
          -5.320462766947299,
          -3.2122776601683793,
          -1.1040925533894594,
          1.0040925533894594,
          3.11227766016838,
          5.220462766947301,
          7.32864787372622,
          9.436832980505137
         ],
         "z": [
          0,
          0,
          0,
          0,
          0,
          0,
          0,
          0,
          0,
          0
         ]
        },
        {
         "line": {
          "color": "rgb(205, 12, 24)",
          "width": 10
         },
         "mode": "lines",
         "type": "scatter3d",
         "x": [
          -4.3521359549995795,
          -3.358327964999673,
          -2.3645199749997663,
          -1.37071198499986,
          -0.37690399499995314,
          0.6169039949999531,
          1.6107119849998601,
          2.6045199749997674,
          3.598327964999674,
          4.59213595499958
         ],
         "y": [
          -9.00427190999916,
          -7.016655929999346,
          -5.029039949999532,
          -3.0414239699997196,
          -1.0538079899999062,
          0.9338079899999063,
          2.9214239699997204,
          4.909039949999535,
          6.896655929999348,
          8.884271909999159
         ],
         "z": [
          0,
          0,
          0,
          0,
          0,
          0,
          0,
          0,
          0,
          0
         ]
        },
        {
         "mode": "markers",
         "type": "scatter3d",
         "x": [
          0.2
         ],
         "y": [
          0.1
         ],
         "z": [
          0
         ]
        }
       ],
       "layout": {
        "font": {
         "family": "Verdana"
        },
        "height": 1000,
        "plot_bgcolor": "rgb(255, 255, 255)",
        "scene": {
         "aspectmode": "cube",
         "camera": {
          "center": {
           "x": 0,
           "y": 0,
           "z": 0
          },
          "eye": {
           "x": 0,
           "y": 0,
           "z": 3
          }
         },
         "xaxis": {
          "autorange": false,
          "range": [
           -1,
           1
          ],
          "zeroline": false
         },
         "yaxis": {
          "autorange": false,
          "range": [
           -1,
           1
          ],
          "zeroline": false
         },
         "zaxis": {
          "autorange": false,
          "range": [
           -1,
           1
          ],
          "zeroline": false
         }
        },
        "showlegend": false,
        "width": 1000
       }
      },
      "text/html": [
       "<div id=\"8df07b62-bc34-45e1-a613-c905cb9d4437\" style=\"height: 1000px; width: 1000px;\" class=\"plotly-graph-div\"></div><script type=\"text/javascript\">require([\"plotly\"], function(Plotly) { window.PLOTLYENV=window.PLOTLYENV || {};window.PLOTLYENV.BASE_URL=\"https://plot.ly\";Plotly.newPlot(\"8df07b62-bc34-45e1-a613-c905cb9d4437\", [{\"type\": \"scatter3d\", \"x\": [-3.01227766016838, -2.309549291242073, -1.6068209223157666, -0.9040925533894598, -0.2013641844631532, 0.5013641844631532, 1.2040925533894602, 1.906820922315767, 2.6095492912420735, 3.31227766016838], \"line\": {\"width\": 10, \"color\": \"rgb(205, 12, 24)\"}, \"z\": [0.0, 0.0, 0.0, 0.0, 0.0, 0.0, 0.0, 0.0, 0.0, 0.0], \"mode\": \"lines\", \"y\": [-9.536832980505139, -7.428647873726219, -5.320462766947299, -3.2122776601683793, -1.1040925533894594, 1.0040925533894594, 3.11227766016838, 5.220462766947301, 7.32864787372622, 9.436832980505137]}, {\"type\": \"scatter3d\", \"x\": [-4.3521359549995795, -3.358327964999673, -2.3645199749997663, -1.37071198499986, -0.37690399499995314, 0.6169039949999531, 1.6107119849998601, 2.6045199749997674, 3.598327964999674, 4.59213595499958], \"line\": {\"width\": 10, \"color\": \"rgb(205, 12, 24)\"}, \"z\": [0.0, 0.0, 0.0, 0.0, 0.0, 0.0, 0.0, 0.0, 0.0, 0.0], \"mode\": \"lines\", \"y\": [-9.00427190999916, -7.016655929999346, -5.029039949999532, -3.0414239699997196, -1.0538079899999062, 0.9338079899999063, 2.9214239699997204, 4.909039949999535, 6.896655929999348, 8.884271909999159]}, {\"type\": \"scatter3d\", \"x\": [0.2], \"mode\": \"markers\", \"z\": [0.0], \"y\": [0.1]}], {\"showlegend\": false, \"width\": 1000, \"font\": {\"family\": \"Verdana\"}, \"plot_bgcolor\": \"rgb(255, 255, 255)\", \"scene\": {\"xaxis\": {\"autorange\": false, \"range\": [-1, 1], \"zeroline\": false}, \"zaxis\": {\"autorange\": false, \"range\": [-1, 1], \"zeroline\": false}, \"yaxis\": {\"autorange\": false, \"range\": [-1, 1], \"zeroline\": false}, \"aspectmode\": \"cube\", \"camera\": {\"center\": {\"x\": 0, \"z\": 0, \"y\": 0}, \"eye\": {\"x\": 0, \"z\": 3, \"y\": 0}}}, \"height\": 1000}, {\"linkText\": \"Export to plot.ly\", \"showLink\": true})});</script>"
      ],
      "text/vnd.plotly.v1+html": [
       "<div id=\"8df07b62-bc34-45e1-a613-c905cb9d4437\" style=\"height: 1000px; width: 1000px;\" class=\"plotly-graph-div\"></div><script type=\"text/javascript\">require([\"plotly\"], function(Plotly) { window.PLOTLYENV=window.PLOTLYENV || {};window.PLOTLYENV.BASE_URL=\"https://plot.ly\";Plotly.newPlot(\"8df07b62-bc34-45e1-a613-c905cb9d4437\", [{\"type\": \"scatter3d\", \"x\": [-3.01227766016838, -2.309549291242073, -1.6068209223157666, -0.9040925533894598, -0.2013641844631532, 0.5013641844631532, 1.2040925533894602, 1.906820922315767, 2.6095492912420735, 3.31227766016838], \"line\": {\"width\": 10, \"color\": \"rgb(205, 12, 24)\"}, \"z\": [0.0, 0.0, 0.0, 0.0, 0.0, 0.0, 0.0, 0.0, 0.0, 0.0], \"mode\": \"lines\", \"y\": [-9.536832980505139, -7.428647873726219, -5.320462766947299, -3.2122776601683793, -1.1040925533894594, 1.0040925533894594, 3.11227766016838, 5.220462766947301, 7.32864787372622, 9.436832980505137]}, {\"type\": \"scatter3d\", \"x\": [-4.3521359549995795, -3.358327964999673, -2.3645199749997663, -1.37071198499986, -0.37690399499995314, 0.6169039949999531, 1.6107119849998601, 2.6045199749997674, 3.598327964999674, 4.59213595499958], \"line\": {\"width\": 10, \"color\": \"rgb(205, 12, 24)\"}, \"z\": [0.0, 0.0, 0.0, 0.0, 0.0, 0.0, 0.0, 0.0, 0.0, 0.0], \"mode\": \"lines\", \"y\": [-9.00427190999916, -7.016655929999346, -5.029039949999532, -3.0414239699997196, -1.0538079899999062, 0.9338079899999063, 2.9214239699997204, 4.909039949999535, 6.896655929999348, 8.884271909999159]}, {\"type\": \"scatter3d\", \"x\": [0.2], \"mode\": \"markers\", \"z\": [0.0], \"y\": [0.1]}], {\"showlegend\": false, \"width\": 1000, \"font\": {\"family\": \"Verdana\"}, \"plot_bgcolor\": \"rgb(255, 255, 255)\", \"scene\": {\"xaxis\": {\"autorange\": false, \"range\": [-1, 1], \"zeroline\": false}, \"zaxis\": {\"autorange\": false, \"range\": [-1, 1], \"zeroline\": false}, \"yaxis\": {\"autorange\": false, \"range\": [-1, 1], \"zeroline\": false}, \"aspectmode\": \"cube\", \"camera\": {\"center\": {\"x\": 0, \"z\": 0, \"y\": 0}, \"eye\": {\"x\": 0, \"z\": 3, \"y\": 0}}}, \"height\": 1000}, {\"linkText\": \"Export to plot.ly\", \"showLink\": true})});</script>"
      ]
     },
     "metadata": {},
     "output_type": "display_data"
    },
    {
     "name": "stdout",
     "output_type": "stream",
     "text": [
      "{'type': 'scatter3d', 'x': [0.20000000000000001], 'mode': 'markers', 'y': [0.10000000000000001], 'z': [0.0]}\n"
     ]
    }
   ],
   "source": [
    "objs = [line1,line2,point]\n",
    "data = [o.goify() for o in objs]\n",
    "fig = go.Figure(data=data,layout=layout)\n",
    "plot = py.iplot(fig)\n",
    "print(point.goify())"
   ]
  },
  {
   "cell_type": "markdown",
   "metadata": {},
   "source": [
    "$$\\vec{r} = \\vec{d_2} + \\Bigg(\\Big[ \\big| (\\vec{d_2} - \\vec{d_1})\\times \\vec{v_1} \\big| \\bullet \\big( \\vec{v_1} \\times ( \\vec{v_2} \\times \\vec{v_1}) \\big) \\Big] \\cdot \\vec{v_2}\\Bigg) \\bullet \\vec{v_2}$$"
   ]
  },
  {
   "cell_type": "code",
   "execution_count": 34,
   "metadata": {
    "collapsed": true
   },
   "outputs": [],
   "source": [
    "plane = plp.Plane([0.1,0.3,-0.2],[0.2,0.1,0.4])\n",
    "line = plp.Line([0.1,0.3,0],[0.2,0.1,0])\n",
    "pt = intersect(plane,line)"
   ]
  },
  {
   "cell_type": "code",
   "execution_count": 35,
   "metadata": {},
   "outputs": [
    {
     "data": {
      "application/vnd.plotly.v1+json": {
       "data": [
        {
         "type": "surface",
         "x": [
          [
           -1,
           1
          ],
          [
           -1,
           1
          ]
         ],
         "y": [
          [
           -1,
           -1
          ],
          [
           1,
           1
          ]
         ],
         "z": [
          [
           -1.8499999999999996,
           -0.8499999999999998
          ],
          [
           1.15,
           2.15
          ]
         ]
        },
        {
         "line": {
          "color": "rgb(205, 12, 24)",
          "width": 10
         },
         "mode": "lines",
         "type": "scatter3d",
         "x": [
          -3.0122776601683796,
          -2.3095492912420728,
          -1.6068209223157663,
          -0.9040925533894596,
          -0.20136418446315316,
          0.5013641844631531,
          1.20409255338946,
          1.9068209223157668,
          2.609549291242073,
          3.3122776601683794
         ],
         "y": [
          -9.536832980505139,
          -7.428647873726218,
          -5.320462766947299,
          -3.212277660168379,
          -1.1040925533894594,
          1.0040925533894594,
          3.11227766016838,
          5.220462766947301,
          7.3286478737262195,
          9.436832980505137
         ],
         "z": [
          0,
          0,
          0,
          0,
          0,
          0,
          0,
          0,
          0,
          0
         ]
        },
        {
         "mode": "markers",
         "type": "scatter3d",
         "x": [
          0.11999999999999998
         ],
         "y": [
          -0.14000000000000004
         ],
         "z": [
          0
         ]
        }
       ],
       "layout": {
        "font": {
         "family": "Verdana"
        },
        "height": 1000,
        "plot_bgcolor": "rgb(255, 255, 255)",
        "scene": {
         "aspectmode": "cube",
         "camera": {
          "center": {
           "x": 0,
           "y": 0,
           "z": 0
          },
          "eye": {
           "x": 0,
           "y": 0,
           "z": 3
          }
         },
         "xaxis": {
          "autorange": false,
          "range": [
           -1,
           1
          ],
          "zeroline": false
         },
         "yaxis": {
          "autorange": false,
          "range": [
           -1,
           1
          ],
          "zeroline": false
         },
         "zaxis": {
          "autorange": false,
          "range": [
           -1,
           1
          ],
          "zeroline": false
         }
        },
        "showlegend": false,
        "width": 1000
       }
      },
      "text/html": [
       "<div id=\"b9dbac54-c3f8-4372-bc12-53a7ba38acab\" style=\"height: 1000px; width: 1000px;\" class=\"plotly-graph-div\"></div><script type=\"text/javascript\">require([\"plotly\"], function(Plotly) { window.PLOTLYENV=window.PLOTLYENV || {};window.PLOTLYENV.BASE_URL=\"https://plot.ly\";Plotly.newPlot(\"b9dbac54-c3f8-4372-bc12-53a7ba38acab\", [{\"type\": \"surface\", \"x\": [[-1.0, 1.0], [-1.0, 1.0]], \"z\": [[-1.8499999999999996, -0.8499999999999998], [1.15, 2.15]], \"y\": [[-1.0, -1.0], [1.0, 1.0]]}, {\"type\": \"scatter3d\", \"x\": [-3.0122776601683796, -2.3095492912420728, -1.6068209223157663, -0.9040925533894596, -0.20136418446315316, 0.5013641844631531, 1.20409255338946, 1.9068209223157668, 2.609549291242073, 3.3122776601683794], \"line\": {\"width\": 10, \"color\": \"rgb(205, 12, 24)\"}, \"z\": [0.0, 0.0, 0.0, 0.0, 0.0, 0.0, 0.0, 0.0, 0.0, 0.0], \"mode\": \"lines\", \"y\": [-9.536832980505139, -7.428647873726218, -5.320462766947299, -3.212277660168379, -1.1040925533894594, 1.0040925533894594, 3.11227766016838, 5.220462766947301, 7.3286478737262195, 9.436832980505137]}, {\"type\": \"scatter3d\", \"x\": [0.11999999999999998], \"mode\": \"markers\", \"z\": [0.0], \"y\": [-0.14000000000000004]}], {\"showlegend\": false, \"width\": 1000, \"font\": {\"family\": \"Verdana\"}, \"plot_bgcolor\": \"rgb(255, 255, 255)\", \"scene\": {\"xaxis\": {\"autorange\": false, \"range\": [-1, 1], \"zeroline\": false}, \"zaxis\": {\"autorange\": false, \"range\": [-1, 1], \"zeroline\": false}, \"yaxis\": {\"autorange\": false, \"range\": [-1, 1], \"zeroline\": false}, \"aspectmode\": \"cube\", \"camera\": {\"center\": {\"x\": 0, \"z\": 0, \"y\": 0}, \"eye\": {\"x\": 0, \"z\": 3, \"y\": 0}}}, \"height\": 1000}, {\"linkText\": \"Export to plot.ly\", \"showLink\": true})});</script>"
      ],
      "text/vnd.plotly.v1+html": [
       "<div id=\"b9dbac54-c3f8-4372-bc12-53a7ba38acab\" style=\"height: 1000px; width: 1000px;\" class=\"plotly-graph-div\"></div><script type=\"text/javascript\">require([\"plotly\"], function(Plotly) { window.PLOTLYENV=window.PLOTLYENV || {};window.PLOTLYENV.BASE_URL=\"https://plot.ly\";Plotly.newPlot(\"b9dbac54-c3f8-4372-bc12-53a7ba38acab\", [{\"type\": \"surface\", \"x\": [[-1.0, 1.0], [-1.0, 1.0]], \"z\": [[-1.8499999999999996, -0.8499999999999998], [1.15, 2.15]], \"y\": [[-1.0, -1.0], [1.0, 1.0]]}, {\"type\": \"scatter3d\", \"x\": [-3.0122776601683796, -2.3095492912420728, -1.6068209223157663, -0.9040925533894596, -0.20136418446315316, 0.5013641844631531, 1.20409255338946, 1.9068209223157668, 2.609549291242073, 3.3122776601683794], \"line\": {\"width\": 10, \"color\": \"rgb(205, 12, 24)\"}, \"z\": [0.0, 0.0, 0.0, 0.0, 0.0, 0.0, 0.0, 0.0, 0.0, 0.0], \"mode\": \"lines\", \"y\": [-9.536832980505139, -7.428647873726218, -5.320462766947299, -3.212277660168379, -1.1040925533894594, 1.0040925533894594, 3.11227766016838, 5.220462766947301, 7.3286478737262195, 9.436832980505137]}, {\"type\": \"scatter3d\", \"x\": [0.11999999999999998], \"mode\": \"markers\", \"z\": [0.0], \"y\": [-0.14000000000000004]}], {\"showlegend\": false, \"width\": 1000, \"font\": {\"family\": \"Verdana\"}, \"plot_bgcolor\": \"rgb(255, 255, 255)\", \"scene\": {\"xaxis\": {\"autorange\": false, \"range\": [-1, 1], \"zeroline\": false}, \"zaxis\": {\"autorange\": false, \"range\": [-1, 1], \"zeroline\": false}, \"yaxis\": {\"autorange\": false, \"range\": [-1, 1], \"zeroline\": false}, \"aspectmode\": \"cube\", \"camera\": {\"center\": {\"x\": 0, \"z\": 0, \"y\": 0}, \"eye\": {\"x\": 0, \"z\": 3, \"y\": 0}}}, \"height\": 1000}, {\"linkText\": \"Export to plot.ly\", \"showLink\": true})});</script>"
      ]
     },
     "metadata": {},
     "output_type": "display_data"
    },
    {
     "name": "stdout",
     "output_type": "stream",
     "text": [
      "{'type': 'scatter3d', 'x': [0.20000000000000001], 'mode': 'markers', 'y': [0.10000000000000001], 'z': [0.0]}\n"
     ]
    }
   ],
   "source": [
    "objs = [plane,line,pt]\n",
    "data = [o.goify() for o in objs]\n",
    "fig = go.Figure(data=data,layout=layout)\n",
    "plot = py.iplot(fig)\n",
    "print(point.goify())"
   ]
  },
  {
   "cell_type": "code",
   "execution_count": null,
   "metadata": {
    "collapsed": true
   },
   "outputs": [],
   "source": []
  }
 ],
 "metadata": {
  "kernelspec": {
   "display_name": "Python 3",
   "language": "python",
   "name": "python3"
  },
  "language_info": {
   "codemirror_mode": {
    "name": "ipython",
    "version": 3
   },
   "file_extension": ".py",
   "mimetype": "text/x-python",
   "name": "python",
   "nbconvert_exporter": "python",
   "pygments_lexer": "ipython3",
   "version": "3.5.2"
  }
 },
 "nbformat": 4,
 "nbformat_minor": 2
}
