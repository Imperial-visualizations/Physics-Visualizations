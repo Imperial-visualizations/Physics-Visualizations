{
 "cells": [
  {
   "cell_type": "markdown",
   "metadata": {},
   "source": [
    "# Planes intersection"
   ]
  },
  {
   "cell_type": "markdown",
   "metadata": {},
   "source": [
    "## Making a plane"
   ]
  },
  {
   "cell_type": "markdown",
   "metadata": {},
   "source": [
    "imports"
   ]
  },
  {
   "cell_type": "code",
   "execution_count": 1,
   "metadata": {},
   "outputs": [
    {
     "data": {
      "text/html": [
       "<script>requirejs.config({paths: { 'plotly': ['https://cdn.plot.ly/plotly-latest.min']},});if(!window.Plotly) {{require(['plotly'],function(plotly) {window.Plotly=plotly;});}}</script>"
      ],
      "text/vnd.plotly.v1+html": [
       "<script>requirejs.config({paths: { 'plotly': ['https://cdn.plot.ly/plotly-latest.min']},});if(!window.Plotly) {{require(['plotly'],function(plotly) {window.Plotly=plotly;});}}</script>"
      ]
     },
     "metadata": {},
     "output_type": "display_data"
    }
   ],
   "source": [
    "import plotly.offline as py\n",
    "import plotly.graph_objs as go\n",
    "py.init_notebook_mode(connected=True)\n",
    "#numpy for calculations\n",
    "import numpy as np"
   ]
  },
  {
   "cell_type": "code",
   "execution_count": 2,
   "metadata": {
    "collapsed": true
   },
   "outputs": [],
   "source": [
    "\"\"\"utils.py\"\"\"\n",
    "import numpy as np\n",
    "def mesh2d(xlim, ylim, n=5):\n",
    "    \"\"\"Create 2d mesh in sepecifies x and y axes limits, with number of points for every dimension separate.\"\"\"\n",
    "    if isinstance(n, int):\n",
    "        xx = np.linspace(xlim[0],xlim[1],n)\n",
    "        yy = np.linspace(ylim[0],ylim[1],n)\n",
    "    elif isinstance(n, list):\n",
    "        xx = np.linspace(xlim[0],xlim[1],n[0])\n",
    "        yy = np.linspace(ylim[0],ylim[1],n[1])\n",
    "    else:\n",
    "        raise Exception(\"Wrong number of points parameter\")\n",
    "    return np.meshgrid(xx, yy)"
   ]
  },
  {
   "cell_type": "code",
   "execution_count": 3,
   "metadata": {
    "collapsed": true
   },
   "outputs": [],
   "source": [
    "\"\"\"utils.py\"\"\"\n",
    "def normalize(v):\n",
    "    \"\"\"Normalizes a 3d vector v, returns a 3d vector.\"\"\"\n",
    "    magnitude = np.sqrt(v[0]**2+v[1]**2+v[2]**2)\n",
    "    if magnitude==0:\n",
    "        raise ValueError(\"Zero vector cannot be normalized.\")\n",
    "    else:\n",
    "        return v/magnitude"
   ]
  },
  {
   "cell_type": "code",
   "execution_count": 4,
   "metadata": {
    "collapsed": true
   },
   "outputs": [],
   "source": [
    "\"\"\"utils.py\"\"\"\n",
    "def jsonify(obj):\n",
    "    \"\"\"Transforms a graphic object (go) into json data dictionary.\n",
    "    @author Nick Metelski\n",
    "    @since 27.07.17\"\"\"\n",
    "    go_obj = obj.goify()\n",
    "    json_obj = dict()\n",
    "    json_obj['name'] = go_obj['name']\n",
    "    json_obj['x'] = list(go_obj['x'])\n",
    "    json_obj['y'] = list(go_obj['y'])\n",
    "    json_obj['z'] = list(go_obj['z'])\n",
    "    return json_obj"
   ]
  },
  {
   "cell_type": "markdown",
   "metadata": {},
   "source": [
    "We need classes for Point, Line and Plane for uniform output:"
   ]
  },
  {
   "cell_type": "code",
   "execution_count": 5,
   "metadata": {
    "collapsed": true
   },
   "outputs": [],
   "source": [
    "\"\"\"point.py\"\"\"\n",
    "class Point:\n",
    "    \"\"\"Point class to make returns from intersections more reasonable.\n",
    "    @author Nick\n",
    "    @since 25.07.17\"\"\"\n",
    "    def __init__(self,position):\n",
    "        self.pos = np.array(position)\n",
    "        \n",
    "    def getXYZ(self, layout=None):\n",
    "        \"\"\"Generate x,y,z data based on the layout box. Returns tuple (x,y,z).\n",
    "        @author Nick Metelski\n",
    "        @since 27.07.17\"\"\"\n",
    "        return np.array([self.pos[0]]), np.array([self.pos[1]]), np.array([self.pos[2]])\n",
    "    \n",
    "    def goify(self):\n",
    "        \"\"\"Transform a point into graphics object (go).\n",
    "        @author Nick Metelski\n",
    "        @since 25.07.17\"\"\"\n",
    "        pt = go.Scatter3d(\n",
    "            mode=\"markers\",\n",
    "            x=[self.pos[0]],\n",
    "            y=[self.pos[1]],\n",
    "            z=[self.pos[2]]\n",
    "        )\n",
    "        return pt"
   ]
  },
  {
   "cell_type": "markdown",
   "metadata": {},
   "source": [
    "Testing"
   ]
  },
  {
   "cell_type": "code",
   "execution_count": 6,
   "metadata": {},
   "outputs": [
    {
     "name": "stdout",
     "output_type": "stream",
     "text": [
      "{'mode': 'markers', 'x': [1], 'y': [2], 'type': 'scatter3d', 'z': [3]}\n",
      "{'z': [3], 'y': [2], 'name': None, 'x': [1]}\n"
     ]
    }
   ],
   "source": [
    "pt = Point([1,2,3])\n",
    "print(pt.goify())\n",
    "print(jsonify(pt))"
   ]
  },
  {
   "cell_type": "code",
   "execution_count": 7,
   "metadata": {
    "collapsed": true
   },
   "outputs": [],
   "source": [
    "\"\"\"line.py\"\"\"\n",
    "import plotly.graph_objs as go\n",
    "import numpy as np\n",
    "class Line:\n",
    "    \"\"\"Line class for intersections simulation\n",
    "    @author Nick Metelski\n",
    "    @since 25.07.17\"\"\"\n",
    "    \n",
    "    def __init__(self, vec, offset):\n",
    "        self.vec = normalize(np.array(vec)) #normalize direction vector\n",
    "        self.offset = np.array(offset) #cast to numpy array\n",
    "        #minimize the offset to be minimum distance\n",
    "        self.offset = self.offset - (np.dot(self.offset,self.vec) * self.vec)\n",
    "    \n",
    "    def getXYZ(self, layout=None):\n",
    "        \"\"\"Generate x,y,z data based on the layout box. Returns tuple (x,y,z).\n",
    "        @author Nick Metelski\n",
    "        @since 26.07.17\"\"\"\n",
    "        #TODO import data from layout\n",
    "        t = np.linspace(0,1,2) #the parameter\n",
    "        xx = self.offset[0]+t*self.vec[0] #generate xpoints\n",
    "        yy = self.offset[1]+t*self.vec[1] #for y points\n",
    "        zz = self.offset[2]+t*self.vec[2] #for z points\n",
    "        return xx, yy, zz\n",
    "\n",
    "    def goify(self,layout=None):\n",
    "        \"\"\"Export the line into graphics object\n",
    "        @author Nick Metelski\n",
    "        @since 26.07.17\"\"\"\n",
    "        xx, yy, zz = self.getXYZ()\n",
    "        line = go.Scatter3d(\n",
    "            mode=\"lines\",\n",
    "            x=list(xx),\n",
    "            y=list(yy),\n",
    "            z=list(zz),\n",
    "            line = dict(\n",
    "                color = ('rgb(205, 12, 24)'),\n",
    "                width = 10)\n",
    "        )\n",
    "        return line"
   ]
  },
  {
   "cell_type": "markdown",
   "metadata": {},
   "source": [
    "Testing"
   ]
  },
  {
   "cell_type": "code",
   "execution_count": 8,
   "metadata": {},
   "outputs": [
    {
     "name": "stdout",
     "output_type": "stream",
     "text": [
      "{'line': {'color': 'rgb(205, 12, 24)', 'width': 10}, 'type': 'scatter3d', 'y': [0.14285714285714279, 0.67737962668199159], 'x': [0.5714285714285714, 0.83868981334099579], 'mode': 'lines', 'z': [-0.28571428571428581, 0.51606944002298738]}\n",
      "{'z': [-0.28571428571428581, 0.51606944002298738], 'y': [0.14285714285714279, 0.67737962668199159], 'name': None, 'x': [0.5714285714285714, 0.83868981334099579]}\n"
     ]
    }
   ],
   "source": [
    "line = Line([1,2,3],[1,1,1])\n",
    "print(line.goify())\n",
    "print(jsonify(line))"
   ]
  },
  {
   "cell_type": "markdown",
   "metadata": {},
   "source": [
    "Equation of a plane: $$\\vec{n} \\cdot (\\vec{r} - \\vec{r_0}) = 0$$"
   ]
  },
  {
   "cell_type": "code",
   "execution_count": 9,
   "metadata": {
    "collapsed": true
   },
   "outputs": [],
   "source": [
    "\"\"\"plane.py\"\"\"\n",
    "\"\"\"Plane class for intersections simulation\n",
    "@author Nick\n",
    "@since 25.07.17\"\"\"\n",
    "import plotly.graph_objs as go\n",
    "#import .line #import local line module\n",
    "import numpy as np\n",
    "\n",
    "class Plane:\n",
    "    \"\"\"Planes are defined by their normal and offset vector.\"\"\"\n",
    "    \n",
    "    def __init__(self, normal, offset):\n",
    "        self.normal = normalize(np.array(normal)) #normalize normal vector\n",
    "        self.offset = np.array(offset)\n",
    "        self.offset = np.dot(self.offset,self.normal)*self.normal\n",
    "        \n",
    "    def getXYZ(self, xlim=[-1,1], ylim=[-1,1], zlim=[-1,1], n=2):\n",
    "        \"\"\"Generate x,y,z data based on the layout box. Returns tuple (x,y,z).\n",
    "        @author Nick Metelski\n",
    "        @since 25.07.17\"\"\"\n",
    "        if self.normal[2] == 0: #check if z is zero, then we have to generate x or y from other meshes\n",
    "            if self.normal[1] == 0: #check if z and y is zero, then we have to generate x from yz mesh\n",
    "                if self.normal[0] == 0: \n",
    "                    return ValueError(\"Normal vector is zero vector.\")\n",
    "                else:\n",
    "                    #cannot generate z but can y, try generating y for xz mesh\n",
    "                    y, z = mesh2d(ylim, zlim, n)\n",
    "                    x = (np.dot(self.normal,self.offset)-self.normal[1]*y-self.normal[2]*z)/self.normal[0]\n",
    "            else:\n",
    "                #cannot generate z but can y, try generating y for xz mesh\n",
    "                #self.normal[2] = 0.01 # TODO THIS IS VERY CRUDE\n",
    "                x, z = mesh2d(xlim, zlim, n)\n",
    "                y = ((np.dot(self.normal,self.offset)\n",
    "                          - self.normal[0]*x\n",
    "                          - self.normal[2]*z)\n",
    "                              / self.normal[1])\n",
    "        else:\n",
    "            #try generating z\n",
    "            x, y = mesh2d(xlim, ylim, n)\n",
    "            #Generate plane z-values array\n",
    "            z = (np.dot(self.normal,self.offset)-self.normal[0]*x-self.normal[1]*y)/self.normal[2]\n",
    "        return [list(i) for i in x],[list(i) for i in y],[list(i) for i in z]\n",
    "\n",
    "    def goify(self, layout=None):\n",
    "        \"\"\"Export the plane into graphics object.\n",
    "        @author Nick Metelski\n",
    "        @since 25.07.17\"\"\"\n",
    "        xx,yy,zz = self.getXYZ()\n",
    "        surf = go.Surface(\n",
    "            x=xx,\n",
    "            y=yy,\n",
    "            z=zz\n",
    "        )\n",
    "        return surf"
   ]
  },
  {
   "cell_type": "markdown",
   "metadata": {},
   "source": [
    "Testing"
   ]
  },
  {
   "cell_type": "code",
   "execution_count": 10,
   "metadata": {},
   "outputs": [
    {
     "name": "stdout",
     "output_type": "stream",
     "text": [
      "{'x': [[-1.0, 1.0], [-1.0, 1.0]], 'y': [[-1.0, -1.0], [1.0, 1.0]], 'type': 'surface', 'z': [[3.0000000000000004, 2.333333333333333], [1.6666666666666667, 0.99999999999999989]]}\n"
     ]
    }
   ],
   "source": [
    "plane = Plane([1,2,3],[1,1,1])\n",
    "print(plane.goify())"
   ]
  },
  {
   "cell_type": "markdown",
   "metadata": {},
   "source": [
    "### Let's try it!"
   ]
  },
  {
   "cell_type": "markdown",
   "metadata": {},
   "source": [
    "Generate some objects"
   ]
  },
  {
   "cell_type": "code",
   "execution_count": 11,
   "metadata": {
    "collapsed": true
   },
   "outputs": [],
   "source": [
    "point1 = Point([0.5,0.0,0.2])\n",
    "point2 = Point([0.1,-0.4,0.3])\n",
    "line1 = Line([2,1,0],[0,0.1,0])\n",
    "line2 = Line([2,1,1],[0.2,0.1,0])\n",
    "plane1 = Plane([1,1,1],[0,0.1,0])\n",
    "plane2 = Plane([2,0,-1],[-0.2,0.1,0.3])\n",
    "\n",
    "objlist = [point1, point2, line1, line2, plane1, plane2]\n",
    "data = [obj.goify() for obj in objlist]"
   ]
  },
  {
   "cell_type": "markdown",
   "metadata": {},
   "source": [
    "Define layout"
   ]
  },
  {
   "cell_type": "code",
   "execution_count": 12,
   "metadata": {
    "collapsed": true
   },
   "outputs": [],
   "source": [
    "u"
   ]
  },
  {
   "cell_type": "markdown",
   "metadata": {},
   "source": [
    "Plot the figure"
   ]
  },
  {
   "cell_type": "code",
   "execution_count": 13,
   "metadata": {
    "scrolled": true
   },
   "outputs": [
    {
     "data": {
      "application/vnd.plotly.v1+json": {
       "data": [
        {
         "mode": "markers",
         "type": "scatter3d",
         "x": [
          0.5
         ],
         "y": [
          0
         ],
         "z": [
          0.2
         ]
        },
        {
         "mode": "markers",
         "type": "scatter3d",
         "x": [
          0.1
         ],
         "y": [
          -0.4
         ],
         "z": [
          0.3
         ]
        },
        {
         "line": {
          "color": "rgb(205, 12, 24)",
          "width": 10
         },
         "mode": "lines",
         "type": "scatter3d",
         "x": [
          -0.04,
          0.8544271909999158
         ],
         "y": [
          0.08,
          0.5272135954999579
         ],
         "z": [
          0,
          0
         ]
        },
        {
         "line": {
          "color": "rgb(205, 12, 24)",
          "width": 10
         },
         "mode": "lines",
         "type": "scatter3d",
         "x": [
          0.03333333333333327,
          0.8498299142610595
         ],
         "y": [
          0.016666666666666635,
          0.42491495713052974
         ],
         "z": [
          -0.08333333333333337,
          0.3249149571305297
         ]
        },
        {
         "type": "surface",
         "x": [
          [
           -1,
           1
          ],
          [
           -1,
           1
          ]
         ],
         "y": [
          [
           -1,
           -1
          ],
          [
           1,
           1
          ]
         ],
         "z": [
          [
           2.0999999999999996,
           0.10000000000000002
          ],
          [
           0.10000000000000002,
           -1.9000000000000001
          ]
         ]
        },
        {
         "type": "surface",
         "x": [
          [
           -1,
           1
          ],
          [
           -1,
           1
          ]
         ],
         "y": [
          [
           -1,
           -1
          ],
          [
           1,
           1
          ]
         ],
         "z": [
          [
           -1.3,
           2.7
          ],
          [
           -1.3,
           2.7
          ]
         ]
        }
       ],
       "layout": {
        "font": {
         "family": "Verdana"
        },
        "height": 400,
        "plot_bgcolor": "rgb(255, 255, 255)",
        "scene": {
         "aspectmode": "cube",
         "camera": {
          "center": {
           "x": 0,
           "y": 0,
           "z": 0
          },
          "eye": {
           "x": 1,
           "y": 1,
           "z": 1
          }
         },
         "xaxis": {
          "autorange": false,
          "range": [
           -1,
           1
          ],
          "zeroline": false
         },
         "yaxis": {
          "autorange": false,
          "range": [
           -1,
           1
          ],
          "zeroline": false
         },
         "zaxis": {
          "autorange": false,
          "range": [
           -1,
           1
          ],
          "zeroline": false
         }
        },
        "showlegend": false,
        "width": 400
       }
      },
      "text/html": [
       "<div id=\"99752223-a5f0-4140-bb8a-24a04b59dc86\" style=\"height: 400px; width: 400px;\" class=\"plotly-graph-div\"></div><script type=\"text/javascript\">require([\"plotly\"], function(Plotly) { window.PLOTLYENV=window.PLOTLYENV || {};window.PLOTLYENV.BASE_URL=\"https://plot.ly\";Plotly.newPlot(\"99752223-a5f0-4140-bb8a-24a04b59dc86\", [{\"y\": [0.0], \"z\": [0.2], \"mode\": \"markers\", \"type\": \"scatter3d\", \"x\": [0.5]}, {\"y\": [-0.4], \"z\": [0.3], \"mode\": \"markers\", \"type\": \"scatter3d\", \"x\": [0.1]}, {\"line\": {\"width\": 10, \"color\": \"rgb(205, 12, 24)\"}, \"type\": \"scatter3d\", \"y\": [0.08, 0.5272135954999579], \"z\": [0.0, 0.0], \"mode\": \"lines\", \"x\": [-0.04, 0.8544271909999158]}, {\"line\": {\"width\": 10, \"color\": \"rgb(205, 12, 24)\"}, \"type\": \"scatter3d\", \"y\": [0.016666666666666635, 0.42491495713052974], \"z\": [-0.08333333333333337, 0.3249149571305297], \"mode\": \"lines\", \"x\": [0.03333333333333327, 0.8498299142610595]}, {\"z\": [[2.0999999999999996, 0.10000000000000002], [0.10000000000000002, -1.9000000000000001]], \"y\": [[-1.0, -1.0], [1.0, 1.0]], \"type\": \"surface\", \"x\": [[-1.0, 1.0], [-1.0, 1.0]]}, {\"z\": [[-1.3, 2.7], [-1.3, 2.7]], \"y\": [[-1.0, -1.0], [1.0, 1.0]], \"type\": \"surface\", \"x\": [[-1.0, 1.0], [-1.0, 1.0]]}], {\"showlegend\": false, \"plot_bgcolor\": \"rgb(255, 255, 255)\", \"height\": 400, \"font\": {\"family\": \"Verdana\"}, \"scene\": {\"yaxis\": {\"autorange\": false, \"zeroline\": false, \"range\": [-1, 1]}, \"xaxis\": {\"autorange\": false, \"zeroline\": false, \"range\": [-1, 1]}, \"aspectmode\": \"cube\", \"camera\": {\"eye\": {\"z\": 1, \"y\": 1, \"x\": 1}, \"center\": {\"z\": 0, \"y\": 0, \"x\": 0}}, \"zaxis\": {\"autorange\": false, \"zeroline\": false, \"range\": [-1, 1]}}, \"width\": 400}, {\"showLink\": true, \"linkText\": \"Export to plot.ly\"})});</script>"
      ],
      "text/vnd.plotly.v1+html": [
       "<div id=\"99752223-a5f0-4140-bb8a-24a04b59dc86\" style=\"height: 400px; width: 400px;\" class=\"plotly-graph-div\"></div><script type=\"text/javascript\">require([\"plotly\"], function(Plotly) { window.PLOTLYENV=window.PLOTLYENV || {};window.PLOTLYENV.BASE_URL=\"https://plot.ly\";Plotly.newPlot(\"99752223-a5f0-4140-bb8a-24a04b59dc86\", [{\"y\": [0.0], \"z\": [0.2], \"mode\": \"markers\", \"type\": \"scatter3d\", \"x\": [0.5]}, {\"y\": [-0.4], \"z\": [0.3], \"mode\": \"markers\", \"type\": \"scatter3d\", \"x\": [0.1]}, {\"line\": {\"width\": 10, \"color\": \"rgb(205, 12, 24)\"}, \"type\": \"scatter3d\", \"y\": [0.08, 0.5272135954999579], \"z\": [0.0, 0.0], \"mode\": \"lines\", \"x\": [-0.04, 0.8544271909999158]}, {\"line\": {\"width\": 10, \"color\": \"rgb(205, 12, 24)\"}, \"type\": \"scatter3d\", \"y\": [0.016666666666666635, 0.42491495713052974], \"z\": [-0.08333333333333337, 0.3249149571305297], \"mode\": \"lines\", \"x\": [0.03333333333333327, 0.8498299142610595]}, {\"z\": [[2.0999999999999996, 0.10000000000000002], [0.10000000000000002, -1.9000000000000001]], \"y\": [[-1.0, -1.0], [1.0, 1.0]], \"type\": \"surface\", \"x\": [[-1.0, 1.0], [-1.0, 1.0]]}, {\"z\": [[-1.3, 2.7], [-1.3, 2.7]], \"y\": [[-1.0, -1.0], [1.0, 1.0]], \"type\": \"surface\", \"x\": [[-1.0, 1.0], [-1.0, 1.0]]}], {\"showlegend\": false, \"plot_bgcolor\": \"rgb(255, 255, 255)\", \"height\": 400, \"font\": {\"family\": \"Verdana\"}, \"scene\": {\"yaxis\": {\"autorange\": false, \"zeroline\": false, \"range\": [-1, 1]}, \"xaxis\": {\"autorange\": false, \"zeroline\": false, \"range\": [-1, 1]}, \"aspectmode\": \"cube\", \"camera\": {\"eye\": {\"z\": 1, \"y\": 1, \"x\": 1}, \"center\": {\"z\": 0, \"y\": 0, \"x\": 0}}, \"zaxis\": {\"autorange\": false, \"zeroline\": false, \"range\": [-1, 1]}}, \"width\": 400}, {\"showLink\": true, \"linkText\": \"Export to plot.ly\"})});</script>"
      ]
     },
     "metadata": {},
     "output_type": "display_data"
    }
   ],
   "source": [
    "fig=go.Figure(data=data,layout=layout)\n",
    "py.iplot(fig)"
   ]
  },
  {
   "cell_type": "markdown",
   "metadata": {},
   "source": [
    "## Making intersections"
   ]
  },
  {
   "cell_type": "markdown",
   "metadata": {},
   "source": [
    "We need points as well as planes and lines."
   ]
  },
  {
   "cell_type": "code",
   "execution_count": 14,
   "metadata": {
    "collapsed": true
   },
   "outputs": [],
   "source": [
    "\"\"\"algebra.py\"\"\"\n",
    "\"\"\"This contains algebra methods to calculate intersections etc.\"\"\"\n",
    "def intersection(obj1, obj2):\n",
    "    \"\"\"Intersection between two algebra 3d objects.\n",
    "    @author Nick Metelski\n",
    "    @since 26.07.17\"\"\"\n",
    "    #plane-plane\n",
    "    if isinstance(obj1,Plane) and isinstance(obj2,Plane):\n",
    "        return _plane_plane_intersection(obj1,obj2)\n",
    "    \n",
    "    #plane-line\n",
    "    elif isinstance(obj1,Plane) and isinstance(obj2,Line):\n",
    "        return _plane_line_intersection(obj1,obj2)\n",
    "    elif isinstance(obj1,Line) and isinstance(obj2,Plane):\n",
    "        return _plane_line_intersection(obj2,obj1)\n",
    "    \n",
    "    #plane-point\n",
    "    elif isinstance(obj1,Plane) and isinstance(obj2,Point):\n",
    "        return _plane_point_intersection(obj1,obj2)\n",
    "    elif isinstance(obj1,Point) and isinstance(obj2,Plane):\n",
    "        return _plane_point_intersection(obj2,obj1)\n",
    "    \n",
    "    #line-line\n",
    "    elif isinstance(obj1,Line) and isinstance(obj2,Line):\n",
    "        return _line_line_intersection(obj1,obj2)\n",
    "    \n",
    "    #line-point\n",
    "    elif isinstance(obj1,Line) and isinstance(obj2,Point):\n",
    "        return _line_point_intersection(obj1,obj2)\n",
    "    elif isinstance(obj1,Point) and isinstance(obj2,Line):\n",
    "        return _line_point_intersection(obj2,obj1)\n",
    "    \n",
    "    #point-point\n",
    "    elif isinstance(obj1,Point) and isinstance(obj2,Point):\n",
    "        return _point_point_intersection(obj1,obj2)\n",
    "    \n",
    "    #wrong params\n",
    "    else:\n",
    "        raise TypeError(\"Invalid parameter types - please pass intersections.Point, intersections.Line or intersections.Plane.\")\n",
    "\n",
    "def _plane_plane_intersection(p1,p2):\n",
    "    \"\"\"Private function; do not use. Use intersection(obj1,obj2) instead.\n",
    "    plane-plane intersection submethod. Raises exceptions or returns Line.\n",
    "    @author Nick Metelski\n",
    "    @since 26.07.17\"\"\"\n",
    "    #cross-product\n",
    "    cross = np.cross(p1.normal,p2.normal)\n",
    "    if np.all(cross==0):\n",
    "        #planes are parallel or overlap\n",
    "        raise ArithmeticError(\"Planes are parallel.\")\n",
    "    else:\n",
    "        #sample point: x=0\n",
    "        mat = [[p1.normal[1],p1.normal[2]],[p2.normal[1], p2.normal[2]]]\n",
    "        axis = 0 #keep track of which axis we zero out; 0=x, 1=y, 2=z\n",
    "        #NOTE: linalg.solve can raise np.linalg.LinAlgError exception when x=0 results in singular matrix\n",
    "        #we have to check some other cases\n",
    "        #premise: the line has to intersect at least one of the planes: xy, yz or xz.\n",
    "        if np.linalg.matrix_rank(mat) == 1:\n",
    "            mat = [[p1.normal[0],p1.normal[2]],[p2.normal[0], p2.normal[2]]]\n",
    "            axis = 1\n",
    "            if np.linalg.matrix_rank(mat) == 1:\n",
    "                mat = [[p1.normal[0],p1.normal[1]],[p1.normal[0], p2.normal[1]]]\n",
    "                axis = 2  \n",
    "        rhs = [np.dot(p1.normal,p1.offset),np.dot(p2.normal,p2.offset)]\n",
    "        sol = np.linalg.solve(mat,rhs)\n",
    "        if axis == 0:\n",
    "            return Line(cross, [0,sol[0],sol[1]])\n",
    "        if axis == 1:\n",
    "            return Line(cross, [sol[0],0,sol[1]])\n",
    "        if axis == 2:\n",
    "            return Line(cross, [sol[0],sol[1],0])\n",
    "\n",
    "def _plane_line_intersection(plane,line):\n",
    "    \"\"\"Private function; do not use. Use intersection(obj1,obj2) instead.\n",
    "    Intersection of a line an a plane. Raises exceptions or returns Point.\n",
    "    @author Nick Metelski\n",
    "    @since 26.07.17\"\"\"\n",
    "    check = np.dot(plane.normal,line.vec)\n",
    "    if np.all(check==0):\n",
    "        #plane and line are parallel or overlap\n",
    "        raise ArithmeticError(\"Plane and line are parallel.\")\n",
    "    else:\n",
    "        #there is an explicit formula for parameter of the line for which intersection is met:\n",
    "        #$$t = \\frac{\\vec{n} \\cdot (\\vec{d_p}-\\vec{d_v})}{\\vec{n} \\cdot \\vec{v}}$$,\n",
    "        #where n is normal to plane, v is line's direction, rp is plane offset, rv is vector offset\n",
    "        t = np.dot(plane.normal,(plane.offset-line.offset))/np.dot(plane.normal,line.vec)\n",
    "        return Point(line.offset+t*line.vec)\n",
    "    \n",
    "def _plane_point_intersection(plane,point):\n",
    "    raise NotImplementedError(\"Plane-point intersections not implemented.\")\n",
    "\n",
    "def _line_line_intersection(line1,line2):\n",
    "    raise NotImplementedError(\"Line-line intersections not implemented.\")\n",
    "    \n",
    "def _line_point_intersection(line,point):\n",
    "    \"\"\"Private function; do not use.\n",
    "    Intersection of a line and point. Intersection is a Point.\n",
    "    Raises exceptions or returns Point.\n",
    "    @author Nick Metelski\n",
    "    @since 27.07.17\"\"\"\n",
    "    offset_diff = point.pos - line.offset #difference in offsets must be parallel to direction vector\n",
    "    cross = np.cross(line.vec,offset_diff) # this is for checking if there exists an intersection\n",
    "    if cross == 0:\n",
    "        return Point(point.pos) #return a point coinciding with the original point passed as param\n",
    "    else:\n",
    "        raise ArithmeticError(\"Point does not lie on the line.\")\n",
    "        \n",
    "def _point_point_intersection(point1, point2):\n",
    "    \"\"\"Private function; do not use. Use intersection(obj1,obj2) instead.\n",
    "    Intersection of a two points. Intersection is the point if the point are the same position. \n",
    "    Raises exceptions or returns Point.\n",
    "    @author Nick Metelski\n",
    "    @since 27.07.17\"\"\"\n",
    "    if np.all_equal(point1,point2):\n",
    "        #just return one of the moints when they coincide\n",
    "        return Point(point1.pos)\n",
    "    else:\n",
    "        raise ArithmeticError(\"Points do not coincide.\")"
   ]
  },
  {
   "cell_type": "code",
   "execution_count": 15,
   "metadata": {},
   "outputs": [
    {
     "data": {
      "application/vnd.plotly.v1+json": {
       "data": [
        {
         "type": "surface",
         "x": [
          [
           -1,
           1
          ],
          [
           -1,
           1
          ]
         ],
         "y": [
          [
           -1,
           -1
          ],
          [
           1,
           1
          ]
         ],
         "z": [
          [
           2,
           0
          ],
          [
           0,
           -2
          ]
         ]
        },
        {
         "type": "surface",
         "x": [
          [
           -1,
           1
          ],
          [
           -1,
           1
          ]
         ],
         "y": [
          [
           -1,
           -1
          ],
          [
           1,
           1
          ]
         ],
         "z": [
          [
           0,
           -2
          ],
          [
           2,
           0
          ]
         ]
        },
        {
         "type": "surface",
         "x": [
          [
           -1,
           1
          ],
          [
           -1,
           1
          ]
         ],
         "y": [
          [
           -0.5000000000000001,
           1.5
          ],
          [
           -0.5000000000000001,
           1.5
          ]
         ],
         "z": [
          [
           -1,
           -1
          ],
          [
           1,
           1
          ]
         ]
        },
        {
         "line": {
          "color": "rgb(205, 12, 24)",
          "width": 10
         },
         "mode": "lines",
         "type": "scatter3d",
         "x": [
          0,
          0.7071067811865475
         ],
         "y": [
          0,
          0
         ],
         "z": [
          0,
          -0.7071067811865475
         ]
        },
        {
         "line": {
          "color": "rgb(205, 12, 24)",
          "width": 10
         },
         "mode": "lines",
         "type": "scatter3d",
         "x": [
          -0.25,
          -0.9571067811865476
         ],
         "y": [
          0.24999999999999994,
          -0.45710678118654763
         ],
         "z": [
          0.4999999999999999,
          0.4999999999999999
         ]
        }
       ],
       "layout": {
        "font": {
         "family": "Verdana"
        },
        "height": 400,
        "plot_bgcolor": "rgb(255, 255, 255)",
        "scene": {
         "aspectmode": "cube",
         "camera": {
          "center": {
           "x": 0,
           "y": 0,
           "z": 0
          },
          "eye": {
           "x": 1,
           "y": 1,
           "z": 1
          }
         },
         "xaxis": {
          "autorange": false,
          "range": [
           -1,
           1
          ],
          "zeroline": false
         },
         "yaxis": {
          "autorange": false,
          "range": [
           -1,
           1
          ],
          "zeroline": false
         },
         "zaxis": {
          "autorange": false,
          "range": [
           -1,
           1
          ],
          "zeroline": false
         }
        },
        "showlegend": false,
        "width": 400
       }
      },
      "text/html": [
       "<div id=\"3b52ecd4-f723-4a81-baf2-484026a2bb79\" style=\"height: 400px; width: 400px;\" class=\"plotly-graph-div\"></div><script type=\"text/javascript\">require([\"plotly\"], function(Plotly) { window.PLOTLYENV=window.PLOTLYENV || {};window.PLOTLYENV.BASE_URL=\"https://plot.ly\";Plotly.newPlot(\"3b52ecd4-f723-4a81-baf2-484026a2bb79\", [{\"z\": [[2.0, 0.0], [0.0, -2.0]], \"y\": [[-1.0, -1.0], [1.0, 1.0]], \"type\": \"surface\", \"x\": [[-1.0, 1.0], [-1.0, 1.0]]}, {\"z\": [[0.0, -2.0], [2.0, 0.0]], \"y\": [[-1.0, -1.0], [1.0, 1.0]], \"type\": \"surface\", \"x\": [[-1.0, 1.0], [-1.0, 1.0]]}, {\"z\": [[-1.0, -1.0], [1.0, 1.0]], \"y\": [[-0.5000000000000001, 1.5], [-0.5000000000000001, 1.5]], \"type\": \"surface\", \"x\": [[-1.0, 1.0], [-1.0, 1.0]]}, {\"line\": {\"width\": 10, \"color\": \"rgb(205, 12, 24)\"}, \"type\": \"scatter3d\", \"y\": [0.0, 0.0], \"z\": [0.0, -0.7071067811865475], \"mode\": \"lines\", \"x\": [0.0, 0.7071067811865475]}, {\"line\": {\"width\": 10, \"color\": \"rgb(205, 12, 24)\"}, \"type\": \"scatter3d\", \"y\": [0.24999999999999994, -0.45710678118654763], \"z\": [0.4999999999999999, 0.4999999999999999], \"mode\": \"lines\", \"x\": [-0.25, -0.9571067811865476]}], {\"showlegend\": false, \"plot_bgcolor\": \"rgb(255, 255, 255)\", \"height\": 400, \"font\": {\"family\": \"Verdana\"}, \"scene\": {\"yaxis\": {\"autorange\": false, \"zeroline\": false, \"range\": [-1, 1]}, \"xaxis\": {\"autorange\": false, \"zeroline\": false, \"range\": [-1, 1]}, \"aspectmode\": \"cube\", \"camera\": {\"eye\": {\"z\": 1, \"y\": 1, \"x\": 1}, \"center\": {\"z\": 0, \"y\": 0, \"x\": 0}}, \"zaxis\": {\"autorange\": false, \"zeroline\": false, \"range\": [-1, 1]}}, \"width\": 400}, {\"showLink\": true, \"linkText\": \"Export to plot.ly\"})});</script>"
      ],
      "text/vnd.plotly.v1+html": [
       "<div id=\"3b52ecd4-f723-4a81-baf2-484026a2bb79\" style=\"height: 400px; width: 400px;\" class=\"plotly-graph-div\"></div><script type=\"text/javascript\">require([\"plotly\"], function(Plotly) { window.PLOTLYENV=window.PLOTLYENV || {};window.PLOTLYENV.BASE_URL=\"https://plot.ly\";Plotly.newPlot(\"3b52ecd4-f723-4a81-baf2-484026a2bb79\", [{\"z\": [[2.0, 0.0], [0.0, -2.0]], \"y\": [[-1.0, -1.0], [1.0, 1.0]], \"type\": \"surface\", \"x\": [[-1.0, 1.0], [-1.0, 1.0]]}, {\"z\": [[0.0, -2.0], [2.0, 0.0]], \"y\": [[-1.0, -1.0], [1.0, 1.0]], \"type\": \"surface\", \"x\": [[-1.0, 1.0], [-1.0, 1.0]]}, {\"z\": [[-1.0, -1.0], [1.0, 1.0]], \"y\": [[-0.5000000000000001, 1.5], [-0.5000000000000001, 1.5]], \"type\": \"surface\", \"x\": [[-1.0, 1.0], [-1.0, 1.0]]}, {\"line\": {\"width\": 10, \"color\": \"rgb(205, 12, 24)\"}, \"type\": \"scatter3d\", \"y\": [0.0, 0.0], \"z\": [0.0, -0.7071067811865475], \"mode\": \"lines\", \"x\": [0.0, 0.7071067811865475]}, {\"line\": {\"width\": 10, \"color\": \"rgb(205, 12, 24)\"}, \"type\": \"scatter3d\", \"y\": [0.24999999999999994, -0.45710678118654763], \"z\": [0.4999999999999999, 0.4999999999999999], \"mode\": \"lines\", \"x\": [-0.25, -0.9571067811865476]}], {\"showlegend\": false, \"plot_bgcolor\": \"rgb(255, 255, 255)\", \"height\": 400, \"font\": {\"family\": \"Verdana\"}, \"scene\": {\"yaxis\": {\"autorange\": false, \"zeroline\": false, \"range\": [-1, 1]}, \"xaxis\": {\"autorange\": false, \"zeroline\": false, \"range\": [-1, 1]}, \"aspectmode\": \"cube\", \"camera\": {\"eye\": {\"z\": 1, \"y\": 1, \"x\": 1}, \"center\": {\"z\": 0, \"y\": 0, \"x\": 0}}, \"zaxis\": {\"autorange\": false, \"zeroline\": false, \"range\": [-1, 1]}}, \"width\": 400}, {\"showLink\": true, \"linkText\": \"Export to plot.ly\"})});</script>"
      ]
     },
     "metadata": {},
     "output_type": "display_data"
    }
   ],
   "source": [
    "plane1 = Plane([1,1,1],[0,0,0])\n",
    "plane2 = Plane([1,-1,1],[0,0,0])\n",
    "plane3 = Plane([-1,1,0],[0,0.5,0])\n",
    "line1 = intersection(plane1,plane2)\n",
    "line2 = intersection(plane2,plane3)\n",
    "objs = [plane1, plane2, plane3, line1, line2]\n",
    "data = [obj.goify() for obj in objs]\n",
    "fig=go.Figure(data=data,layout=layout)\n",
    "py.iplot(fig)"
   ]
  },
  {
   "cell_type": "code",
   "execution_count": 16,
   "metadata": {},
   "outputs": [
    {
     "ename": "ArithmeticError",
     "evalue": "Plane and line are parallel.",
     "output_type": "error",
     "traceback": [
      "\u001b[0;31m---------------------------------------------------------------------------\u001b[0m",
      "\u001b[0;31mArithmeticError\u001b[0m                           Traceback (most recent call last)",
      "\u001b[0;32m<ipython-input-16-4a547a988637>\u001b[0m in \u001b[0;36m<module>\u001b[0;34m()\u001b[0m\n\u001b[1;32m      2\u001b[0m     \u001b[0mplane\u001b[0m \u001b[0;34m=\u001b[0m \u001b[0mPlane\u001b[0m\u001b[0;34m(\u001b[0m\u001b[0;34m[\u001b[0m\u001b[0;36m1\u001b[0m\u001b[0;34m,\u001b[0m\u001b[0;36m0\u001b[0m\u001b[0;34m,\u001b[0m\u001b[0;36m0\u001b[0m\u001b[0;34m]\u001b[0m\u001b[0;34m,\u001b[0m\u001b[0;34m[\u001b[0m\u001b[0;36m0\u001b[0m\u001b[0;34m,\u001b[0m\u001b[0;36m0.5\u001b[0m\u001b[0;34m,\u001b[0m\u001b[0;36m0\u001b[0m\u001b[0;34m]\u001b[0m\u001b[0;34m)\u001b[0m\u001b[0;34m\u001b[0m\u001b[0m\n\u001b[1;32m      3\u001b[0m     \u001b[0mline\u001b[0m \u001b[0;34m=\u001b[0m \u001b[0mLine\u001b[0m\u001b[0;34m(\u001b[0m\u001b[0;34m[\u001b[0m\u001b[0;36m0\u001b[0m\u001b[0;34m,\u001b[0m\u001b[0;36m1\u001b[0m\u001b[0;34m,\u001b[0m\u001b[0;36m1\u001b[0m\u001b[0;34m]\u001b[0m\u001b[0;34m,\u001b[0m\u001b[0;34m[\u001b[0m\u001b[0;34m-\u001b[0m\u001b[0;36m.5\u001b[0m\u001b[0;34m,\u001b[0m\u001b[0;36m0\u001b[0m\u001b[0;34m,\u001b[0m\u001b[0;36m0.5\u001b[0m\u001b[0;34m]\u001b[0m\u001b[0;34m)\u001b[0m\u001b[0;34m\u001b[0m\u001b[0m\n\u001b[0;32m----> 4\u001b[0;31m     \u001b[0mintersec\u001b[0m \u001b[0;34m=\u001b[0m \u001b[0mintersection\u001b[0m\u001b[0;34m(\u001b[0m\u001b[0mplane\u001b[0m\u001b[0;34m,\u001b[0m\u001b[0mline\u001b[0m\u001b[0;34m)\u001b[0m\u001b[0;34m\u001b[0m\u001b[0m\n\u001b[0m\u001b[1;32m      5\u001b[0m     \u001b[0mfig\u001b[0m\u001b[0;34m=\u001b[0m\u001b[0mgo\u001b[0m\u001b[0;34m.\u001b[0m\u001b[0mFigure\u001b[0m\u001b[0;34m(\u001b[0m\u001b[0mdata\u001b[0m\u001b[0;34m=\u001b[0m\u001b[0;34m[\u001b[0m\u001b[0mplane\u001b[0m\u001b[0;34m.\u001b[0m\u001b[0mgoify\u001b[0m\u001b[0;34m(\u001b[0m\u001b[0;34m)\u001b[0m\u001b[0;34m,\u001b[0m\u001b[0mline\u001b[0m\u001b[0;34m.\u001b[0m\u001b[0mgoify\u001b[0m\u001b[0;34m(\u001b[0m\u001b[0;34m)\u001b[0m\u001b[0;34m,\u001b[0m\u001b[0mintersec\u001b[0m\u001b[0;34m.\u001b[0m\u001b[0mgoify\u001b[0m\u001b[0;34m(\u001b[0m\u001b[0;34m)\u001b[0m\u001b[0;34m]\u001b[0m\u001b[0;34m,\u001b[0m\u001b[0mlayout\u001b[0m\u001b[0;34m=\u001b[0m\u001b[0mlayout\u001b[0m\u001b[0;34m)\u001b[0m\u001b[0;34m\u001b[0m\u001b[0m\n\u001b[1;32m      6\u001b[0m     \u001b[0mpy\u001b[0m\u001b[0;34m.\u001b[0m\u001b[0miplot\u001b[0m\u001b[0;34m(\u001b[0m\u001b[0mfig\u001b[0m\u001b[0;34m)\u001b[0m\u001b[0;34m\u001b[0m\u001b[0m\n",
      "\u001b[0;32m<ipython-input-14-dfc34c4021bf>\u001b[0m in \u001b[0;36mintersection\u001b[0;34m(obj1, obj2)\u001b[0m\n\u001b[1;32m     11\u001b[0m     \u001b[0;31m#plane-line\u001b[0m\u001b[0;34m\u001b[0m\u001b[0;34m\u001b[0m\u001b[0m\n\u001b[1;32m     12\u001b[0m     \u001b[0;32melif\u001b[0m \u001b[0misinstance\u001b[0m\u001b[0;34m(\u001b[0m\u001b[0mobj1\u001b[0m\u001b[0;34m,\u001b[0m\u001b[0mPlane\u001b[0m\u001b[0;34m)\u001b[0m \u001b[0;32mand\u001b[0m \u001b[0misinstance\u001b[0m\u001b[0;34m(\u001b[0m\u001b[0mobj2\u001b[0m\u001b[0;34m,\u001b[0m\u001b[0mLine\u001b[0m\u001b[0;34m)\u001b[0m\u001b[0;34m:\u001b[0m\u001b[0;34m\u001b[0m\u001b[0m\n\u001b[0;32m---> 13\u001b[0;31m         \u001b[0;32mreturn\u001b[0m \u001b[0m_plane_line_intersection\u001b[0m\u001b[0;34m(\u001b[0m\u001b[0mobj1\u001b[0m\u001b[0;34m,\u001b[0m\u001b[0mobj2\u001b[0m\u001b[0;34m)\u001b[0m\u001b[0;34m\u001b[0m\u001b[0m\n\u001b[0m\u001b[1;32m     14\u001b[0m     \u001b[0;32melif\u001b[0m \u001b[0misinstance\u001b[0m\u001b[0;34m(\u001b[0m\u001b[0mobj1\u001b[0m\u001b[0;34m,\u001b[0m\u001b[0mLine\u001b[0m\u001b[0;34m)\u001b[0m \u001b[0;32mand\u001b[0m \u001b[0misinstance\u001b[0m\u001b[0;34m(\u001b[0m\u001b[0mobj2\u001b[0m\u001b[0;34m,\u001b[0m\u001b[0mPlane\u001b[0m\u001b[0;34m)\u001b[0m\u001b[0;34m:\u001b[0m\u001b[0;34m\u001b[0m\u001b[0m\n\u001b[1;32m     15\u001b[0m         \u001b[0;32mreturn\u001b[0m \u001b[0m_plane_line_intersection\u001b[0m\u001b[0;34m(\u001b[0m\u001b[0mobj2\u001b[0m\u001b[0;34m,\u001b[0m\u001b[0mobj1\u001b[0m\u001b[0;34m)\u001b[0m\u001b[0;34m\u001b[0m\u001b[0m\n",
      "\u001b[0;32m<ipython-input-14-dfc34c4021bf>\u001b[0m in \u001b[0;36m_plane_line_intersection\u001b[0;34m(plane, line)\u001b[0m\n\u001b[1;32m     79\u001b[0m     \u001b[0;32mif\u001b[0m \u001b[0mnp\u001b[0m\u001b[0;34m.\u001b[0m\u001b[0mall\u001b[0m\u001b[0;34m(\u001b[0m\u001b[0mcheck\u001b[0m\u001b[0;34m==\u001b[0m\u001b[0;36m0\u001b[0m\u001b[0;34m)\u001b[0m\u001b[0;34m:\u001b[0m\u001b[0;34m\u001b[0m\u001b[0m\n\u001b[1;32m     80\u001b[0m         \u001b[0;31m#plane and line are parallel or overlap\u001b[0m\u001b[0;34m\u001b[0m\u001b[0;34m\u001b[0m\u001b[0m\n\u001b[0;32m---> 81\u001b[0;31m         \u001b[0;32mraise\u001b[0m \u001b[0mArithmeticError\u001b[0m\u001b[0;34m(\u001b[0m\u001b[0;34m\"Plane and line are parallel.\"\u001b[0m\u001b[0;34m)\u001b[0m\u001b[0;34m\u001b[0m\u001b[0m\n\u001b[0m\u001b[1;32m     82\u001b[0m     \u001b[0;32melse\u001b[0m\u001b[0;34m:\u001b[0m\u001b[0;34m\u001b[0m\u001b[0m\n\u001b[1;32m     83\u001b[0m         \u001b[0;31m#there is an explicit formula for parameter of the line for which intersection is met:\u001b[0m\u001b[0;34m\u001b[0m\u001b[0;34m\u001b[0m\u001b[0m\n",
      "\u001b[0;31mArithmeticError\u001b[0m: Plane and line are parallel."
     ]
    }
   ],
   "source": [
    "try:\n",
    "    plane = Plane([1,0,0],[0,0.5,0])\n",
    "    line = Line([0,1,1],[-.5,0,0.5])\n",
    "    intersec = intersection(plane,line)\n",
    "    fig=go.Figure(data=[plane.goify(),line.goify(),intersec.goify()],layout=layout)\n",
    "    py.iplot(fig)\n",
    "except:\n",
    "    raise"
   ]
  },
  {
   "cell_type": "code",
   "execution_count": null,
   "metadata": {},
   "outputs": [],
   "source": [
    "help(Point)\n",
    "help(_point_point_intersection)\n"
   ]
  },
  {
   "cell_type": "code",
   "execution_count": null,
   "metadata": {
    "collapsed": true
   },
   "outputs": [],
   "source": []
  }
 ],
 "metadata": {
  "kernelspec": {
   "display_name": "Python 3",
   "language": "python",
   "name": "python3"
  },
  "language_info": {
   "codemirror_mode": {
    "name": "ipython",
    "version": 3
   },
   "file_extension": ".py",
   "mimetype": "text/x-python",
   "name": "python",
   "nbconvert_exporter": "python",
   "pygments_lexer": "ipython3",
   "version": "3.5.2"
  }
 },
 "nbformat": 4,
 "nbformat_minor": 2
}
