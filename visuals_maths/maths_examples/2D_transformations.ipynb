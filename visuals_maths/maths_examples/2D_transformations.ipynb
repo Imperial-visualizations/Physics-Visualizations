{
 "cells": [
  {
   "cell_type": "code",
   "execution_count": null,
   "metadata": {},
   "outputs": [],
   "source": [
    "import numpy as np\n",
    "import math as ma \n",
    "import plotly.figure_factory as ff\n",
    "from plotly.offline import download_plotlyjs,init_notebook_mode,plot,iplot\n",
    "import plotly.graph_objs as go\n",
    "init_notebook_mode(connected=True)\n",
    "from ipywidgets import interact, interactive, fixed, interact_manual\n",
    "import ipywidgets as widgets\n",
    "import json"
   ]
  },
  {
   "cell_type": "code",
   "execution_count": null,
   "metadata": {
    "collapsed": true
   },
   "outputs": [],
   "source": [
    "# Rotation matrix\n",
    "def rotmat(th):\n",
    "    rotator = np.array([[ma.cos(th), -ma.sin(th)],[ma.sin(th), ma.cos(th)]])\n",
    "    return rotator\n",
    "\n",
    "# print(rotmat(1))"
   ]
  },
  {
   "cell_type": "code",
   "execution_count": null,
   "metadata": {
    "collapsed": true
   },
   "outputs": [],
   "source": [
    "def rotation(th,vec):\n",
    "    # Parameters \n",
    "    t = np.linspace(0,1,50)\n",
    "    tt = th*t\n",
    "    # Rotation matrix\n",
    "    BigR = np.identity(2)\n",
    "    for i in range(len(tt)-1):\n",
    "        BigR = np.vstack((BigR,rotmat(tt[i+1])))\n",
    "    newvec = np.matmul(BigR,vec)\n",
    "    x = newvec[::2]\n",
    "    y = newvec[1::2]\n",
    "    return (x,y)"
   ]
  },
  {
   "cell_type": "code",
   "execution_count": null,
   "metadata": {
    "scrolled": false
   },
   "outputs": [],
   "source": [
    "(x,y) = rotation(1,[1,0])\n",
    "x = list(x)\n",
    "y = list(y)\n",
    "\n",
    "data = [{\"x\": [x[i],0], \"y\": [y[i],0], \"frame\": i} for i in range(len(x))]\n",
    "data2 = {\"%s\" %i: {\"x\":[x[i],0],\"y\":[y[i],0]}for i in range(len(x))} \n",
    "print(data2)\n",
    "# Output JSON file:\n",
    "# with open(\"rotationtest.json\", 'w') as test_file:\n",
    "#     json.dump(data, test_file, ensure_ascii=False)\n",
    "# Output JSON file:\n",
    "with open(\"rotationtest2.json\", 'w') as test_file2:\n",
    "    json.dump(data2, test_file2, ensure_ascii=False)"
   ]
  },
  {
   "cell_type": "code",
   "execution_count": null,
   "metadata": {
    "collapsed": true
   },
   "outputs": [],
   "source": [
    "# Input vector, scale 1, scale 2 as arguments\n",
    "def scale(vec,*args):\n",
    "    assert len(vec)==2, \"Please provide a 2D vector for the first argument\"\n",
    "    assert len(args)==1 or len(args)==2, \"Please provide 1 or 2 scale arguments\"\n",
    "    t = np.linspace(1,args[0],50)\n",
    "    # If only one scale argument given then scale in both directions by same amount\n",
    "    if len(args) == 1:\n",
    "        x = vec[0]*t\n",
    "        y = vec[1]*t\n",
    "        return(x,y)\n",
    "    # If two scale arguments given then scale individual directions\n",
    "    else:\n",
    "        s = np.linspace(1,args[1],50)\n",
    "        x = vec[0]*t\n",
    "        y = vec[1]*s\n",
    "        return(x,y)\n",
    "\n",
    "(x2,y2) = scale([1,1],2,3)\n",
    "x2 = list(x2)\n",
    "y2 = list(y2)\n",
    "\n",
    "data2 = [{\"x\": [x2[i],0], \"y\": [y2[i],0], \"frame\": i} for i in range(len(x))]\n",
    "# Update JSON file:\n",
    "# with open(\"scaletest.json\", 'w') as test_file2:\n",
    "#     json.dump(data2, test_file2, ensure_ascii=False)"
   ]
  },
  {
   "cell_type": "code",
   "execution_count": null,
   "metadata": {},
   "outputs": [],
   "source": [
    "# Custom 2D transformation\n",
    "def custom(vec):\n",
    "    print(\"Enter values for 2x2 matrix [[a,b],[c,d]] \")\n",
    "    a = input(\"Enter a value for a: \")\n",
    "    b = input(\"Enter a value for b: \")\n",
    "    c = input(\"Enter a value for c: \")\n",
    "    d = input(\"Enter a value for d: \")\n",
    "    try:\n",
    "        a = float(a)\n",
    "    except ValueError:\n",
    "        print(\"Enter a float or integer for a\")\n",
    "    try:\n",
    "        b = float(b)\n",
    "    except ValueError:\n",
    "        print(\"Enter a float or integer for b\")\n",
    "    try:\n",
    "        c = float(c)\n",
    "    except ValueError:\n",
    "        print(\"Enter a float or integer for c\")\n",
    "    try:\n",
    "        d = float(d)\n",
    "    except ValueError:\n",
    "        print(\"Enter a float or integer for d\")\n",
    "    \n",
    "    A = [[a,b],[c,d]]\n",
    "    t = np.linspace(0,1,50)\n",
    "    w = np.matmul(A,vec)-vec\n",
    "    x = [vec[0]+tt*w[0] for tt in t]\n",
    "    y = [vec[0]+tt*w[1] for tt in t]\n",
    "    \n",
    "    return(x,y)\n",
    "    \n",
    "(x,y) = custom([1,1])\n",
    "print((x,y))"
   ]
  },
  {
   "cell_type": "code",
   "execution_count": null,
   "metadata": {
    "collapsed": true
   },
   "outputs": [],
   "source": [
    ""
   ]
  }
 ],
 "metadata": {
  "kernelspec": {
   "display_name": "Python 3",
   "language": "python",
   "name": "python3"
  },
  "language_info": {
   "codemirror_mode": {
    "name": "ipython",
    "version": 3.0
   },
   "file_extension": ".py",
   "mimetype": "text/x-python",
   "name": "python",
   "nbconvert_exporter": "python",
   "pygments_lexer": "ipython3",
   "version": "3.6.2"
  }
 },
 "nbformat": 4,
 "nbformat_minor": 0
}