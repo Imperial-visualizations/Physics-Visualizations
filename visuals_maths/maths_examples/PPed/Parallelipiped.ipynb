{
 "cells": [
  {
   "cell_type": "code",
   "execution_count": null,
   "metadata": {},
   "outputs": [],
   "source": [
    "import numpy as np\n",
    "from plotly.offline import download_plotlyjs,init_notebook_mode,plot,iplot\n",
    "import plotly.graph_objs as go\n",
    "init_notebook_mode(connected=True)"
   ]
  },
  {
   "cell_type": "code",
   "execution_count": null,
   "metadata": {
    "collapsed": true
   },
   "outputs": [],
   "source": [
    "class Parallelipiped(object): \n",
    "    # Initialize a parallelipiped object by giving it 3 vector arguments\n",
    "    def __init__(self,u,v,w):\n",
    "        self.u = np.array(u)\n",
    "        self.v = np.array(v)\n",
    "        self.w = np.array(w)\n",
    "    # Calculates the volume of a parallelipiped        \n",
    "    def volume(self):\n",
    "        crossp = np.cross(self.v,self.w)\n",
    "        tp = np.dot(self.u,crossp)\n",
    "        return abs(tp)\n",
    "    def gopped(self):\n",
    "        x = [0,self.u[0],self.u[0]+self.v[0],self.v[0],self.w[0],self.w[0]+self.u[0],self.w[0]+self.u[0]+self.v[0],\\\n",
    "             self.v[0]+self.w[0]]\n",
    "        y = [0,self.u[1],self.u[1]+self.v[1],self.v[1],self.w[1],self.w[1]+self.u[1],self.w[1]+self.u[1]+self.v[1],\\\n",
    "             self.v[1]+self.w[1]]\n",
    "        z = [0,self.u[2],self.u[2]+self.v[2],self.v[2],self.w[2],self.w[2]+self.u[2],self.w[2]+self.u[2]+self.v[2],\\\n",
    "             self.v[2]+self.w[2]]\n",
    "        pped = go.Data([go.Mesh3d(x=x,y=y,z=z,\n",
    "            i = [0, 0, 3, 4, 4, 4, 4, 4, 5, 6, 6, 7],\n",
    "            j = [2, 3, 4, 3, 6, 7, 1, 5, 2, 2, 7, 3],\n",
    "            k = [1, 2, 0, 7, 5, 6, 0, 1, 1, 5, 2, 2],)\n",
    "            ])\n",
    "        return pped\n",
    "    # Method which finds a suitable layout for the pped when plotted\n",
    "    def lytpped(self):\n",
    "        if self.volume()==0:\n",
    "            return ValueError(\"Vectors must not be coplanar\")\n",
    "        else:\n",
    "            ubx = sum([abs(self.u[0]),abs(self.v[0]),abs(self.w[0])])\n",
    "            uby = sum([abs(self.u[1]),abs(self.v[1]),abs(self.w[1])])\n",
    "            ubz = sum([abs(self.u[2]),abs(self.v[2]),abs(self.w[2])])\n",
    "            layout = go.Layout(\n",
    "                scene = dict(xaxis=dict(\n",
    "                    title='x', range=[-ubx,ubx]\n",
    "                ),\n",
    "                yaxis=dict(\n",
    "                    title='y',range=[-uby,uby]\n",
    "                ),\n",
    "                zaxis = dict(\n",
    "                    title='z',range=[-ubz,ubz])\n",
    "                )             \n",
    "            )\n",
    "            return layout"
   ]
  },
  {
   "cell_type": "code",
   "execution_count": null,
   "metadata": {
    "scrolled": false
   },
   "outputs": [],
   "source": [
    "# Example of how to use the Parallelipiped object\n",
    "# Initialize the object with 3 vectors\n",
    "my_pped = Parallelipiped([4.,0.,6.],[2.,-1.,1.],[4.,2.,3.])\n",
    "# Find the volume by calling the .volume() method on it \n",
    "print(my_pped.volume())\n",
    "# Find the Mesh3d data for the plot of the pped\n",
    "data = my_pped.gopped()\n",
    "# Find the Mesh3d layour for the plot of the pped\n",
    "layout = my_pped.lytpped()\n",
    "\n",
    "# Plot\n",
    "fig = go.Figure(data=data, layout=layout)\n",
    "py.iplot(fig, filename='parallelipiped')"
   ]
  },
  {
   "cell_type": "code",
   "execution_count": null,
   "metadata": {
    "collapsed": true
   },
   "outputs": [],
   "source": [
    ""
   ]
  },
  {
   "cell_type": "code",
   "execution_count": null,
   "metadata": {
    "collapsed": true
   },
   "outputs": [],
   "source": [
    ""
   ]
  }
 ],
 "metadata": {
  "kernelspec": {
   "display_name": "Python 3",
   "language": "python",
   "name": "python3"
  },
  "language_info": {
   "codemirror_mode": {
    "name": "ipython",
    "version": 3.0
   },
   "file_extension": ".py",
   "mimetype": "text/x-python",
   "name": "python",
   "nbconvert_exporter": "python",
   "pygments_lexer": "ipython3",
   "version": "3.6.2"
  }
 },
 "nbformat": 4,
 "nbformat_minor": 0
}