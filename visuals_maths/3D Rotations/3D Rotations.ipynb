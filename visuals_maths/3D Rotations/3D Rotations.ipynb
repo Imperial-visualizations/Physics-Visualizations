{
 "cells": [
  {
   "cell_type": "markdown",
   "metadata": {},
   "source": [
    "# 3D Transformations"
   ]
  },
  {
   "cell_type": "markdown",
   "metadata": {},
   "source": [
    "## Packages:"
   ]
  },
  {
   "cell_type": "code",
   "execution_count": 1,
   "metadata": {},
   "outputs": [
    {
     "data": {
      "text/html": [
       "<script>requirejs.config({paths: { 'plotly': ['https://cdn.plot.ly/plotly-latest.min']},});if(!window.Plotly) {{require(['plotly'],function(plotly) {window.Plotly=plotly;});}}</script>"
      ],
      "text/vnd.plotly.v1+html": [
       "<script>requirejs.config({paths: { 'plotly': ['https://cdn.plot.ly/plotly-latest.min']},});if(!window.Plotly) {{require(['plotly'],function(plotly) {window.Plotly=plotly;});}}</script>"
      ]
     },
     "metadata": {},
     "output_type": "display_data"
    }
   ],
   "source": [
    "import plotly.offline as py\n",
    "import plotly.graph_objs as go\n",
    "py.init_notebook_mode(connected=True)\n",
    "import numpy as np\n",
    "import ipywidgets as widgets\n",
    "import json"
   ]
  },
  {
   "cell_type": "markdown",
   "metadata": {},
   "source": [
    "## Utilities:"
   ]
  },
  {
   "cell_type": "code",
   "execution_count": 2,
   "metadata": {
    "collapsed": true,
    "scrolled": true
   },
   "outputs": [],
   "source": [
    "def mesh2D(xlim, ylim, n=5): #Set up Meshgrid\n",
    "    if isinstance(n, int):\n",
    "        x = np.linspace(xlim[0],xlim[1],n)\n",
    "        y = np.linspace(ylim[0],ylim[1],n)\n",
    "    elif isinstance(n, list):\n",
    "        x = np.linspace(xlim[0],xlim[1],n[0])\n",
    "        y = np.linspace(ylim[0],ylim[1],n[1])\n",
    "    else:\n",
    "        raise Exception(\"Invalid Parameter\")\n",
    "        \n",
    "    return np.meshgrid(x, y, sparse=True)"
   ]
  },
  {
   "cell_type": "code",
   "execution_count": 3,
   "metadata": {
    "collapsed": true
   },
   "outputs": [],
   "source": [
    "def addOpacity(string, intensity=\"0.5\"):\n",
    "    strList = list(string)\n",
    "    strList.pop()\n",
    "    string = \"\".join(strList) + \",\" + intensity +\")\"\n",
    "    return string"
   ]
  },
  {
   "cell_type": "markdown",
   "metadata": {},
   "source": [
    "## Objects:"
   ]
  },
  {
   "cell_type": "code",
   "execution_count": 4,
   "metadata": {
    "collapsed": true
   },
   "outputs": [],
   "source": [
    "class Line: \n",
    "    def __init__(self, pointList):\n",
    "        self.x = []\n",
    "        self.y = []\n",
    "        self.z = []\n",
    "        \n",
    "        for i in range(len(pointList)):\n",
    "            self.x.append(pointList[i][0])\n",
    "            self.y.append(pointList[i][1])\n",
    "            self.z.append(pointList[i][2])\n",
    "        \n",
    "    def gObject(self, color=\"rgb(210,64,0)\"):\n",
    "        lineObject = go.Scatter3d(mode=\"lines\",\n",
    "                                  x=self.x,\n",
    "                                  y=self.y,\n",
    "                                  z=self.z,\n",
    "                                  line=dict(color=(color),\n",
    "                                            width=7)\n",
    "                                 )\n",
    "        return lineObject"
   ]
  },
  {
   "cell_type": "code",
   "execution_count": 5,
   "metadata": {
    "collapsed": true
   },
   "outputs": [],
   "source": [
    "class Sphere:\n",
    "    def __init__(self, radius=5, center=[0, 0, 0]):\n",
    "        self.radius = radius\n",
    "        self.center = center\n",
    "        meshSize = 20\n",
    "        theta = np.linspace(0,2*np.pi,meshSize)\n",
    "        phi = np.linspace(0,np.pi,meshSize)\n",
    "        self.x = radius*np.outer(np.cos(theta),np.sin(phi)) + center[0]\n",
    "        self.y = radius*np.outer(np.sin(theta),np.sin(phi)) + center[1]\n",
    "        self.z = radius*np.outer(np.ones(meshSize),np.cos(phi)) + center[2]\n",
    "        \n",
    "    def gObject(self, color=[[0.0, \"rgb(0,62,116)\"], [1.0, \"rgb(255,255,255)\"]]):\n",
    "        sphere = go.Surface(x=self.x.tolist(),\n",
    "                            y=self.y.tolist(),\n",
    "                            z=self.z.tolist(),\n",
    "                            showscale=False,\n",
    "                            opacity=0.7,\n",
    "                            colorscale=color\n",
    "                           )       \n",
    "        return sphere"
   ]
  },
  {
   "cell_type": "code",
   "execution_count": 6,
   "metadata": {
    "collapsed": true
   },
   "outputs": [],
   "source": [
    "class Point:\n",
    "    def __init__(self, position):\n",
    "        self.position = np.array(position)\n",
    "    \n",
    "    def gObject(self, color=\"rgb(0,62,116)\"):\n",
    "        point = go.Scatter3d(mode=\"markers\",\n",
    "                             x=[self.position[0]],\n",
    "                             y=[self.position[1]],\n",
    "                             z=[self.position[2]],\n",
    "                             marker=dict(color=color,\n",
    "                                         size=7\n",
    "                                        )\n",
    "                            )\n",
    "        return point"
   ]
  },
  {
   "cell_type": "markdown",
   "metadata": {},
   "source": [
    "Orange: \"rgb(210,64,0)\"<br>\n",
    "Dark Green: \"rgb(2,137,59)\"<br>\n",
    "Imperial Blue: \"rgb(0,62,116)\"<br>\n",
    "Pool Blue: \"rgb(2,161,205)\"<br>"
   ]
  },
  {
   "cell_type": "markdown",
   "metadata": {},
   "source": [
    "## 3D Visualization\n",
    "\n",
    "### Unit Vectors and a Sphere"
   ]
  },
  {
   "cell_type": "markdown",
   "metadata": {},
   "source": [
    "### Frames"
   ]
  },
  {
   "cell_type": "code",
   "execution_count": 7,
   "metadata": {
    "collapsed": true
   },
   "outputs": [],
   "source": [
    "theta1 = np.pi/2\n",
    "t = np.linspace(0, theta1, 10)\n",
    "initialPosition = np.matrix([[2], [2], [2]])"
   ]
  },
  {
   "cell_type": "code",
   "execution_count": 8,
   "metadata": {
    "collapsed": true
   },
   "outputs": [],
   "source": [
    "def roXaxis(theta):\n",
    "    M = np.matrix([[1, 0, 0],\n",
    "                   [0, np.cos(theta), -np.sin(theta)], \n",
    "                   [0, np.sin(theta), np.cos(theta)]\n",
    "                  ])\n",
    "    return M\n",
    "\n",
    "def roYaxis(theta):\n",
    "    M = np.matrix([[np.cos(theta), 0, np.sin(theta)],\n",
    "                   [0, 1, 0],\n",
    "                   [-np.sin(theta), 0, np.cos(theta)]\n",
    "                  ])\n",
    "    return M\n",
    "\n",
    "def roZaxis(theta):\n",
    "    M = np.matrix([[np.cos(theta), -np.sin(theta), 0],\n",
    "                   [np.sin(theta), np.cos(theta), 0],\n",
    "                   [0, 0 ,1]\n",
    "                  ])\n",
    "    return M"
   ]
  },
  {
   "cell_type": "code",
   "execution_count": 9,
   "metadata": {
    "collapsed": true
   },
   "outputs": [],
   "source": [
    "def computeFrames(rotation, theta, point, frames):\n",
    "    vecPoint = np.matrix([[point[0]],\n",
    "                          [point[1]],\n",
    "                          [point[2]]\n",
    "                         ])\n",
    "    t = np.linspace(0, theta, frames)\n",
    "    \n",
    "    lineList = [point]\n",
    "    output = []\n",
    "    for i in t:\n",
    "        newPoint = rotation(i)*vecPoint\n",
    "        ptList = np.reshape(newPoint,(1,3)).tolist()[0]\n",
    "        lineList.append(ptList)\n",
    "        output.append([Point(ptList).gObject(), Line(lineList).gObject(\"rgb(210,64,0)\")])\n",
    "    return [output, ptList]"
   ]
  },
  {
   "cell_type": "code",
   "execution_count": 10,
   "metadata": {
    "collapsed": true
   },
   "outputs": [],
   "source": [
    "def computeCompositeFrames(rotation1,rotation2, theta, point, frames, color1=\"rgb(210,64,0)\", color2=\"rgb(210,64,0)\"):\n",
    "    vecPoint = np.matrix([[point[0]],\n",
    "                          [point[1]],\n",
    "                          [point[2]]\n",
    "                         ])\n",
    "    t = np.linspace(0, theta, frames)\n",
    "    \n",
    "    lineList = [point]\n",
    "    output = []\n",
    "    for i in t:\n",
    "        newPoint = rotation1(i)*vecPoint\n",
    "        ptList = np.reshape(newPoint,(1,3)).tolist()[0]\n",
    "        lineList.append(ptList)\n",
    "        output.append([Point(ptList).gObject(),\n",
    "                       Line(lineList).gObject(color1),\n",
    "                       Line([[0., 0., 0.], [0., 0., 0.]]).gObject()\n",
    "                      ])\n",
    "    lineList1 = [ptList]\n",
    "    for j in t[1:]:\n",
    "        newPoint2 = rotation2(j)*newPoint\n",
    "        ptList = np.reshape(newPoint2,(1,3)).tolist()[0]\n",
    "        lineList1.append(ptList)\n",
    "        output.append([Point(ptList).gObject(),\n",
    "                       Line(lineList1).gObject(color2),\n",
    "                       Line(lineList).gObject(addOpacity(color1, \"0.7\"))\n",
    "                      ])\n",
    "        \n",
    "    return output"
   ]
  },
  {
   "cell_type": "code",
   "execution_count": null,
   "metadata": {},
   "outputs": [],
   "source": [
    "data = []\n",
    "for i in range(8):\n",
    "    line = Line([[0., 0., 0.], [0., 0., 0.]]) #Add dummy lines for transformations\n",
    "    data.append(line.gObject(\"rgb(0,0,0)\"))\n",
    "        \n",
    "radius = 2*np.sqrt(3)\n",
    "sphere = Sphere(radius)\n",
    "data.append(sphere.gObject())\n",
    "    \n",
    "initialPoint = [2., 2., 2.]\n",
    "    \n",
    "data.append(Point(initialPoint).gObject(\"rgb(0,0,0)\"))\n",
    "\n",
    "for i in range(3):\n",
    "    uvec = [0., 0., 0.]\n",
    "    uvec[i] = 1\n",
    "    line = Line([[0., 0., 0.], uvec])\n",
    "    data.append(line.gObject(\"rgb(0,0,0)\"))\n",
    "\n",
    "frames = []    \n",
    "frameSize = 20\n",
    "frameList1 = computeCompositeFrames(roYaxis,roZaxis,\n",
    "                                    np.pi/2,\n",
    "                                    initialPoint, \n",
    "                                    frameSize,\n",
    "                                    \"rgb(255,0,0)\",\n",
    "                                    \"rgb(0,0,255)\"\n",
    "                                   )\n",
    "frameList2 = computeCompositeFrames(roZaxis,roYaxis,\n",
    "                                    np.pi/2,\n",
    "                                    initialPoint, \n",
    "                                    frameSize,\n",
    "                                    \"rgb(0,0,255)\",\n",
    "                                    \"rgb(255,0,0)\"\n",
    "                                   )\n",
    "for i in range(len(frameList1)):\n",
    "    frames.append(dict(data=[frameList1[i][0],\n",
    "                             frameList1[i][1],\n",
    "                             frameList1[i][2],\n",
    "                             frameList2[i][0],\n",
    "                             frameList2[i][1],\n",
    "                             frameList2[i][2]\n",
    "                            ], \n",
    "                       name=\"frame %i\" %i\n",
    "                      )\n",
    "                 )"
   ]
  },
  {
   "cell_type": "code",
   "execution_count": 12,
   "metadata": {
    "collapsed": true,
    "scrolled": true
   },
   "outputs": [],
   "source": [
    "steps=[]\n",
    "for i in range(0,frameSize,1):\n",
    "    step = dict(label='R1',\n",
    "                method='animate',\n",
    "                args=[[\"frame %i\" %i],\n",
    "                      dict(mode=\"immediate\",\n",
    "                           transition=dict(duration=300\n",
    "                                          ),\n",
    "                           frame=dict(duration=300,\n",
    "                                      redraw=False\n",
    "                                     )\n",
    "                          )\n",
    "                     ]\n",
    "               )\n",
    "    steps.append(step)\n",
    "    \n",
    "for i in range(0,frameSize-1,1):\n",
    "    step = dict(label='R2',\n",
    "                method='animate',\n",
    "                args=[[\"frame %i\" %(i + frameSize)],\n",
    "                      dict(mode=\"immediate\",\n",
    "                           transition=dict(duration=300\n",
    "                                          ),\n",
    "                           frame=dict(duration=300,\n",
    "                                      redraw=False\n",
    "                                     )\n",
    "                          )\n",
    "                     ]\n",
    "               )\n",
    "    steps.append(step)\n",
    "\n",
    "sliders= [dict(\n",
    "    active=0,\n",
    "    pad={'t':2*frameSize},\n",
    "    steps=steps\n",
    ")]\n",
    "\n",
    "layout=dict(width=1000, height=500,\n",
    "            title='Non-Communativeness of 3D Rotations', \n",
    "            hovermode='closest',\n",
    "            updatemenus=[dict(x=-0.05,\n",
    "                              y=0.15,\n",
    "                              yanchor=\"top\",\n",
    "                              xanchor=\"right\",\n",
    "                              showactive=False,\n",
    "                              type=\"buttons\",\n",
    "                              pad={\"t\": 87, \"r\": 10},\n",
    "                              buttons=[dict(method=\"animate\",\n",
    "                                            args=[None,\n",
    "                                                  dict(fromcurrent=True,\n",
    "                                                       transition=dict(duration=50,\n",
    "                                                                       easing=\"quadratic-in-out\"\n",
    "                                                                      ),\n",
    "                                                       frame=dict(duration=50,\n",
    "                                                                  redraw=False\n",
    "                                                                 )\n",
    "                                                      )\n",
    "                                                 ],\n",
    "                                            label=\"Play\"\n",
    "                                           ),\n",
    "                                       dict(method=\"animate\",\n",
    "                                           args=[[None],\n",
    "                                                 dict(mode=\"immediate\",\n",
    "                                                      transition=dict(duration=0\n",
    "                                                                     ),\n",
    "                                                      frame=dict(duration=0,\n",
    "                                                                 redraw=False\n",
    "                                                                )\n",
    "                                                     )\n",
    "                                                ],\n",
    "                                            label=\"Pause\"\n",
    "                                           )\n",
    "                                      ]\n",
    "                             )\n",
    "                        ],\n",
    "            showlegend=False,#This can be used to isolate individual trace\n",
    "            sliders=sliders)\n",
    "figure = dict(data=data, frames=frames, layout=layout)\n",
    "#py.plot(figure)"
   ]
  },
  {
   "cell_type": "code",
   "execution_count": 13,
   "metadata": {
    "collapsed": true
   },
   "outputs": [],
   "source": [
    "import json\n",
    "with open(\"data_3d.json\", 'w') as test_file:\n",
    "    json.dump(figure, test_file, ensure_ascii=False)"
   ]
  }
 ],
 "metadata": {
  "kernelspec": {
   "display_name": "Python 3",
   "language": "python",
   "name": "python3"
  },
  "language_info": {
   "codemirror_mode": {
    "name": "ipython",
    "version": 3
   },
   "file_extension": ".py",
   "mimetype": "text/x-python",
   "name": "python",
   "nbconvert_exporter": "python",
   "pygments_lexer": "ipython3",
   "version": "3.6.2"
  }
 },
 "nbformat": 4,
 "nbformat_minor": 2
}
