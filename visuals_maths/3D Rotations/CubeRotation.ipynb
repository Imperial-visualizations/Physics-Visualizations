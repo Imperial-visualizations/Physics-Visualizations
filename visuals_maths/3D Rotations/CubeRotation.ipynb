{
 "cells": [
  {
   "cell_type": "code",
   "execution_count": 23,
   "metadata": {},
   "outputs": [
    {
     "data": {
      "text/html": [
       "<script>requirejs.config({paths: { 'plotly': ['https://cdn.plot.ly/plotly-latest.min']},});if(!window.Plotly) {{require(['plotly'],function(plotly) {window.Plotly=plotly;});}}</script>"
      ],
      "text/vnd.plotly.v1+html": [
       "<script>requirejs.config({paths: { 'plotly': ['https://cdn.plot.ly/plotly-latest.min']},});if(!window.Plotly) {{require(['plotly'],function(plotly) {window.Plotly=plotly;});}}</script>"
      ]
     },
     "metadata": {},
     "output_type": "display_data"
    }
   ],
   "source": [
    "import plotly\n",
    "import plotly.offline as py\n",
    "import plotly.graph_objs as go\n",
    "py.init_notebook_mode(connected=True)\n",
    "import numpy as np\n",
    "from plotly.graph_objs import Surface\n",
    "import json"
   ]
  },
  {
   "cell_type": "markdown",
   "metadata": {},
   "source": [
    "# Functions for Transformations"
   ]
  },
  {
   "cell_type": "code",
   "execution_count": 24,
   "metadata": {
    "collapsed": true
   },
   "outputs": [],
   "source": [
    "def rotXaxis(initPoint,theta):\n",
    "    M = np.matrix([[1, 0, 0],\n",
    "                   [0, np.cos(theta), -np.sin(theta)], \n",
    "                   [0, np.sin(theta), np.cos(theta)]\n",
    "                  ])\n",
    "    newPoint = M*initPoint\n",
    "    ptList = np.reshape(newPoint,(1,3)).tolist()[0]\n",
    "    xpoint = ptList[0] \n",
    "    ypoint = ptList[1] \n",
    "    zpoint = ptList[2] \n",
    "    return (xpoint, ypoint, zpoint)\n",
    "\n",
    "def rotYaxis(initPoint,theta):\n",
    "    M = np.matrix([[np.cos(theta), 0, np.sin(theta)],\n",
    "                   [0, 1, 0],\n",
    "                   [-np.sin(theta), 0, np.cos(theta)]\n",
    "                  ])\n",
    "    newPoint = M*initPoint\n",
    "    ptList = np.reshape(newPoint,(1,3)).tolist()[0]\n",
    "    xpoint = ptList[0] \n",
    "    ypoint = ptList[1] \n",
    "    zpoint = ptList[2] \n",
    "    return (xpoint, ypoint, zpoint)\n",
    "\n",
    "\n",
    "def rotZaxis(initPoint, theta):\n",
    "    M = np.matrix([[np.cos(theta), -np.sin(theta), 0],\n",
    "                   [np.sin(theta), np.cos(theta), 0],\n",
    "                   [0, 0 ,1]\n",
    "                  ])\n",
    "    newPoint = M*initPoint\n",
    "    ptList = np.reshape(newPoint,(1,3)).tolist()[0]\n",
    "    xpoint = ptList[0] \n",
    "    ypoint = ptList[1] \n",
    "    zpoint = ptList[2] \n",
    "    return (xpoint, ypoint, zpoint)\n",
    "\n",
    "\n",
    "def scale(initPoint, scale):\n",
    "    M = np.matrix([[scale, 0, 0],\n",
    "                   [0, scale, 0],\n",
    "                   [0, 0 ,scale]\n",
    "                  ])\n",
    "    newPoint = M*initPoint\n",
    "    ptList = np.reshape(newPoint,(1,3)).tolist()[0]\n",
    "    xpoint = ptList[0] \n",
    "    ypoint = ptList[1] \n",
    "    zpoint = ptList[2] \n",
    "    return (xpoint, ypoint, zpoint)\n",
    "\n",
    "def skewXaxis(initPoint, angle):\n",
    "    M = np.matrix([[1, np.tan(angle), 0],\n",
    "                   [0, 1, 0],\n",
    "                   [0, 0 ,1]\n",
    "                  ])\n",
    "    newPoint = M*initPoint\n",
    "    ptList = np.reshape(newPoint,(1,3)).tolist()[0]\n",
    "    xpoint = ptList[0] \n",
    "    ypoint = ptList[1] \n",
    "    zpoint = ptList[2] \n",
    "    return (xpoint, ypoint, zpoint)\n",
    "\n",
    "\n",
    "def skewYaxis(initPoint, angle):\n",
    "    M = np.matrix([[1, 0, 0],\n",
    "                   [np.tan(angle), 1, 0],\n",
    "                   [0, 0 ,1]\n",
    "                  ])\n",
    "    newPoint = M*initPoint\n",
    "    ptList = np.reshape(newPoint,(1,3)).tolist()[0]\n",
    "    xpoint = ptList[0] \n",
    "    ypoint = ptList[1] \n",
    "    zpoint = ptList[2] \n",
    "    return (xpoint, ypoint, zpoint)\n",
    "\n",
    "def skewZaxis(initPoint, angle):\n",
    "    M = np.matrix([[1, 0, 0],\n",
    "                   [0, 1, 0],\n",
    "                   [0, np.tan(angle) ,1]\n",
    "                  ])\n",
    "    newPoint = M*initPoint\n",
    "    ptList = np.reshape(newPoint,(1,3)).tolist()[0]\n",
    "    xpoint = ptList[0] \n",
    "    ypoint = ptList[1] \n",
    "    zpoint = ptList[2] \n",
    "    return (xpoint, ypoint, zpoint)\n",
    "     \n",
    "    \n"
   ]
  },
  {
   "cell_type": "markdown",
   "metadata": {},
   "source": [
    "# Initalizations"
   ]
  },
  {
   "cell_type": "code",
   "execution_count": 25,
   "metadata": {
    "collapsed": true
   },
   "outputs": [],
   "source": [
    "xx = [-1., -1., 1., 1., -1., -1., 1., 1.]\n",
    "yy = [-1., 1., 1., -1., -1., 1., 1., -1.]\n",
    "zz = [-1., -1., -1., -1., 1., 1., 1., 1.]\n",
    "data = []"
   ]
  },
  {
   "cell_type": "markdown",
   "metadata": {},
   "source": [
    "# Transformation 1"
   ]
  },
  {
   "cell_type": "code",
   "execution_count": 26,
   "metadata": {
    "collapsed": true
   },
   "outputs": [],
   "source": [
    "t = np.linspace(0,np.pi/2,10)\n",
    "for i in range(len(t)):\n",
    "    xrot1 = []\n",
    "    yrot1 = []\n",
    "    zrot1 = []\n",
    "    for j in range(8):\n",
    "        initPoint = np.matrix([[xx[j]],\n",
    "                            [yy[j]],\n",
    "                            [zz[j]]\n",
    "                            ])\n",
    "    \n",
    "        output = rotXaxis(initPoint, t[i])\n",
    "        xrot1.append(output[0])\n",
    "        yrot1.append(output[1])\n",
    "        zrot1.append(output[2])\n",
    "    cubeRotation = go.Mesh3d(\n",
    "        x = xrot1,\n",
    "        y = yrot1,\n",
    "        z = zrot1,\n",
    "        colorscale = [['0', 'rgb(255,255,255)'],['0.5','rgb(0,133,202) '], ['1', 'rgb(0,62,116)']],\n",
    "        intensity = [0, 0.142857142857143, 0.285714285714286, 0.428571428571429, 0.571428571428571, 0.714285714285714, 0.857142857142857, 1],\n",
    "        i = [7, 0, 0, 0, 4, 4, 6, 6, 4, 0, 3, 2],\n",
    "        j = [3, 4, 1, 2, 5, 6, 5, 2, 0, 1, 6, 3],\n",
    "        k = [0, 7, 2, 3, 6, 7, 1, 1, 5, 5, 7, 6],\n",
    "        name='y',\n",
    "        showscale=False\n",
    "        )\n",
    "    data.append(dict(cubeRotation, visible = False) )"
   ]
  },
  {
   "cell_type": "markdown",
   "metadata": {},
   "source": [
    "# Transformation 2 "
   ]
  },
  {
   "cell_type": "code",
   "execution_count": 27,
   "metadata": {
    "collapsed": true
   },
   "outputs": [],
   "source": [
    "s = np.linspace(0,np.pi/4,10)    \n",
    "for i in range(len(s)):\n",
    "    xrot2 = []\n",
    "    yrot2 = []\n",
    "    zrot2 = []\n",
    "    for j in range(8):\n",
    "        initPoint = np.matrix([[xrot1[j]],\n",
    "                            [yrot1[j]],\n",
    "                            [zrot1[j]]\n",
    "                            ])\n",
    "    \n",
    "        output = skewYaxis(initPoint, s[i])\n",
    "        xrot2.append(output[0])\n",
    "        yrot2.append(output[1])\n",
    "        zrot2.append(output[2])\n",
    "    cubeRotation = go.Mesh3d(\n",
    "        x = xrot2,\n",
    "        y = yrot2,\n",
    "        z = zrot2,\n",
    "        colorscale = [['0', 'rgb(255, 255, 255)'],['0.5','rgb(0,133,202) '], ['1', 'rgb(0,62,116)']],\n",
    "        intensity = [0, 0.142857142857143, 0.285714285714286, 0.428571428571429, 0.571428571428571, 0.714285714285714, 0.857142857142857, 1],\n",
    "        i = [7, 0, 0, 0, 4, 4, 6, 6, 4, 0, 3, 2],\n",
    "        j = [3, 4, 1, 2, 5, 6, 5, 2, 0, 1, 6, 3],\n",
    "        k = [0, 7, 2, 3, 6, 7, 1, 1, 5, 5, 7, 6],\n",
    "        name='y',\n",
    "        showscale=False\n",
    "        )\n",
    "    data.append(dict(cubeRotation, visible = False) )\n",
    "    "
   ]
  },
  {
   "cell_type": "markdown",
   "metadata": {},
   "source": [
    " # Transformation 3"
   ]
  },
  {
   "cell_type": "code",
   "execution_count": 28,
   "metadata": {
    "collapsed": true
   },
   "outputs": [],
   "source": [
    "u = np.linspace(1,2,10)    \n",
    "for i in range(len(s)):\n",
    "    xrot3 = []\n",
    "    yrot3 = []\n",
    "    zrot3 = []\n",
    "    for j in range(8):\n",
    "        initPoint = np.matrix([[xrot2[j]],\n",
    "                            [yrot2[j]],\n",
    "                            [zrot2[j]]\n",
    "                            ])\n",
    "    \n",
    "        output = scale(initPoint, u[i])\n",
    "        xrot3.append(output[0])\n",
    "        yrot3.append(output[1])\n",
    "        zrot3.append(output[2])\n",
    "    cubeRotation = go.Mesh3d(\n",
    "        x = xrot3,\n",
    "        y = yrot3,\n",
    "        z = zrot3,\n",
    "        colorscale = [['0', 'rgb(255,255,255)'],['0.5','rgb(0,133,202) '], ['1', 'rgb(0,62,116)']],\n",
    "        intensity = [0, 0.142857142857143, 0.285714285714286, 0.428571428571429, 0.571428571428571, 0.714285714285714, 0.857142857142857, 1],\n",
    "        i = [7, 0, 0, 0, 4, 4, 6, 6, 4, 0, 3, 2],\n",
    "        j = [3, 4, 1, 2, 5, 6, 5, 2, 0, 1, 6, 3],\n",
    "        k = [0, 7, 2, 3, 6, 7, 1, 1, 5, 5, 7, 6],\n",
    "        name='y',\n",
    "        showscale=False\n",
    "        )\n",
    "    data.append(dict(cubeRotation, visible = False) )\n",
    "\n"
   ]
  },
  {
   "cell_type": "markdown",
   "metadata": {},
   "source": [
    "# Sliders and Shizz"
   ]
  },
  {
   "cell_type": "code",
   "execution_count": 29,
   "metadata": {
    "scrolled": true
   },
   "outputs": [
    {
     "data": {
      "text/plain": [
       "'file:///Users/rohankamath/Desktop/UROP /Imperial-Visualizations/3D Rotations/temp-plot.html'"
      ]
     },
     "execution_count": 29,
     "metadata": {},
     "output_type": "execute_result"
    }
   ],
   "source": [
    "steps = []\n",
    "for i in range(len(data)):\n",
    "    step = dict(\n",
    "        method = 'restyle',\n",
    "        args = ['visible', [False] * len(data)],\n",
    "    )\n",
    "    step['args'][1][i] = True \n",
    "    steps.append(step)\n",
    "    \n",
    "sliders = [dict(\n",
    "    active = 10,\n",
    "    pad = {\"t\": 50},\n",
    "    steps = steps\n",
    ")]\n",
    "layout = dict(\n",
    "    sliders = sliders,\n",
    "    width=600,height=600,\n",
    "    title='3D Transformation',\n",
    "    font = dict(family=\"Comic Sans MS\"),\n",
    "    scene = dict(\n",
    "        xaxis = dict(range=[-5, 5], autorange=False, zeroline=True),\n",
    "        yaxis = dict(range=[-5, 5], autorange=False, zeroline=True),\n",
    "        zaxis = dict(range=[-5, 5], autorange=False, zeroline=True),\n",
    "        aspectmode = 'cube',\n",
    "        camera = dict(center=dict(x=0,y=0,z=0),eye=dict(x=1,y=-1,z=1))\n",
    "                ),\n",
    "    plot_bgcolor='rgb(255, 255, 255)'\n",
    ")\n",
    "fig=go.Figure(data=data, layout=layout)\n",
    "figure = dict(data=data, layout=layout)\n",
    "py.plot(figure)"
   ]
  },
  {
   "cell_type": "code",
   "execution_count": 30,
   "metadata": {
    "collapsed": true
   },
   "outputs": [],
   "source": [
    "import json\n",
    "with open(\"cubeRotation.json\", 'w') as test_file:\n",
    "    json.dump(figure, test_file, ensure_ascii=False)"
   ]
  }
 ],
 "metadata": {
  "kernelspec": {
   "display_name": "Python 3",
   "language": "python",
   "name": "python3"
  },
  "language_info": {
   "codemirror_mode": {
    "name": "ipython",
    "version": 3
   },
   "file_extension": ".py",
   "mimetype": "text/x-python",
   "name": "python",
   "nbconvert_exporter": "python",
   "pygments_lexer": "ipython3",
   "version": "3.6.2"
  }
 },
 "nbformat": 4,
 "nbformat_minor": 2
}
