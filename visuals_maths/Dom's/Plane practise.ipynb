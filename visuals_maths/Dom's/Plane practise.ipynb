{
 "cells": [
  {
   "cell_type": "code",
   "execution_count": null,
   "metadata": {
    "scrolled": true
   },
   "outputs": [],
   "source": [
    "from plotly.offline import download_plotlyjs,init_notebook_mode,plot,iplot\n",
    "import plotly.graph_objs as go\n",
    "init_notebook_mode(connected=True)"
   ]
  },
  {
   "cell_type": "code",
   "execution_count": null,
   "metadata": {
    "collapsed": true
   },
   "outputs": [],
   "source": [
    "import numpy as np"
   ]
  },
  {
   "cell_type": "code",
   "execution_count": null,
   "metadata": {},
   "outputs": [],
   "source": [
    "z1 = [[6 - i - j for i in range(10)] for j in range(10)]\n",
    "\n",
    "z2 = [[zij+10 for zij in zi] for zi in z1]\n",
    "z3 = [[zij-10 for zij in zi] for zi in z1]\n",
    "\n",
    "iplot([\n",
    "    dict(z=z1, showscale=False, type='surface'),\n",
    "    dict(z=z2, showscale=False, opacity=0.9, type='surface'),\n",
    "    dict(z=z3, showscale=False, opacity=0.9, type='surface')])"
   ]
  },
  {
   "cell_type": "code",
   "execution_count": null,
   "metadata": {
    "collapsed": true
   },
   "outputs": [],
   "source": [
    "def zCoordinates(a, d): #Weirdly, the mesh has to start from 0 and has to be integer type.\n",
    "    z = [[(d - a[0]*i - a[1]*j)/a[2] for i in range(10)] for j in range(10)]\n",
    "    return z\n",
    "\n",
    "def pointIntersect(n1, d1, n2, d2):\n",
    "    point = np.linalg.solve([n1[1:], n2[1:]], [d1, d2])\n",
    "    p = [0, point[0], point[1]]\n",
    "    return p"
   ]
  },
  {
   "cell_type": "code",
   "execution_count": null,
   "metadata": {
    "scrolled": true
   },
   "outputs": [],
   "source": [
    "n1 = [2.0, 3.0, -1.0]\n",
    "d1 = 7.0\n",
    "z1 = zCoordinates(n1, d1)\n",
    "\n",
    "n2 = [1.0, 1.0, 1.0]\n",
    "d2 = 1.0\n",
    "z2 = zCoordinates(n2, d2)\n",
    "\n",
    "gradient = np.cross(n1,n2)\n",
    "\n",
    "point = pointIntersect(n1, d1, n2, d2)\n",
    "\n",
    "print(gradient, point)\n",
    "\n",
    "x3 = [point[0] + gradient[0]* t for t in np.linspace(-5, 5, 11)]\n",
    "y3 = [point[1] + gradient[1]* t for t in np.linspace(-5, 5, 11)]\n",
    "z3 = [point[2] + gradient[2]* t for t in np.linspace(-5, 5, 11)]\n",
    "\n",
    "data = [dict(z=z1,\n",
    "             colorscale='Reds',\n",
    "             showscale=False,\n",
    "             type='surface'\n",
    "            ),\n",
    "        dict(z=z2,\n",
    "             colorscale='Blues',\n",
    "             showscale=False,\n",
    "             type='surface'),\n",
    "        go.Scatter3d(x = x3,\n",
    "                     y = y3,\n",
    "                     z = z3,\n",
    "                     mode = 'lines'\n",
    "                    )\n",
    "       ]\n",
    "\n",
    "trace1 = dict(z=z1,\n",
    "              colorscale='Reds',\n",
    "              showscale=False,\n",
    "              type='surface')\n",
    "\n",
    "trace2 = dict(z=z2,\n",
    "              colorscale='Blues',\n",
    "              showscale=False,\n",
    "              type='surface')\n",
    "\n",
    "trace3 = go.Scatter3d(x = x3,\n",
    "                      y = y3,\n",
    "                      z = z3,\n",
    "                      mode = 'lines')\n",
    "data = []\n",
    "data.append({\"name\": str('Plane 1'), \"data\": [trace1]})\n",
    "data.append({\"name\": str('Plane 2'), \"data\": [trace2]})\n",
    "data.append({\"name\": str('Line'), \"data\": [trace3]})\n",
    "\n",
    "layout = go.Layout(\n",
    "title=\"3D Planes Intersection\",\n",
    "xaxis=dict(title='x-axis'),\n",
    "yaxis=dict(title='y-axis'))\n",
    "\n",
    "figure = go.Figure(data=[trace1, trace2, trace3], layout=layout)\n",
    "plot(figure)"
   ]
  },
  {
   "cell_type": "code",
   "execution_count": null,
   "metadata": {
    "collapsed": true
   },
   "outputs": [],
   "source": [
    "import json"
   ]
  },
  {
   "cell_type": "code",
   "execution_count": null,
   "metadata": {
    "collapsed": true
   },
   "outputs": [],
   "source": [
    "with open(\"data_dk.json\", 'w') as test_file:\n",
    "    json.dump(data, test_file, ensure_ascii=False)"
   ]
  },
  {
   "cell_type": "code",
   "execution_count": null,
   "metadata": {
    "collapsed": true
   },
   "outputs": [],
   "source": []
  }
 ],
 "metadata": {
  "kernelspec": {
   "display_name": "Python 3",
   "language": "python",
   "name": "python3"
  },
  "language_info": {
   "codemirror_mode": {
    "name": "ipython",
    "version": 3
   },
   "file_extension": ".py",
   "mimetype": "text/x-python",
   "name": "python",
   "nbconvert_exporter": "python",
   "pygments_lexer": "ipython3",
   "version": "3.6.2"
  }
 },
 "nbformat": 4,
 "nbformat_minor": 2
}
