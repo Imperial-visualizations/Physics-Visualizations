{
 "cells": [
  {
   "cell_type": "code",
   "execution_count": 20,
   "metadata": {},
   "outputs": [
    {
     "data": {
      "text/html": [
       "<script>requirejs.config({paths: { 'plotly': ['https://cdn.plot.ly/plotly-latest.min']},});if(!window.Plotly) {{require(['plotly'],function(plotly) {window.Plotly=plotly;});}}</script>"
      ],
      "text/vnd.plotly.v1+html": [
       "<script>requirejs.config({paths: { 'plotly': ['https://cdn.plot.ly/plotly-latest.min']},});if(!window.Plotly) {{require(['plotly'],function(plotly) {window.Plotly=plotly;});}}</script>"
      ]
     },
     "metadata": {},
     "output_type": "display_data"
    }
   ],
   "source": [
    "import numpy as np\n",
    "from scipy.integrate import tplquad,dblquad\n",
    "from plotly import __version__\n",
    "from plotly.offline import download_plotlyjs,init_notebook_mode,plot,iplot\n",
    "import plotly.graph_objs as go\n",
    "from ipywidgets import interact, interactive, fixed, interact_manual\n",
    "import ipywidgets as widgets\n",
    "init_notebook_mode(connected=True)\n",
    "k = 8.987551E9"
   ]
  },
  {
   "cell_type": "code",
   "execution_count": 21,
   "metadata": {
    "collapsed": true
   },
   "outputs": [],
   "source": [
    "#outputs force element in direction i, given coulomb's constant k, test charge position p, and density rho for a sphere\n",
    "def Force_element_sphere(r,theta,phi):\n",
    "    r_vector = np.array([r*np.sin(phi)*np.cos(theta),r*np.sin(phi)*np.sin(theta),r*np.cos(phi)])\n",
    "    distance= p-r_vector\n",
    "    dV = np.linalg.norm(r_vector)**2*np.sin(phi)\n",
    "    dq = dV*rho\n",
    "    dF = dq*k*distance/(np.linalg.norm(distance)**3)\n",
    "    return dF[i]\n",
    "\n",
    "def Force_element_disk(r,theta):\n",
    "    r_vector = np.array([r*np.cos(theta),r*np.sin(theta),0])\n",
    "    distance= p-r_vector\n",
    "    dS = np.linalg.norm(r_vector)\n",
    "    dq = dS*rho\n",
    "    dF = dq*k*distance/(np.linalg.norm(distance)**3)\n",
    "    return dF[i]"
   ]
  },
  {
   "cell_type": "code",
   "execution_count": 22,
   "metadata": {
    "collapsed": true
   },
   "outputs": [],
   "source": [
    "class surface: \n",
    "    def __init__(self, density,shape,linear_dim):\n",
    "        self.rho = density\n",
    "        self.s = shape\n",
    "        self.dim= linear_dim"
   ]
  },
  {
   "cell_type": "code",
   "execution_count": 23,
   "metadata": {
    "collapsed": true
   },
   "outputs": [],
   "source": [
    "class test_charge:\n",
    "    def __init__(self,position):\n",
    "        self.p = np.array(position)\n",
    "    def force(self,surface):\n",
    "        u = np.linspace(0, 2 * np.pi, 100)\n",
    "        v = np.linspace(0, np.pi, 100)\n",
    "        F = list()\n",
    "        global p,rho,i\n",
    "        rho = surface.rho\n",
    "        p = self.p\n",
    "        if surface.s == 'sphere':\n",
    "            for j in range(3):\n",
    "                i=j\n",
    "                #tplquad returns the triple integral of the force\n",
    "                F.append(tplquad(Force_element_sphere,0,np.pi,lambda phi: 0, lambda phi: 2*np.pi, lambda phi,theta: 0, lambda phi, theta: surface.dim)[0])\n",
    "            x = surface.dim*np.outer(np.cos(u), np.sin(v))\n",
    "            y = surface.dim*np.outer(np.sin(u), np.sin(v))\n",
    "            z = surface.dim*np.outer(np.ones(np.size(u)), np.cos(v))\n",
    "        elif surface.s=='disk':\n",
    "            for j in range(3):\n",
    "                i=j\n",
    "                #tplquad returns the triple integral of the force\n",
    "                F.append(dblquad(Force_element_disk,0,2*np.pi,lambda theta: 0, lambda theta: surface.dim)[0])\n",
    "            x = surface.dim*np.outer(np.cos(u), np.sin(v))\n",
    "            y = surface.dim*np.outer(np.sin(u), np.sin(v))\n",
    "            z = surface.dim*np.outer(np.ones(np.size(u))*0, np.cos(v)*0)\n",
    "        trace = go.Surface(\n",
    "                colorscale = [[0,'rgb('+str(115-30*rho)+',7,122)'],[1,'rgb('+str(80-30*rho)+',80,230)']],\n",
    "                showscale=False,\n",
    "                z = z,\n",
    "                x= x,\n",
    "                y = y)\n",
    "        trace2 = go.Scatter3d(\n",
    "                x = [p[0],p[0]+F[0]*(0.5*10**(-9))],\n",
    "                y= [p[1],p[1]+F[1]*(0.5*10**(-9))],\n",
    "                z=[p[2],p[2]+F[2]*(0.5*10**(-9))],\n",
    "                marker = dict(\n",
    "                        size=2,\n",
    "                        color= 'rgb(21,117,22)',\n",
    "                        symbol= 'diamond'\n",
    "                        ),\n",
    "                line=dict(\n",
    "                        width=5,\n",
    "                        color='rgb(21,117,22)',\n",
    "                        )\n",
    "                )\n",
    "        trace3 = go.Scatter3d(\n",
    "                x = [p[0]],\n",
    "                y= [p[1]],\n",
    "                z=[p[2]],\n",
    "                marker = dict(\n",
    "                        size=5,\n",
    "                        color= 'rgb(214,11,8)'\n",
    "                        )\n",
    "                )\n",
    "\n",
    "\n",
    "        data = [trace,trace2,trace3]\n",
    "        layout = go.Layout(\n",
    "                width = 900,height=900,\n",
    "                autosize=True,\n",
    "                scene = dict(\n",
    "                xaxis = dict(range=[-5, 5], autorange=False, zeroline=False),\n",
    "                yaxis= dict(range=[-5, 5], autorange=False, zeroline=False),\n",
    "                zaxis=dict(range=[-5, 5], autorange=False, zeroline=False),\n",
    "                aspectmode = 'cube',\n",
    "                camera = dict(center=dict(x=0,y=0,z=0),eye=dict(x=2,y=-2,z=0.1))\n",
    "                ),\n",
    "                title = 'Test Charge',\n",
    "                showlegend = False\n",
    "                )\n",
    "        figure = go.Figure(data=data,layout=layout)\n",
    "        iplot(figure)"
   ]
  },
  {
   "cell_type": "code",
   "execution_count": 24,
   "metadata": {
    "collapsed": true
   },
   "outputs": [],
   "source": [
    "def make_plot(density,shape,linear_dim,position):\n",
    "    sphere1 = surface(density,shape,linear_dim)\n",
    "    test = test_charge(position)\n",
    "    test.force(sphere1)"
   ]
  },
  {
   "cell_type": "code",
   "execution_count": 25,
   "metadata": {},
   "outputs": [
    {
     "data": {
      "application/vnd.jupyter.widget-view+json": {
       "model_id": "c3e9548025184ca2b77612369ba7ae45"
      }
     },
     "metadata": {},
     "output_type": "display_data"
    },
    {
     "data": {
      "text/plain": [
       "<function __main__.make_plot>"
      ]
     },
     "execution_count": 25,
     "metadata": {},
     "output_type": "execute_result"
    }
   ],
   "source": [
    "interact(make_plot,density=(0,2,0.2),shape=['sphere','disk'],linear_dim=(0.,2.,0.2),position=fixed([2.,2.,2.,]))"
   ]
  },
  {
   "cell_type": "code",
   "execution_count": null,
   "metadata": {
    "collapsed": true
   },
   "outputs": [],
   "source": []
  }
 ],
 "metadata": {
  "kernelspec": {
   "display_name": "Python 2",
   "language": "python",
   "name": "python2"
  },
  "language_info": {
   "codemirror_mode": {
    "name": "ipython",
    "version": 2
   },
   "file_extension": ".py",
   "mimetype": "text/x-python",
   "name": "python",
   "nbconvert_exporter": "python",
   "pygments_lexer": "ipython2",
   "version": "2.7.13"
  },
  "widgets": {
   "state": {
    "152426637afa4b2b80b49eb907501848": {
     "views": [
      {
       "cell_index": 5
      }
     ]
    }
   },
   "version": "1.2.0"
  }
 },
 "nbformat": 4,
 "nbformat_minor": 2
}
