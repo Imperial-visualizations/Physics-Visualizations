{
 "cells": [
  {
   "cell_type": "markdown",
   "metadata": {},
   "source": [
    "<img src=\"imperial_logo.png\" width=\"275\" align=\"left\">\n",
    "<p style=\"text-align: right\">\n",
    "    Created by John Doe<br>Email: jd14@ic.ac.uk<br><a>HTML Version (This will be a link)</a>\n",
    "</p>\n",
    "<br>\n",
    "# Lesson Title (H1)\n",
    "\n",
    "\n",
    "## Learning Objectives (H2)\n",
    "* Enter your learning objectives in unordered list form using an asterisk (\\*).\n",
    "* Keep this section concise, details can come later on.\n",
    "* To write text and not code, change cell type to markdown. Markdown is a language to format plain text. It's similar to HTML in a lot of ways.\n",
    "* For an intro/cheatsheet to markdown, I found this site to be pretty good: <a href=\"https://github.com/adam-p/markdown-here/wiki/Markdown-Cheatsheet#lists\">Click Here</a>\n",
    "\n",
    "## Table of Contents (H2)\n",
    "1. [Introduction](#intro) <-- Number your table of contents\n",
    "2. [Adding sections: 'way one'](#sections)\n",
    "    1. [Code](#code) <-- Indent for subsections\n",
    "    2. [Images](#images)\n",
    "3. [There is some other section here, maybe?](#another)\n",
    "\n",
    "<i>Make sure you are consistent with the actual heading level (number of hashes you put: 1 hash = H1, 2 hases = H2 etc.) and what the Table of Contents has in it. Lesson Title is H1, because it is like \"section zero\". Remember, this is your ultimate means to structure the document and make it easy to follow. It is also advisable that there is a visible link between learning objectives and titles of each section. Try not to go beyond H3, as this would be very confusing in table of contents.</i>\n",
    "    \n",
    "<b>Ensure that this section is all visible on your computer screen, students shouldn't have to scroll down to see the Learning Objectives and Table of Contents.</b>"
   ]
  },
  {
   "cell_type": "markdown",
   "metadata": {},
   "source": [
    "# 1. Introduction (H1)<a id=\"intro\"></a>\n",
    "Give a short introduction/abstract to the topic. This should be very general, i.e. introduce the student to the background of the topic of visualization as well. It would be good to introduce any special notation used here as well. Remember to keep the section heading and the abstract in one cell.\n",
    "\n",
    "Example:\n",
    "\n",
    "Integration is one of many concepts that the foundations of calculus rely upon. We denote an integral with an obsolete version of letter 's', which is: $\\int$. This is because integration evolved from concept of summation, which in Latin is called *summarum*. For example:\n",
    "$$\\int_a^b x^2 \\mathrm{d}x$$ is an integral of $x^2$ from $a$ to $b$.\n",
    "\n",
    "There are three important methods in integration:\n",
    " * way one,\n",
    " * way two,\n",
    " * some other way."
   ]
  },
  {
   "cell_type": "markdown",
   "metadata": {},
   "source": [
    "# 2. Adding sections: 'way one' (H1)<a id=\"sections\"></a>\n",
    "Again a sentence or two for the start of each section outlining what is inside.  Same again, content and heading in one cell. Example:\n",
    "\n",
    "First way is called *integration by **parts***. ... There is a lot of maths involved: $$2+\\int like this or that \\mathrm{d}t$$"
   ]
  },
  {
   "cell_type": "markdown",
   "metadata": {},
   "source": [
    "## 2.A. Code (H2)<a id=\"code\"></a>\n",
    "Any code written should be in a code cell on the notebook but if you want to be able to highlight any function names in your markdown cells use back ticks (  \\`  ).\n",
    "e.g. Check out my function `foo()`."
   ]
  },
  {
   "cell_type": "code",
   "execution_count": null,
   "metadata": {
    "collapsed": true
   },
   "outputs": [],
   "source": [
    "# Ensure you label all your code as clearly as possible\n",
    "def foo():\n",
    "    print(\"Hello World\")\n",
    "\n",
    "# Call foo()\n",
    "foo()"
   ]
  },
  {
   "cell_type": "markdown",
   "metadata": {},
   "source": [
    "## 2.B. Images (H2)<a id=\"images\"></a>\n",
    "To add an image simply use the `<img>` tag and give the relative path using `src=\"relative_path\"`"
   ]
  },
  {
   "cell_type": "markdown",
   "metadata": {
    "collapsed": true
   },
   "source": [
    "# 3. There is some other section here, maybe? (H1)<a id=\"another\"></a>\n",
    "Remember it may not be necessary to make a conclusion, since you have already summarised on the top of the document. For example, if your document is about ways of integration, preseting them should be enough. Repeating something like \"so we have three ways of integration\" is unneccessary. You can, however, add a cheatsheet or a summary/table of methods to show differences and similarities between ways of integration after, not before students learn them."
   ]
  },
  {
   "cell_type": "markdown",
   "metadata": {},
   "source": [
    "*Do not leave empty cells in the end of the document*"
   ]
  }
 ],
 "metadata": {
  "kernelspec": {
   "display_name": "Python 3",
   "language": "python",
   "name": "python3"
  },
  "language_info": {
   "codemirror_mode": {
    "name": "ipython",
    "version": 3
   },
   "file_extension": ".py",
   "mimetype": "text/x-python",
   "name": "python",
   "nbconvert_exporter": "python",
   "pygments_lexer": "ipython3",
   "version": "3.6.1"
  }
 },
 "nbformat": 4,
 "nbformat_minor": 2
}
